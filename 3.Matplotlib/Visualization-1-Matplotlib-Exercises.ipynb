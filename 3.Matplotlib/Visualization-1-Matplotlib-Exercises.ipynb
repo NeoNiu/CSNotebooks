{
 "cells": [
  {
   "cell_type": "markdown",
   "metadata": {},
   "source": [
    "## 可视化第一课（matplotlib）练习\n",
    "\n",
    "####  作业提交说明：\n",
    "- 位置：作业文件统一放置于/0.Teacher/Exercise/Visualization1/下\n",
    "- 文件名：请先复制该notebook文件，并重新命名为(课程名)+(您姓名的全拼)，并按要求完成后保存\n",
    "- 时间：课程结束后的第二天前提交。\n",
    "- 注意：请勿抄袭，移动，修改，删除其他同学和原始空白的练习文件。"
   ]
  },
  {
   "cell_type": "code",
   "execution_count": 2,
   "metadata": {
    "ExecuteTime": {
     "end_time": "2018-11-08T07:34:49.920026Z",
     "start_time": "2018-11-08T07:34:48.451332Z"
    }
   },
   "outputs": [],
   "source": [
    "%matplotlib inline\n",
    "import matplotlib as mpl\n",
    "from matplotlib import pyplot as plt\n",
    "import seaborn as sns"
   ]
  },
  {
   "cell_type": "markdown",
   "metadata": {},
   "source": [
    "## 练习1：航班乘客变化分析\n",
    "* 从seaborn库中载入flights数据并查看表头"
   ]
  },
  {
   "cell_type": "code",
   "execution_count": 3,
   "metadata": {
    "ExecuteTime": {
     "end_time": "2018-11-08T07:34:49.962074Z",
     "start_time": "2018-11-08T07:34:49.921617Z"
    }
   },
   "outputs": [
    {
     "data": {
      "text/html": [
       "<div>\n",
       "<style scoped>\n",
       "    .dataframe tbody tr th:only-of-type {\n",
       "        vertical-align: middle;\n",
       "    }\n",
       "\n",
       "    .dataframe tbody tr th {\n",
       "        vertical-align: top;\n",
       "    }\n",
       "\n",
       "    .dataframe thead th {\n",
       "        text-align: right;\n",
       "    }\n",
       "</style>\n",
       "<table border=\"1\" class=\"dataframe\">\n",
       "  <thead>\n",
       "    <tr style=\"text-align: right;\">\n",
       "      <th></th>\n",
       "      <th>year</th>\n",
       "      <th>month</th>\n",
       "      <th>passengers</th>\n",
       "    </tr>\n",
       "  </thead>\n",
       "  <tbody>\n",
       "    <tr>\n",
       "      <th>0</th>\n",
       "      <td>1949</td>\n",
       "      <td>January</td>\n",
       "      <td>112</td>\n",
       "    </tr>\n",
       "    <tr>\n",
       "      <th>1</th>\n",
       "      <td>1949</td>\n",
       "      <td>February</td>\n",
       "      <td>118</td>\n",
       "    </tr>\n",
       "    <tr>\n",
       "      <th>2</th>\n",
       "      <td>1949</td>\n",
       "      <td>March</td>\n",
       "      <td>132</td>\n",
       "    </tr>\n",
       "    <tr>\n",
       "      <th>3</th>\n",
       "      <td>1949</td>\n",
       "      <td>April</td>\n",
       "      <td>129</td>\n",
       "    </tr>\n",
       "    <tr>\n",
       "      <th>4</th>\n",
       "      <td>1949</td>\n",
       "      <td>May</td>\n",
       "      <td>121</td>\n",
       "    </tr>\n",
       "  </tbody>\n",
       "</table>\n",
       "</div>"
      ],
      "text/plain": [
       "   year     month  passengers\n",
       "0  1949   January         112\n",
       "1  1949  February         118\n",
       "2  1949     March         132\n",
       "3  1949     April         129\n",
       "4  1949       May         121"
      ]
     },
     "execution_count": 3,
     "metadata": {},
     "output_type": "execute_result"
    }
   ],
   "source": [
    "data = sns.load_dataset(\"flights\")\n",
    "data.head()\n",
    "# 年份，月份，乘客数"
   ]
  },
  {
   "cell_type": "markdown",
   "metadata": {},
   "source": [
    "* 分析年度乘客总量变化情况（折线图）"
   ]
  },
  {
   "cell_type": "code",
   "execution_count": 4,
   "metadata": {
    "ExecuteTime": {
     "end_time": "2018-11-08T07:34:49.975708Z",
     "start_time": "2018-11-08T07:34:49.963845Z"
    }
   },
   "outputs": [
    {
     "data": {
      "text/plain": [
       "pandas.core.frame.DataFrame"
      ]
     },
     "execution_count": 4,
     "metadata": {},
     "output_type": "execute_result"
    }
   ],
   "source": [
    "type(data.groupby('year')[['passengers']].sum())"
   ]
  },
  {
   "cell_type": "code",
   "execution_count": 5,
   "metadata": {
    "ExecuteTime": {
     "end_time": "2018-11-08T07:34:49.982039Z",
     "start_time": "2018-11-08T07:34:49.977355Z"
    }
   },
   "outputs": [
    {
     "data": {
      "text/plain": [
       "pandas.core.series.Series"
      ]
     },
     "execution_count": 5,
     "metadata": {},
     "output_type": "execute_result"
    }
   ],
   "source": [
    "type(data.groupby('year')['passengers'].sum())"
   ]
  },
  {
   "cell_type": "code",
   "execution_count": 6,
   "metadata": {
    "ExecuteTime": {
     "end_time": "2018-11-08T07:34:50.190399Z",
     "start_time": "2018-11-08T07:34:49.984055Z"
    }
   },
   "outputs": [
    {
     "data": {
      "text/plain": [
       "<matplotlib.axes._subplots.AxesSubplot at 0x1a1e483b70>"
      ]
     },
     "execution_count": 6,
     "metadata": {},
     "output_type": "execute_result"
    },
    {
     "data": {
      "image/png": "[encoded data removed]",
      "text/plain": [
       "<matplotlib.figure.Figure at 0x1a1e4835c0>"
      ]
     },
     "metadata": {},
     "output_type": "display_data"
    }
   ],
   "source": [
    "data.groupby('year')[['passengers']].sum().plot()"
   ]
  },
  {
   "cell_type": "markdown",
   "metadata": {},
   "source": [
    "* 分析乘客在一年中各月份的分布（柱状图）"
   ]
  },
  {
   "cell_type": "code",
   "execution_count": 7,
   "metadata": {
    "ExecuteTime": {
     "end_time": "2018-11-08T07:34:50.397850Z",
     "start_time": "2018-11-08T07:34:50.192699Z"
    }
   },
   "outputs": [
    {
     "data": {
      "text/plain": [
       "<matplotlib.axes._subplots.AxesSubplot at 0x1a1e72ca90>"
      ]
     },
     "execution_count": 7,
     "metadata": {},
     "output_type": "execute_result"
    },
    {
     "data": {
      "image/png": "[encoded data removed]",
      "text/plain": [
       "<matplotlib.figure.Figure at 0x1a1e7224e0>"
      ]
     },
     "metadata": {},
     "output_type": "display_data"
    }
   ],
   "source": [
    "data.groupby('month')['passengers'].sum().plot(kind = 'bar')"
   ]
  },
  {
   "cell_type": "markdown",
   "metadata": {},
   "source": [
    "## 练习2：鸢尾花花型尺寸分析\n",
    "\n",
    "* 从seaborn库中载入flights数据并查看表头"
   ]
  },
  {
   "cell_type": "code",
   "execution_count": 8,
   "metadata": {
    "ExecuteTime": {
     "end_time": "2018-11-08T07:34:50.416434Z",
     "start_time": "2018-11-08T07:34:50.399926Z"
    }
   },
   "outputs": [
    {
     "data": {
      "text/html": [
       "<div>\n",
       "<style scoped>\n",
       "    .dataframe tbody tr th:only-of-type {\n",
       "        vertical-align: middle;\n",
       "    }\n",
       "\n",
       "    .dataframe tbody tr th {\n",
       "        vertical-align: top;\n",
       "    }\n",
       "\n",
       "    .dataframe thead th {\n",
       "        text-align: right;\n",
       "    }\n",
       "</style>\n",
       "<table border=\"1\" class=\"dataframe\">\n",
       "  <thead>\n",
       "    <tr style=\"text-align: right;\">\n",
       "      <th></th>\n",
       "      <th>sepal_length</th>\n",
       "      <th>sepal_width</th>\n",
       "      <th>petal_length</th>\n",
       "      <th>petal_width</th>\n",
       "      <th>species</th>\n",
       "    </tr>\n",
       "  </thead>\n",
       "  <tbody>\n",
       "    <tr>\n",
       "      <th>0</th>\n",
       "      <td>5.1</td>\n",
       "      <td>3.5</td>\n",
       "      <td>1.4</td>\n",
       "      <td>0.2</td>\n",
       "      <td>setosa</td>\n",
       "    </tr>\n",
       "    <tr>\n",
       "      <th>1</th>\n",
       "      <td>4.9</td>\n",
       "      <td>3.0</td>\n",
       "      <td>1.4</td>\n",
       "      <td>0.2</td>\n",
       "      <td>setosa</td>\n",
       "    </tr>\n",
       "    <tr>\n",
       "      <th>2</th>\n",
       "      <td>4.7</td>\n",
       "      <td>3.2</td>\n",
       "      <td>1.3</td>\n",
       "      <td>0.2</td>\n",
       "      <td>setosa</td>\n",
       "    </tr>\n",
       "    <tr>\n",
       "      <th>3</th>\n",
       "      <td>4.6</td>\n",
       "      <td>3.1</td>\n",
       "      <td>1.5</td>\n",
       "      <td>0.2</td>\n",
       "      <td>setosa</td>\n",
       "    </tr>\n",
       "    <tr>\n",
       "      <th>4</th>\n",
       "      <td>5.0</td>\n",
       "      <td>3.6</td>\n",
       "      <td>1.4</td>\n",
       "      <td>0.2</td>\n",
       "      <td>setosa</td>\n",
       "    </tr>\n",
       "  </tbody>\n",
       "</table>\n",
       "</div>"
      ],
      "text/plain": [
       "   sepal_length  sepal_width  petal_length  petal_width species\n",
       "0           5.1          3.5           1.4          0.2  setosa\n",
       "1           4.9          3.0           1.4          0.2  setosa\n",
       "2           4.7          3.2           1.3          0.2  setosa\n",
       "3           4.6          3.1           1.5          0.2  setosa\n",
       "4           5.0          3.6           1.4          0.2  setosa"
      ]
     },
     "execution_count": 8,
     "metadata": {},
     "output_type": "execute_result"
    }
   ],
   "source": [
    "data = sns.load_dataset(\"iris\")\n",
    "data.head()\n",
    "# 萼片长度，萼片宽度，花瓣长度，花瓣宽度，种类"
   ]
  },
  {
   "cell_type": "markdown",
   "metadata": {},
   "source": [
    "* 萼片（sepal）和花瓣（petal）的大小关系（散点图）"
   ]
  },
  {
   "cell_type": "code",
   "execution_count": 9,
   "metadata": {
    "ExecuteTime": {
     "end_time": "2018-11-08T07:34:50.609937Z",
     "start_time": "2018-11-08T07:34:50.418691Z"
    }
   },
   "outputs": [
    {
     "data": {
      "image/png": "[encoded data removed]",
      "text/plain": [
       "<matplotlib.figure.Figure at 0x1a1e7983c8>"
      ]
     },
     "metadata": {},
     "output_type": "display_data"
    }
   ],
   "source": [
    "mpl.rc('figure',figsize = (8,6))\n",
    "fig,axes = plt.subplots()\n",
    "def speal_petal(data,axes,title):\n",
    "    axes.scatter(data['sepal_length'], data['petal_length'])\n",
    "    axes.scatter(data['sepal_length'], data['petal_width'])\n",
    "    axes.scatter(data['sepal_width'], data['petal_length'])\n",
    "    axes.scatter(data['sepal_width'], data['petal_width'])\n",
    "    axes.set_title(title)\n",
    "speal_petal(data,axes,'speal and petal')"
   ]
  },
  {
   "cell_type": "code",
   "execution_count": 10,
   "metadata": {
    "ExecuteTime": {
     "end_time": "2018-11-08T07:34:50.784108Z",
     "start_time": "2018-11-08T07:34:50.611762Z"
    }
   },
   "outputs": [
    {
     "data": {
      "text/plain": [
       "<matplotlib.collections.PathCollection at 0x1a1e9f2f98>"
      ]
     },
     "execution_count": 10,
     "metadata": {},
     "output_type": "execute_result"
    },
    {
     "data": {
      "image/png": "[encoded data removed]",
      "text/plain": [
       "<matplotlib.figure.Figure at 0x1a1e72cd68>"
      ]
     },
     "metadata": {},
     "output_type": "display_data"
    }
   ],
   "source": [
    "mpl.rc('figure',figsize = (8,6))\n",
    "fig,axes = plt.subplots()\n",
    "axes.scatter(data['sepal_length'], data['petal_width'])"
   ]
  },
  {
   "cell_type": "markdown",
   "metadata": {},
   "source": [
    "* 不同种类（species）鸢尾花萼片和花瓣的大小关系（分类散点子图）"
   ]
  },
  {
   "cell_type": "code",
   "execution_count": 11,
   "metadata": {
    "ExecuteTime": {
     "end_time": "2018-11-08T07:34:51.167922Z",
     "start_time": "2018-11-08T07:34:50.786039Z"
    }
   },
   "outputs": [
    {
     "data": {
      "image/png": "[encoded data removed]",
      "text/plain": [
       "<matplotlib.figure.Figure at 0x1a1e9a2ac8>"
      ]
     },
     "metadata": {},
     "output_type": "display_data"
    }
   ],
   "source": [
    "mpl.rc('figure', figsize=(18,5))\n",
    "ax = []\n",
    "fig, ax = plt.subplots(1,3)\n",
    "species = data['species'].unique()\n",
    "for i in range(len(species)):\n",
    "    data_species = data.loc[data['species']==species[i],:]\n",
    "    speal_petal(data_species,ax[i],species[i])\n",
    "    "
   ]
  },
  {
   "cell_type": "markdown",
   "metadata": {},
   "source": [
    "* 不同种类鸢尾花萼片和花瓣大小的分布情况（柱状图或者箱式图）"
   ]
  },
  {
   "cell_type": "code",
   "execution_count": 12,
   "metadata": {
    "ExecuteTime": {
     "end_time": "2018-11-08T07:34:51.378451Z",
     "start_time": "2018-11-08T07:34:51.170076Z"
    }
   },
   "outputs": [
    {
     "data": {
      "text/plain": [
       "<matplotlib.axes._subplots.AxesSubplot at 0x1a1ec058d0>"
      ]
     },
     "execution_count": 12,
     "metadata": {},
     "output_type": "execute_result"
    },
    {
     "data": {
      "image/png": "[encoded data removed]",
      "text/plain": [
       "<matplotlib.figure.Figure at 0x1a1e9a60f0>"
      ]
     },
     "metadata": {},
     "output_type": "display_data"
    }
   ],
   "source": [
    "mpl.rc('figure', figsize=(10,10))\n",
    "data.loc[data['species']=='setosa',:].plot.box(title='setosa')"
   ]
  },
  {
   "cell_type": "code",
   "execution_count": 13,
   "metadata": {
    "ExecuteTime": {
     "end_time": "2018-11-08T07:34:51.388482Z",
     "start_time": "2018-11-08T07:34:51.382196Z"
    }
   },
   "outputs": [
    {
     "data": {
      "text/plain": [
       "pandas.core.series.Series"
      ]
     },
     "execution_count": 13,
     "metadata": {},
     "output_type": "execute_result"
    }
   ],
   "source": [
    "type(data['species']=='setosa')"
   ]
  },
  {
   "cell_type": "markdown",
   "metadata": {},
   "source": [
    "## 练习3：餐厅小费情况分析\n"
   ]
  },
  {
   "cell_type": "code",
   "execution_count": 14,
   "metadata": {
    "ExecuteTime": {
     "end_time": "2018-11-08T07:34:51.408171Z",
     "start_time": "2018-11-08T07:34:51.390541Z"
    }
   },
   "outputs": [
    {
     "data": {
      "text/html": [
       "<div>\n",
       "<style scoped>\n",
       "    .dataframe tbody tr th:only-of-type {\n",
       "        vertical-align: middle;\n",
       "    }\n",
       "\n",
       "    .dataframe tbody tr th {\n",
       "        vertical-align: top;\n",
       "    }\n",
       "\n",
       "    .dataframe thead th {\n",
       "        text-align: right;\n",
       "    }\n",
       "</style>\n",
       "<table border=\"1\" class=\"dataframe\">\n",
       "  <thead>\n",
       "    <tr style=\"text-align: right;\">\n",
       "      <th></th>\n",
       "      <th>total_bill</th>\n",
       "      <th>tip</th>\n",
       "      <th>sex</th>\n",
       "      <th>smoker</th>\n",
       "      <th>day</th>\n",
       "      <th>time</th>\n",
       "      <th>size</th>\n",
       "    </tr>\n",
       "  </thead>\n",
       "  <tbody>\n",
       "    <tr>\n",
       "      <th>0</th>\n",
       "      <td>16.99</td>\n",
       "      <td>1.01</td>\n",
       "      <td>Female</td>\n",
       "      <td>No</td>\n",
       "      <td>Sun</td>\n",
       "      <td>Dinner</td>\n",
       "      <td>2</td>\n",
       "    </tr>\n",
       "    <tr>\n",
       "      <th>1</th>\n",
       "      <td>10.34</td>\n",
       "      <td>1.66</td>\n",
       "      <td>Male</td>\n",
       "      <td>No</td>\n",
       "      <td>Sun</td>\n",
       "      <td>Dinner</td>\n",
       "      <td>3</td>\n",
       "    </tr>\n",
       "    <tr>\n",
       "      <th>2</th>\n",
       "      <td>21.01</td>\n",
       "      <td>3.50</td>\n",
       "      <td>Male</td>\n",
       "      <td>No</td>\n",
       "      <td>Sun</td>\n",
       "      <td>Dinner</td>\n",
       "      <td>3</td>\n",
       "    </tr>\n",
       "    <tr>\n",
       "      <th>3</th>\n",
       "      <td>23.68</td>\n",
       "      <td>3.31</td>\n",
       "      <td>Male</td>\n",
       "      <td>No</td>\n",
       "      <td>Sun</td>\n",
       "      <td>Dinner</td>\n",
       "      <td>2</td>\n",
       "    </tr>\n",
       "    <tr>\n",
       "      <th>4</th>\n",
       "      <td>24.59</td>\n",
       "      <td>3.61</td>\n",
       "      <td>Female</td>\n",
       "      <td>No</td>\n",
       "      <td>Sun</td>\n",
       "      <td>Dinner</td>\n",
       "      <td>4</td>\n",
       "    </tr>\n",
       "  </tbody>\n",
       "</table>\n",
       "</div>"
      ],
      "text/plain": [
       "   total_bill   tip     sex smoker  day    time  size\n",
       "0       16.99  1.01  Female     No  Sun  Dinner     2\n",
       "1       10.34  1.66    Male     No  Sun  Dinner     3\n",
       "2       21.01  3.50    Male     No  Sun  Dinner     3\n",
       "3       23.68  3.31    Male     No  Sun  Dinner     2\n",
       "4       24.59  3.61  Female     No  Sun  Dinner     4"
      ]
     },
     "execution_count": 14,
     "metadata": {},
     "output_type": "execute_result"
    }
   ],
   "source": [
    "data = sns.load_dataset(\"tips\")\n",
    "data.head()\n",
    "# 总消费，小费，性别，吸烟与否，就餐星期，就餐时间，就餐人数"
   ]
  },
  {
   "cell_type": "markdown",
   "metadata": {},
   "source": [
    "* 小费和总消费之间的关系（散点图）"
   ]
  },
  {
   "cell_type": "code",
   "execution_count": 15,
   "metadata": {
    "ExecuteTime": {
     "end_time": "2018-11-08T07:34:51.585646Z",
     "start_time": "2018-11-08T07:34:51.411244Z"
    }
   },
   "outputs": [
    {
     "data": {
      "text/plain": [
       "<matplotlib.axes._subplots.AxesSubplot at 0x1a1f040b38>"
      ]
     },
     "execution_count": 15,
     "metadata": {},
     "output_type": "execute_result"
    },
    {
     "data": {
      "image/png": "[encoded data removed]",
      "text/plain": [
       "<matplotlib.figure.Figure at 0x1a1eac9470>"
      ]
     },
     "metadata": {},
     "output_type": "display_data"
    }
   ],
   "source": [
    "mpl.rc('figure',figsize=(8,8))\n",
    "data.plot.scatter(x='total_bill', y='tip', title='total_bill and tip')"
   ]
  },
  {
   "cell_type": "markdown",
   "metadata": {},
   "source": [
    "* 男性顾客和女性顾客，谁更慷慨（分类箱式图）"
   ]
  },
  {
   "cell_type": "code",
   "execution_count": 16,
   "metadata": {
    "ExecuteTime": {
     "end_time": "2018-11-08T07:34:51.782249Z",
     "start_time": "2018-11-08T07:34:51.587408Z"
    }
   },
   "outputs": [
    {
     "name": "stderr",
     "output_type": "stream",
     "text": [
      "/anaconda3/lib/python3.6/site-packages/numpy/core/fromnumeric.py:51: FutureWarning: reshape is deprecated and will raise in a subsequent release. Please use .values.reshape(...) instead\n",
      "  return getattr(obj, method)(*args, **kwds)\n"
     ]
    },
    {
     "data": {
      "text/plain": [
       "{'boxes': [<matplotlib.lines.Line2D at 0x1a1e9a2f28>,\n",
       "  <matplotlib.lines.Line2D at 0x1a1e8f0400>],\n",
       " 'caps': [<matplotlib.lines.Line2D at 0x1a1e8ec470>,\n",
       "  <matplotlib.lines.Line2D at 0x1a1e8da240>,\n",
       "  <matplotlib.lines.Line2D at 0x1a1e7d68d0>,\n",
       "  <matplotlib.lines.Line2D at 0x1a1e8cdf60>],\n",
       " 'fliers': [<matplotlib.lines.Line2D at 0x1a1e8da588>,\n",
       "  <matplotlib.lines.Line2D at 0x1a1e867048>],\n",
       " 'means': [],\n",
       " 'medians': [<matplotlib.lines.Line2D at 0x1a1e8da710>,\n",
       "  <matplotlib.lines.Line2D at 0x1a1e7a5208>],\n",
       " 'whiskers': [<matplotlib.lines.Line2D at 0x1a1e8ec860>,\n",
       "  <matplotlib.lines.Line2D at 0x1a1e8ecf28>,\n",
       "  <matplotlib.lines.Line2D at 0x1a1e8f0438>,\n",
       "  <matplotlib.lines.Line2D at 0x1a1e8f02e8>]}"
      ]
     },
     "execution_count": 16,
     "metadata": {},
     "output_type": "execute_result"
    },
    {
     "data": {
      "image/png": "[encoded data removed]",
      "text/plain": [
       "<matplotlib.figure.Figure at 0x10d99a5c0>"
      ]
     },
     "metadata": {},
     "output_type": "display_data"
    }
   ],
   "source": [
    "mpl.rc('figure', figsize=(6,6))\n",
    "plt.boxplot([data.loc[data['sex'] == 'Male','tip'], data.loc[data.sex=='Female', 'tip']], labels = ['Male', 'Female'])"
   ]
  },
  {
   "cell_type": "markdown",
   "metadata": {},
   "source": [
    "* 抽烟与否是否会对小费金额产生影响（分类箱式图）"
   ]
  },
  {
   "cell_type": "code",
   "execution_count": 17,
   "metadata": {
    "ExecuteTime": {
     "end_time": "2018-11-08T07:34:51.993829Z",
     "start_time": "2018-11-08T07:34:51.784875Z"
    }
   },
   "outputs": [
    {
     "name": "stderr",
     "output_type": "stream",
     "text": [
      "/anaconda3/lib/python3.6/site-packages/numpy/core/fromnumeric.py:51: FutureWarning: reshape is deprecated and will raise in a subsequent release. Please use .values.reshape(...) instead\n",
      "  return getattr(obj, method)(*args, **kwds)\n"
     ]
    },
    {
     "data": {
      "text/plain": [
       "{'boxes': [<matplotlib.lines.Line2D at 0x1a1f3e1c50>,\n",
       "  <matplotlib.lines.Line2D at 0x1a1f3f2748>],\n",
       " 'caps': [<matplotlib.lines.Line2D at 0x1a1f3ea6a0>,\n",
       "  <matplotlib.lines.Line2D at 0x1a1f3eaac8>,\n",
       "  <matplotlib.lines.Line2D at 0x1a1f3fb438>,\n",
       "  <matplotlib.lines.Line2D at 0x1a1f3fb860>],\n",
       " 'fliers': [<matplotlib.lines.Line2D at 0x1a1f3f2358>,\n",
       "  <matplotlib.lines.Line2D at 0x1a1f4040f0>],\n",
       " 'means': [],\n",
       " 'medians': [<matplotlib.lines.Line2D at 0x1a1f3eaef0>,\n",
       "  <matplotlib.lines.Line2D at 0x1a1f3fbc88>],\n",
       " 'whiskers': [<matplotlib.lines.Line2D at 0x1a1f3e1da0>,\n",
       "  <matplotlib.lines.Line2D at 0x1a1f3ea278>,\n",
       "  <matplotlib.lines.Line2D at 0x1a1f3f2ba8>,\n",
       "  <matplotlib.lines.Line2D at 0x1a1f3f2fd0>]}"
      ]
     },
     "execution_count": 17,
     "metadata": {},
     "output_type": "execute_result"
    },
    {
     "data": {
      "image/png": "[encoded data removed]",
      "text/plain": [
       "<matplotlib.figure.Figure at 0x1a1e9adbe0>"
      ]
     },
     "metadata": {},
     "output_type": "display_data"
    }
   ],
   "source": [
    "plt.boxplot([data.loc[data.smoker=='Yes', 'tip'], data.loc[data.smoker == 'No', 'tip']], labels = ['Yes','No'])\n"
   ]
  },
  {
   "cell_type": "markdown",
   "metadata": {},
   "source": [
    "* 工作日和周末，什么时候顾客给的小费更慷慨（分类箱式图）"
   ]
  },
  {
   "cell_type": "code",
   "execution_count": 18,
   "metadata": {
    "ExecuteTime": {
     "end_time": "2018-11-08T07:34:52.196820Z",
     "start_time": "2018-11-08T07:34:51.997908Z"
    }
   },
   "outputs": [
    {
     "name": "stderr",
     "output_type": "stream",
     "text": [
      "/anaconda3/lib/python3.6/site-packages/numpy/core/fromnumeric.py:51: FutureWarning: reshape is deprecated and will raise in a subsequent release. Please use .values.reshape(...) instead\n",
      "  return getattr(obj, method)(*args, **kwds)\n"
     ]
    },
    {
     "data": {
      "text/plain": [
       "{'boxes': [<matplotlib.lines.Line2D at 0x1a1f453e48>,\n",
       "  <matplotlib.lines.Line2D at 0x1a1f462940>],\n",
       " 'caps': [<matplotlib.lines.Line2D at 0x1a1f45b898>,\n",
       "  <matplotlib.lines.Line2D at 0x1a1f45bcc0>,\n",
       "  <matplotlib.lines.Line2D at 0x1a1f46c630>,\n",
       "  <matplotlib.lines.Line2D at 0x1a1f46ca58>],\n",
       " 'fliers': [<matplotlib.lines.Line2D at 0x1a1f462550>,\n",
       "  <matplotlib.lines.Line2D at 0x1a1f4742e8>],\n",
       " 'means': [],\n",
       " 'medians': [<matplotlib.lines.Line2D at 0x1a1f462128>,\n",
       "  <matplotlib.lines.Line2D at 0x1a1f46ce80>],\n",
       " 'whiskers': [<matplotlib.lines.Line2D at 0x1a1f453f98>,\n",
       "  <matplotlib.lines.Line2D at 0x1a1f45b470>,\n",
       "  <matplotlib.lines.Line2D at 0x1a1f462da0>,\n",
       "  <matplotlib.lines.Line2D at 0x1a1f46c208>]}"
      ]
     },
     "execution_count": 18,
     "metadata": {},
     "output_type": "execute_result"
    },
    {
     "data": {
      "image/png": "[encoded data removed]",
      "text/plain": [
       "<matplotlib.figure.Figure at 0x1a1e992ac8>"
      ]
     },
     "metadata": {},
     "output_type": "display_data"
    }
   ],
   "source": [
    "plt.boxplot([\n",
    "    data.loc[(data.day=='Sun')| (data.day=='Sat'), 'tip'],\n",
    "    data.loc[(data.day!='Sun')& (data.day!='Sat'), 'tip']\n",
    "], labels = ['Weekend', 'Weekday'])"
   ]
  },
  {
   "cell_type": "markdown",
   "metadata": {},
   "source": [
    "* 午饭和晚饭，哪一顿顾客更愿意给小费（分类箱式图）"
   ]
  },
  {
   "cell_type": "code",
   "execution_count": 19,
   "metadata": {
    "ExecuteTime": {
     "end_time": "2018-11-08T07:34:52.451711Z",
     "start_time": "2018-11-08T07:34:52.220362Z"
    }
   },
   "outputs": [
    {
     "name": "stderr",
     "output_type": "stream",
     "text": [
      "/anaconda3/lib/python3.6/site-packages/numpy/core/fromnumeric.py:51: FutureWarning: reshape is deprecated and will raise in a subsequent release. Please use .values.reshape(...) instead\n",
      "  return getattr(obj, method)(*args, **kwds)\n"
     ]
    },
    {
     "data": {
      "text/plain": [
       "{'boxes': [<matplotlib.lines.Line2D at 0x1a1f4c6470>,\n",
       "  <matplotlib.lines.Line2D at 0x1a1f4cbf28>],\n",
       " 'caps': [<matplotlib.lines.Line2D at 0x1a1f4c6e80>,\n",
       "  <matplotlib.lines.Line2D at 0x1a1f4cb2e8>,\n",
       "  <matplotlib.lines.Line2D at 0x1a1f559c18>,\n",
       "  <matplotlib.lines.Line2D at 0x1a1f562080>],\n",
       " 'fliers': [<matplotlib.lines.Line2D at 0x1a1f4cbb38>,\n",
       "  <matplotlib.lines.Line2D at 0x1a1f5628d0>],\n",
       " 'means': [],\n",
       " 'medians': [<matplotlib.lines.Line2D at 0x1a1f4cb710>,\n",
       "  <matplotlib.lines.Line2D at 0x1a1f5624a8>],\n",
       " 'whiskers': [<matplotlib.lines.Line2D at 0x1a1f4c65c0>,\n",
       "  <matplotlib.lines.Line2D at 0x1a1f4c6a58>,\n",
       "  <matplotlib.lines.Line2D at 0x1a1f5593c8>,\n",
       "  <matplotlib.lines.Line2D at 0x1a1f5597f0>]}"
      ]
     },
     "execution_count": 19,
     "metadata": {},
     "output_type": "execute_result"
    },
    {
     "data": {
      "image/png": "[encoded data removed]",
      "text/plain": [
       "<matplotlib.figure.Figure at 0x1a1e861e48>"
      ]
     },
     "metadata": {},
     "output_type": "display_data"
    }
   ],
   "source": [
    "plt.boxplot([\n",
    "    data.loc[data.time == 'Lunch', 'tip'],\n",
    "    data.loc[data.time == 'Dinner', 'tip']\n",
    "], labels = ['Lunch', 'Dinner'])"
   ]
  },
  {
   "cell_type": "markdown",
   "metadata": {},
   "source": [
    "* 就餐人数是否会对慷慨度产生影响（分类箱式图）"
   ]
  },
  {
   "cell_type": "code",
   "execution_count": 20,
   "metadata": {
    "ExecuteTime": {
     "end_time": "2018-11-08T07:34:52.688363Z",
     "start_time": "2018-11-08T07:34:52.454709Z"
    }
   },
   "outputs": [
    {
     "name": "stderr",
     "output_type": "stream",
     "text": [
      "/anaconda3/lib/python3.6/site-packages/numpy/core/fromnumeric.py:51: FutureWarning: reshape is deprecated and will raise in a subsequent release. Please use .values.reshape(...) instead\n",
      "  return getattr(obj, method)(*args, **kwds)\n"
     ]
    },
    {
     "data": {
      "text/plain": [
       "{'boxes': [<matplotlib.lines.Line2D at 0x1a1f641048>,\n",
       "  <matplotlib.lines.Line2D at 0x1a1f64bb00>,\n",
       "  <matplotlib.lines.Line2D at 0x1a1f65c898>,\n",
       "  <matplotlib.lines.Line2D at 0x1a1f66c630>,\n",
       "  <matplotlib.lines.Line2D at 0x1a1f67d3c8>,\n",
       "  <matplotlib.lines.Line2D at 0x1a1f68f160>],\n",
       " 'caps': [<matplotlib.lines.Line2D at 0x1a1f641a58>,\n",
       "  <matplotlib.lines.Line2D at 0x1a1f641e80>,\n",
       "  <matplotlib.lines.Line2D at 0x1a1f6517f0>,\n",
       "  <matplotlib.lines.Line2D at 0x1a1f651c18>,\n",
       "  <matplotlib.lines.Line2D at 0x1a1f665588>,\n",
       "  <matplotlib.lines.Line2D at 0x1a1f6659b0>,\n",
       "  <matplotlib.lines.Line2D at 0x1a1f676320>,\n",
       "  <matplotlib.lines.Line2D at 0x1a1f676748>,\n",
       "  <matplotlib.lines.Line2D at 0x1a1f6880b8>,\n",
       "  <matplotlib.lines.Line2D at 0x1a1f6884e0>,\n",
       "  <matplotlib.lines.Line2D at 0x1a1f68fe10>,\n",
       "  <matplotlib.lines.Line2D at 0x1a1f698278>],\n",
       " 'fliers': [<matplotlib.lines.Line2D at 0x1a1f64b710>,\n",
       "  <matplotlib.lines.Line2D at 0x1a1f65c4a8>,\n",
       "  <matplotlib.lines.Line2D at 0x1a1f66c240>,\n",
       "  <matplotlib.lines.Line2D at 0x1a1f676f98>,\n",
       "  <matplotlib.lines.Line2D at 0x1a1f688d30>,\n",
       "  <matplotlib.lines.Line2D at 0x1a1f698ac8>],\n",
       " 'means': [],\n",
       " 'medians': [<matplotlib.lines.Line2D at 0x1a1f64b2e8>,\n",
       "  <matplotlib.lines.Line2D at 0x1a1f65c080>,\n",
       "  <matplotlib.lines.Line2D at 0x1a1f665dd8>,\n",
       "  <matplotlib.lines.Line2D at 0x1a1f676b70>,\n",
       "  <matplotlib.lines.Line2D at 0x1a1f688908>,\n",
       "  <matplotlib.lines.Line2D at 0x1a1f6986a0>],\n",
       " 'whiskers': [<matplotlib.lines.Line2D at 0x1a1f641198>,\n",
       "  <matplotlib.lines.Line2D at 0x1a1f641630>,\n",
       "  <matplotlib.lines.Line2D at 0x1a1f64bf60>,\n",
       "  <matplotlib.lines.Line2D at 0x1a1f6513c8>,\n",
       "  <matplotlib.lines.Line2D at 0x1a1f65ccf8>,\n",
       "  <matplotlib.lines.Line2D at 0x1a1f665160>,\n",
       "  <matplotlib.lines.Line2D at 0x1a1f66ca90>,\n",
       "  <matplotlib.lines.Line2D at 0x1a1f66ceb8>,\n",
       "  <matplotlib.lines.Line2D at 0x1a1f67d828>,\n",
       "  <matplotlib.lines.Line2D at 0x1a1f67dc50>,\n",
       "  <matplotlib.lines.Line2D at 0x1a1f68f5c0>,\n",
       "  <matplotlib.lines.Line2D at 0x1a1f68f9e8>]}"
      ]
     },
     "execution_count": 20,
     "metadata": {},
     "output_type": "execute_result"
    },
    {
     "data": {
      "image/png": "[encoded data removed]",
      "text/plain": [
       "<matplotlib.figure.Figure at 0x1a1f4299e8>"
      ]
     },
     "metadata": {},
     "output_type": "display_data"
    }
   ],
   "source": [
    "p_count = data['size'].unique()\n",
    "p_count.sort()\n",
    "p_count\n",
    "d =[]\n",
    "l =[]\n",
    "for i in p_count:\n",
    "    d.append(data.loc[data['size']==i, 'tip'])\n",
    "    l.append(i)\n",
    "plt.boxplot(d,labels=l)\n"
   ]
  },
  {
   "cell_type": "markdown",
   "metadata": {},
   "source": [
    "* 性别+抽烟的组合因素对慷慨度的影响（分组柱状图）"
   ]
  },
  {
   "cell_type": "code",
   "execution_count": 21,
   "metadata": {
    "ExecuteTime": {
     "end_time": "2018-11-08T07:34:52.930163Z",
     "start_time": "2018-11-08T07:34:52.690351Z"
    }
   },
   "outputs": [
    {
     "name": "stderr",
     "output_type": "stream",
     "text": [
      "/anaconda3/lib/python3.6/site-packages/numpy/core/fromnumeric.py:51: FutureWarning: reshape is deprecated and will raise in a subsequent release. Please use .values.reshape(...) instead\n",
      "  return getattr(obj, method)(*args, **kwds)\n"
     ]
    },
    {
     "data": {
      "text/plain": [
       "{'boxes': [<matplotlib.lines.Line2D at 0x1a1f795128>,\n",
       "  <matplotlib.lines.Line2D at 0x1a1f79d400>,\n",
       "  <matplotlib.lines.Line2D at 0x1a1f7b1198>,\n",
       "  <matplotlib.lines.Line2D at 0x1a1f7baef0>],\n",
       " 'caps': [<matplotlib.lines.Line2D at 0x1a1f795b38>,\n",
       "  <matplotlib.lines.Line2D at 0x1a1f795f60>,\n",
       "  <matplotlib.lines.Line2D at 0x1a1f7a80f0>,\n",
       "  <matplotlib.lines.Line2D at 0x1a1f7a8518>,\n",
       "  <matplotlib.lines.Line2D at 0x1a1f7b1e48>,\n",
       "  <matplotlib.lines.Line2D at 0x1a1f7ba2b0>,\n",
       "  <matplotlib.lines.Line2D at 0x1a1f7c3be0>,\n",
       "  <matplotlib.lines.Line2D at 0x1a1f7c9048>],\n",
       " 'fliers': [<matplotlib.lines.Line2D at 0x1a1f788358>,\n",
       "  <matplotlib.lines.Line2D at 0x1a1f7a8d68>,\n",
       "  <matplotlib.lines.Line2D at 0x1a1f7bab00>,\n",
       "  <matplotlib.lines.Line2D at 0x1a1f7c9898>],\n",
       " 'means': [],\n",
       " 'medians': [<matplotlib.lines.Line2D at 0x1a1f78fb70>,\n",
       "  <matplotlib.lines.Line2D at 0x1a1f7a8940>,\n",
       "  <matplotlib.lines.Line2D at 0x1a1f7ba6d8>,\n",
       "  <matplotlib.lines.Line2D at 0x1a1f7c9470>],\n",
       " 'whiskers': [<matplotlib.lines.Line2D at 0x1a1f795278>,\n",
       "  <matplotlib.lines.Line2D at 0x1a1f795710>,\n",
       "  <matplotlib.lines.Line2D at 0x1a1f79d860>,\n",
       "  <matplotlib.lines.Line2D at 0x1a1f79dc88>,\n",
       "  <matplotlib.lines.Line2D at 0x1a1f7b15f8>,\n",
       "  <matplotlib.lines.Line2D at 0x1a1f7b1a20>,\n",
       "  <matplotlib.lines.Line2D at 0x1a1f7c3390>,\n",
       "  <matplotlib.lines.Line2D at 0x1a1f7c37b8>]}"
      ]
     },
     "execution_count": 21,
     "metadata": {},
     "output_type": "execute_result"
    },
    {
     "data": {
      "image/png": "[encoded data removed]",
      "text/plain": [
       "<matplotlib.figure.Figure at 0x1a1f58b0b8>"
      ]
     },
     "metadata": {},
     "output_type": "display_data"
    }
   ],
   "source": [
    "plt.xticks(rotation = 90)\n",
    "d = []\n",
    "l = []\n",
    "for gender in ['Male','Female']:\n",
    "    for isSmoker in ['Yes','No']:\n",
    "        d.append(data.loc[(data['sex']==gender) & (data['smoker'] == isSmoker) , 'tip'])\n",
    "        l.append(gender + ' '+ ('Non-' if isSmoker == 'No' else '') + 'Smoker')\n",
    "        \n",
    "plt.boxplot(d,labels=l)"
   ]
  },
  {
   "cell_type": "markdown",
   "metadata": {},
   "source": [
    "## 练习4：泰坦尼克号海难幸存状况分析\n",
    "* 载入数据集"
   ]
  },
  {
   "cell_type": "code",
   "execution_count": 22,
   "metadata": {
    "ExecuteTime": {
     "end_time": "2018-11-08T07:34:52.963420Z",
     "start_time": "2018-11-08T07:34:52.932510Z"
    }
   },
   "outputs": [
    {
     "data": {
      "text/html": [
       "<div>\n",
       "<style scoped>\n",
       "    .dataframe tbody tr th:only-of-type {\n",
       "        vertical-align: middle;\n",
       "    }\n",
       "\n",
       "    .dataframe tbody tr th {\n",
       "        vertical-align: top;\n",
       "    }\n",
       "\n",
       "    .dataframe thead th {\n",
       "        text-align: right;\n",
       "    }\n",
       "</style>\n",
       "<table border=\"1\" class=\"dataframe\">\n",
       "  <thead>\n",
       "    <tr style=\"text-align: right;\">\n",
       "      <th></th>\n",
       "      <th>survived</th>\n",
       "      <th>pclass</th>\n",
       "      <th>sex</th>\n",
       "      <th>age</th>\n",
       "      <th>sibsp</th>\n",
       "      <th>parch</th>\n",
       "      <th>fare</th>\n",
       "      <th>embarked</th>\n",
       "      <th>class</th>\n",
       "      <th>who</th>\n",
       "      <th>adult_male</th>\n",
       "      <th>deck</th>\n",
       "      <th>embark_town</th>\n",
       "      <th>alive</th>\n",
       "      <th>alone</th>\n",
       "    </tr>\n",
       "  </thead>\n",
       "  <tbody>\n",
       "    <tr>\n",
       "      <th>0</th>\n",
       "      <td>0</td>\n",
       "      <td>3</td>\n",
       "      <td>male</td>\n",
       "      <td>22.0</td>\n",
       "      <td>1</td>\n",
       "      <td>0</td>\n",
       "      <td>7.2500</td>\n",
       "      <td>S</td>\n",
       "      <td>Third</td>\n",
       "      <td>man</td>\n",
       "      <td>True</td>\n",
       "      <td>NaN</td>\n",
       "      <td>Southampton</td>\n",
       "      <td>no</td>\n",
       "      <td>False</td>\n",
       "    </tr>\n",
       "    <tr>\n",
       "      <th>1</th>\n",
       "      <td>1</td>\n",
       "      <td>1</td>\n",
       "      <td>female</td>\n",
       "      <td>38.0</td>\n",
       "      <td>1</td>\n",
       "      <td>0</td>\n",
       "      <td>71.2833</td>\n",
       "      <td>C</td>\n",
       "      <td>First</td>\n",
       "      <td>woman</td>\n",
       "      <td>False</td>\n",
       "      <td>C</td>\n",
       "      <td>Cherbourg</td>\n",
       "      <td>yes</td>\n",
       "      <td>False</td>\n",
       "    </tr>\n",
       "    <tr>\n",
       "      <th>2</th>\n",
       "      <td>1</td>\n",
       "      <td>3</td>\n",
       "      <td>female</td>\n",
       "      <td>26.0</td>\n",
       "      <td>0</td>\n",
       "      <td>0</td>\n",
       "      <td>7.9250</td>\n",
       "      <td>S</td>\n",
       "      <td>Third</td>\n",
       "      <td>woman</td>\n",
       "      <td>False</td>\n",
       "      <td>NaN</td>\n",
       "      <td>Southampton</td>\n",
       "      <td>yes</td>\n",
       "      <td>True</td>\n",
       "    </tr>\n",
       "    <tr>\n",
       "      <th>3</th>\n",
       "      <td>1</td>\n",
       "      <td>1</td>\n",
       "      <td>female</td>\n",
       "      <td>35.0</td>\n",
       "      <td>1</td>\n",
       "      <td>0</td>\n",
       "      <td>53.1000</td>\n",
       "      <td>S</td>\n",
       "      <td>First</td>\n",
       "      <td>woman</td>\n",
       "      <td>False</td>\n",
       "      <td>C</td>\n",
       "      <td>Southampton</td>\n",
       "      <td>yes</td>\n",
       "      <td>False</td>\n",
       "    </tr>\n",
       "    <tr>\n",
       "      <th>4</th>\n",
       "      <td>0</td>\n",
       "      <td>3</td>\n",
       "      <td>male</td>\n",
       "      <td>35.0</td>\n",
       "      <td>0</td>\n",
       "      <td>0</td>\n",
       "      <td>8.0500</td>\n",
       "      <td>S</td>\n",
       "      <td>Third</td>\n",
       "      <td>man</td>\n",
       "      <td>True</td>\n",
       "      <td>NaN</td>\n",
       "      <td>Southampton</td>\n",
       "      <td>no</td>\n",
       "      <td>True</td>\n",
       "    </tr>\n",
       "  </tbody>\n",
       "</table>\n",
       "</div>"
      ],
      "text/plain": [
       "   survived  pclass     sex   age  sibsp  parch     fare embarked  class  \\\n",
       "0         0       3    male  22.0      1      0   7.2500        S  Third   \n",
       "1         1       1  female  38.0      1      0  71.2833        C  First   \n",
       "2         1       3  female  26.0      0      0   7.9250        S  Third   \n",
       "3         1       1  female  35.0      1      0  53.1000        S  First   \n",
       "4         0       3    male  35.0      0      0   8.0500        S  Third   \n",
       "\n",
       "     who  adult_male deck  embark_town alive  alone  \n",
       "0    man        True  NaN  Southampton    no  False  \n",
       "1  woman       False    C    Cherbourg   yes  False  \n",
       "2  woman       False  NaN  Southampton   yes   True  \n",
       "3  woman       False    C  Southampton   yes  False  \n",
       "4    man        True  NaN  Southampton    no   True  "
      ]
     },
     "execution_count": 22,
     "metadata": {},
     "output_type": "execute_result"
    }
   ],
   "source": [
    "data = sns.load_dataset(\"titanic\")\n",
    "data.head()\n",
    "# 幸存与否，仓位等级，性别，年龄，堂兄弟姐妹数，父母子女数，票价，上船港口缩写，仓位等级，人员分类，是否成年男性，所在甲板，上船港口，是否幸存，是否单独乘船"
   ]
  },
  {
   "cell_type": "markdown",
   "metadata": {},
   "source": [
    "* 不同仓位等级中幸存和遇难的乘客比例（堆积柱状图）"
   ]
  },
  {
   "cell_type": "code",
   "execution_count": 23,
   "metadata": {
    "ExecuteTime": {
     "end_time": "2018-11-08T07:34:53.254465Z",
     "start_time": "2018-11-08T07:34:52.966693Z"
    }
   },
   "outputs": [
    {
     "data": {
      "text/html": [
       "<div>\n",
       "<style scoped>\n",
       "    .dataframe tbody tr th:only-of-type {\n",
       "        vertical-align: middle;\n",
       "    }\n",
       "\n",
       "    .dataframe tbody tr th {\n",
       "        vertical-align: top;\n",
       "    }\n",
       "\n",
       "    .dataframe thead th {\n",
       "        text-align: right;\n",
       "    }\n",
       "</style>\n",
       "<table border=\"1\" class=\"dataframe\">\n",
       "  <thead>\n",
       "    <tr style=\"text-align: right;\">\n",
       "      <th>survived</th>\n",
       "      <th>0</th>\n",
       "      <th>1</th>\n",
       "      <th>total</th>\n",
       "      <th>die_prop</th>\n",
       "      <th>survived_prop</th>\n",
       "    </tr>\n",
       "    <tr>\n",
       "      <th>pclass</th>\n",
       "      <th></th>\n",
       "      <th></th>\n",
       "      <th></th>\n",
       "      <th></th>\n",
       "      <th></th>\n",
       "    </tr>\n",
       "  </thead>\n",
       "  <tbody>\n",
       "    <tr>\n",
       "      <th>1</th>\n",
       "      <td>80</td>\n",
       "      <td>136</td>\n",
       "      <td>216</td>\n",
       "      <td>0.370370</td>\n",
       "      <td>0.629630</td>\n",
       "    </tr>\n",
       "    <tr>\n",
       "      <th>2</th>\n",
       "      <td>97</td>\n",
       "      <td>87</td>\n",
       "      <td>184</td>\n",
       "      <td>0.527174</td>\n",
       "      <td>0.472826</td>\n",
       "    </tr>\n",
       "    <tr>\n",
       "      <th>3</th>\n",
       "      <td>372</td>\n",
       "      <td>119</td>\n",
       "      <td>491</td>\n",
       "      <td>0.757637</td>\n",
       "      <td>0.242363</td>\n",
       "    </tr>\n",
       "  </tbody>\n",
       "</table>\n",
       "</div>"
      ],
      "text/plain": [
       "survived    0    1  total  die_prop  survived_prop\n",
       "pclass                                            \n",
       "1          80  136    216  0.370370       0.629630\n",
       "2          97   87    184  0.527174       0.472826\n",
       "3         372  119    491  0.757637       0.242363"
      ]
     },
     "execution_count": 23,
     "metadata": {},
     "output_type": "execute_result"
    },
    {
     "data": {
      "image/png": "[encoded data removed]",
      "text/plain": [
       "<matplotlib.figure.Figure at 0x1a1f812da0>"
      ]
     },
     "metadata": {},
     "output_type": "display_data"
    }
   ],
   "source": [
    "mean_by_reg_co_day = data[['pclass','survived']].groupby('pclass')['survived'].value_counts()\n",
    "x= mean_by_reg_co_day.unstack()\n",
    "x['total'] = x[0]+x[1]\n",
    "x['die_prop'] = x[0]/x['total']\n",
    "x['survived_prop'] = x[1]/x['total']\n",
    "\n",
    "def stackedbarplot(x_data, y_data_list, y_data_names, colors, x_labels, y_labels, title):\n",
    "    _,ax = plt.subplots()\n",
    "    \n",
    "    for i in range(0,len(y_data_list)):\n",
    "        if i ==0:\n",
    "            ax.bar(x_data,y_data_list[i],color = colors[i],align='center',label = y_data_names[i])\n",
    "        else:\n",
    "            ax.bar(x_data,y_data_list[i],color = colors[i], bottom = y_data_list[i-1], align = 'center', label = y_data_names[i])\n",
    "            \n",
    "    ax.set_ylabel(y_labels)\n",
    "    ax.set_xlabel(x_labels)\n",
    "    ax.set_title(title)\n",
    "    ax.legend(loc = 'upper right')\n",
    "    \n",
    "stackedbarplot(x_data = x.index.values,\n",
    "               y_data_list = [x['survived_prop'],x['die_prop']],\n",
    "               y_data_names = ['survived','die'],\n",
    "               colors = ['#539caf', '#7663b0'],\n",
    "               x_labels = 'pclass',\n",
    "               y_labels = 'Proportion of survived',\n",
    "               title = 'survived vs pclass'\n",
    "              )\n",
    "\n",
    "x"
   ]
  },
  {
   "cell_type": "code",
   "execution_count": 24,
   "metadata": {
    "ExecuteTime": {
     "end_time": "2018-11-08T07:34:53.263741Z",
     "start_time": "2018-11-08T07:34:53.258154Z"
    }
   },
   "outputs": [
    {
     "data": {
      "text/plain": [
       "[0, 1]"
      ]
     },
     "execution_count": 24,
     "metadata": {},
     "output_type": "execute_result"
    }
   ],
   "source": [
    "y_data_list = [x['survived_prop'],x['die_prop'] ]\n",
    "list(range(0, len(y_data_list)))"
   ]
  },
  {
   "cell_type": "markdown",
   "metadata": {},
   "source": [
    "* 不同性别的幸存比例（堆积柱状图）"
   ]
  },
  {
   "cell_type": "code",
   "execution_count": 25,
   "metadata": {
    "ExecuteTime": {
     "end_time": "2018-11-08T07:34:53.448697Z",
     "start_time": "2018-11-08T07:34:53.265883Z"
    }
   },
   "outputs": [
    {
     "data": {
      "image/png": "[encoded data removed]",
      "text/plain": [
       "<matplotlib.figure.Figure at 0x1a1f7e19b0>"
      ]
     },
     "metadata": {},
     "output_type": "display_data"
    }
   ],
   "source": [
    "# 不同性别的幸存比例（堆积柱状图）\n",
    "mean_by_reg_co_day = data[['sex', 'survived']].groupby('sex')['survived'].value_counts()\n",
    "mean_by_reg_co_day = mean_by_reg_co_day.unstack()\n",
    "mean_by_reg_co_day['total'] = mean_by_reg_co_day[0] + mean_by_reg_co_day[1]\n",
    "mean_by_reg_co_day['die_prop'] = mean_by_reg_co_day[0] / mean_by_reg_co_day['total']\n",
    "mean_by_reg_co_day['survived_prop'] = mean_by_reg_co_day[1] / mean_by_reg_co_day['total']\n",
    "mean_by_reg_co_day\n",
    "\n",
    "stackedbarplot(x_data = [0,1],\n",
    "               y_data_list = [mean_by_reg_co_day['die_prop'], mean_by_reg_co_day['survived_prop']],\n",
    "               y_data_names = ['die', 'survived'],\n",
    "               colors = ['#539caf', '#7663b0'],\n",
    "               x_labels = 'Sex',\n",
    "               y_labels = 'survived rate',\n",
    "               title = 'survived rate VS sex'\n",
    "              )"
   ]
  },
  {
   "cell_type": "markdown",
   "metadata": {},
   "source": [
    "* 幸存和遇难乘客的票价分布（分类箱式图）"
   ]
  },
  {
   "cell_type": "code",
   "execution_count": 26,
   "metadata": {
    "ExecuteTime": {
     "end_time": "2018-11-08T07:34:53.624546Z",
     "start_time": "2018-11-08T07:34:53.451344Z"
    }
   },
   "outputs": [
    {
     "data": {
      "image/png": "[encoded data removed]",
      "text/plain": [
       "<matplotlib.figure.Figure at 0x1a1f7e1b00>"
      ]
     },
     "metadata": {},
     "output_type": "display_data"
    }
   ],
   "source": [
    "survive = data['survived'].unique()\n",
    "survive_fare = []\n",
    "for i in survive:\n",
    "    survive_fare.append(data[data['survived'] == i]['fare'].values)\n",
    "\n",
    "def boxplot(x_data,y_data, base_color, median_color,x_label,y_label, title):\n",
    "    _,ax = plt.subplots()\n",
    "    ax.boxplot(y_data,\n",
    "              patch_artist = True,\n",
    "              medianprops = {'color':base_color},\n",
    "              boxprops ={'color': base_color, 'facecolor':median_color},\n",
    "              whiskerprops = {'color':median_color},\n",
    "              capprops = {'color':base_color})\n",
    "    ax.set_xticklabels(x_data)\n",
    "    ax.set_ylabel(y_label)\n",
    "    ax.set_xlabel(x_label)\n",
    "    ax.set_title(title)\n",
    "    \n",
    "boxplot(x_data = survive,\n",
    "       y_data = survive_fare,\n",
    "       base_color='b',\n",
    "       median_color='r',\n",
    "       x_label='survived or not',\n",
    "       y_label='fare',\n",
    "       title = 'survived vs fare' )"
   ]
  },
  {
   "cell_type": "markdown",
   "metadata": {},
   "source": [
    "* 幸存和遇难乘客的年龄分布（分类箱式图）"
   ]
  },
  {
   "cell_type": "code",
   "execution_count": 27,
   "metadata": {
    "ExecuteTime": {
     "end_time": "2018-11-08T07:34:53.792456Z",
     "start_time": "2018-11-08T07:34:53.628583Z"
    }
   },
   "outputs": [
    {
     "data": {
      "image/png": "[encoded data removed]",
      "text/plain": [
       "<matplotlib.figure.Figure at 0x1a1f9036d8>"
      ]
     },
     "metadata": {},
     "output_type": "display_data"
    }
   ],
   "source": [
    "data_clear = data.dropna(axis = 0, how = 'any')\n",
    "survives = data_clear['survived'].unique()\n",
    "survives.sort()\n",
    "ages_data = []\n",
    "for survive in survives:\n",
    "    ages_data.append(data_clear[data_clear['survived']==survive]['age'].values)\n",
    "    \n",
    "boxplot(x_data = survives,\n",
    "       y_data = ages_data,\n",
    "       base_color ='b',\n",
    "       median_color = 'r',\n",
    "       x_label = 's or not',\n",
    "       y_label = 'age',\n",
    "       title = 'survive va age')"
   ]
  },
  {
   "cell_type": "markdown",
   "metadata": {},
   "source": [
    "* 不同上船港口的乘客仓位等级分布（分组柱状图）"
   ]
  },
  {
   "cell_type": "code",
   "execution_count": 28,
   "metadata": {
    "ExecuteTime": {
     "end_time": "2018-11-08T07:35:02.936342Z",
     "start_time": "2018-11-08T07:35:02.731619Z"
    }
   },
   "outputs": [
    {
     "data": {
      "image/png": "[encoded data removed]",
      "text/plain": [
       "<matplotlib.figure.Figure at 0x1a1fb332e8>"
      ]
     },
     "metadata": {},
     "output_type": "display_data"
    }
   ],
   "source": [
    "import numpy as np\n",
    "def groupedbarplot(x_data,y_data_list, y_data_names, colors, x_label, y_label, title):\n",
    "    _,ax = plt.subplots()\n",
    "    total_width = 0.8\n",
    "    \n",
    "    ind_width = total_width/len(y_data_list)\n",
    "    \n",
    "    alteration = np.arange(-total_width/2+ind_width/2, total_width/2+ind_width/2, ind_width)\n",
    "    \n",
    "    for i in range(0,len(y_data_list)):\n",
    "        ax.bar(x_data + alteration[i],y_data_list[i],color = colors[i], label = y_data_names[i], width = ind_width)\n",
    "        \n",
    "    ax.set_ylabel(y_label)\n",
    "    ax.set_xlabel(x_label)\n",
    "    ax.set_title(title)\n",
    "    ax.legend(loc = 'upper right')\n",
    "    \n",
    "x = data.groupby('embark_town')['pclass'].value_counts()\n",
    "x = x.unstack()\n",
    "\n",
    "groupedbarplot(x_data=[0,1,2],\n",
    "              y_data_list = [x[1],x[2],x[3]],\n",
    "               y_data_names =['1','2','3'],\n",
    "              colors = ['#539caf', '#7663b0','#ffff11']\n",
    "               , x_label = 'embark_town'\n",
    "               , y_label = 'pclass'\n",
    "               , title = 'pclass and embark_town')\n",
    "    "
   ]
  },
  {
   "cell_type": "markdown",
   "metadata": {},
   "source": [
    "* 幸存和遇难乘客堂兄弟姐妹的数量分布（分类箱式图）"
   ]
  },
  {
   "cell_type": "code",
   "execution_count": 29,
   "metadata": {
    "ExecuteTime": {
     "end_time": "2018-11-08T07:36:17.506188Z",
     "start_time": "2018-11-08T07:36:17.176733Z"
    }
   },
   "outputs": [
    {
     "data": {
      "image/png": "[encoded data removed]",
      "text/plain": [
       "<matplotlib.figure.Figure at 0x1a1f7963c8>"
      ]
     },
     "metadata": {},
     "output_type": "display_data"
    }
   ],
   "source": [
    "survived = np.unique(data['survived'])\n",
    "bp_data = []\n",
    "for day in survived:\n",
    "    bp_data.append(data[data['survived'] == day]['sibsp'].values)\n",
    "    \n",
    "# 调用绘图函数\n",
    "boxplot(x_data = survived\n",
    "        , y_data = bp_data\n",
    "        , base_color = 'b'\n",
    "        , median_color = 'r'\n",
    "        , x_label = 'survived'\n",
    "        , y_label = 'sibsp'\n",
    "        , title = 'survived & sibsp')   "
   ]
  },
  {
   "cell_type": "markdown",
   "metadata": {},
   "source": [
    "* 幸存和遇难乘客父母子女的数量分布（分类箱式图）"
   ]
  },
  {
   "cell_type": "code",
   "execution_count": 30,
   "metadata": {
    "ExecuteTime": {
     "end_time": "2018-11-08T07:36:43.076163Z",
     "start_time": "2018-11-08T07:36:42.888972Z"
    }
   },
   "outputs": [
    {
     "data": {
      "image/png": "[encoded data removed]",
      "text/plain": [
       "<matplotlib.figure.Figure at 0x1a1fe45f98>"
      ]
     },
     "metadata": {},
     "output_type": "display_data"
    }
   ],
   "source": [
    "survived = np.unique(data['survived'])\n",
    "bp_data = []\n",
    "for day in survived:\n",
    "    bp_data.append(data[data['survived'] == day]['parch'].values)\n",
    "    \n",
    "# 调用绘图函数\n",
    "boxplot(x_data = survived\n",
    "        , y_data = bp_data\n",
    "        , base_color = 'b'\n",
    "        , median_color = 'r'\n",
    "        , x_label = 'survived'\n",
    "        , y_label = 'parch'\n",
    "        , title = 'survived & parent and children count')   "
   ]
  },
  {
   "cell_type": "markdown",
   "metadata": {},
   "source": [
    "* 单独乘船与否和幸存之间有没有联系（堆积柱状图或者分组柱状图）"
   ]
  },
  {
   "cell_type": "code",
   "execution_count": 32,
   "metadata": {
    "ExecuteTime": {
     "end_time": "2018-11-08T07:38:30.368919Z",
     "start_time": "2018-11-08T07:38:30.193457Z"
    }
   },
   "outputs": [
    {
     "data": {
      "image/png": "[encoded data removed]",
      "text/plain": [
       "<matplotlib.figure.Figure at 0x1a1fea3d68>"
      ]
     },
     "metadata": {},
     "output_type": "display_data"
    }
   ],
   "source": [
    "mean_by_reg_co_day = data[['alone', 'survived']].groupby('alone')['survived'].value_counts()\n",
    "x = mean_by_reg_co_day.unstack()\n",
    "\n",
    "x['total'] = x[0] + x[1]\n",
    "x['die_prop'] = x[0] / x['total']\n",
    "x['survived_prop'] = x[1] / x['total']\n",
    "\n",
    "\n",
    "\n",
    "# 调用绘图函数\n",
    "stackedbarplot(x_data = x.index.values\n",
    "               , y_data_list = [x['die_prop'], x['survived_prop']]\n",
    "               , y_data_names = ['die', 'survived']\n",
    "               , colors = ['#539caf', '#7663b0']\n",
    "               , x_labels = 'alone'\n",
    "               , y_labels = 'Proportion of survived'\n",
    "               , title = 'the proportion of survived & alone')"
   ]
  },
  {
   "cell_type": "code",
   "execution_count": null,
   "metadata": {},
   "outputs": [],
   "source": []
  }
 ],
 "metadata": {
  "kernelspec": {
   "display_name": "Python 3",
   "language": "python",
   "name": "python3"
  },
  "language_info": {
   "codemirror_mode": {
    "name": "ipython",
    "version": 3
   },
   "file_extension": ".py",
   "mimetype": "text/x-python",
   "name": "python",
   "nbconvert_exporter": "python",
   "pygments_lexer": "ipython3",
   "version": "3.6.4"
  }
 },
 "nbformat": 4,
 "nbformat_minor": 2
}
