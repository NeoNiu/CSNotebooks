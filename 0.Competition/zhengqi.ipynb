{
 "cells": [
  {
   "cell_type": "code",
   "execution_count": 1,
   "metadata": {
    "ExecuteTime": {
     "end_time": "2018-11-15T07:38:11.112088Z",
     "start_time": "2018-11-15T07:38:09.304801Z"
    }
   },
   "outputs": [],
   "source": [
    "import pandas as pd\n",
    "import numpy as np\n",
    "import matplotlib.pyplot as plt\n",
    "%matplotlib inline\n",
    "import seaborn as sns"
   ]
  },
  {
   "cell_type": "code",
   "execution_count": 2,
   "metadata": {
    "ExecuteTime": {
     "end_time": "2018-11-15T07:38:11.173194Z",
     "start_time": "2018-11-15T07:38:11.114049Z"
    }
   },
   "outputs": [
    {
     "name": "stdout",
     "output_type": "stream",
     "text": [
      "<class 'pandas.core.frame.DataFrame'>\n",
      "RangeIndex: 2888 entries, 0 to 2887\n",
      "Data columns (total 39 columns):\n",
      "V0        2888 non-null float64\n",
      "V1        2888 non-null float64\n",
      "V2        2888 non-null float64\n",
      "V3        2888 non-null float64\n",
      "V4        2888 non-null float64\n",
      "V5        2888 non-null float64\n",
      "V6        2888 non-null float64\n",
      "V7        2888 non-null float64\n",
      "V8        2888 non-null float64\n",
      "V9        2888 non-null float64\n",
      "V10       2888 non-null float64\n",
      "V11       2888 non-null float64\n",
      "V12       2888 non-null float64\n",
      "V13       2888 non-null float64\n",
      "V14       2888 non-null float64\n",
      "V15       2888 non-null float64\n",
      "V16       2888 non-null float64\n",
      "V17       2888 non-null float64\n",
      "V18       2888 non-null float64\n",
      "V19       2888 non-null float64\n",
      "V20       2888 non-null float64\n",
      "V21       2888 non-null float64\n",
      "V22       2888 non-null float64\n",
      "V23       2888 non-null float64\n",
      "V24       2888 non-null float64\n",
      "V25       2888 non-null float64\n",
      "V26       2888 non-null float64\n",
      "V27       2888 non-null float64\n",
      "V28       2888 non-null float64\n",
      "V29       2888 non-null float64\n",
      "V30       2888 non-null float64\n",
      "V31       2888 non-null float64\n",
      "V32       2888 non-null float64\n",
      "V33       2888 non-null float64\n",
      "V34       2888 non-null float64\n",
      "V35       2888 non-null float64\n",
      "V36       2888 non-null float64\n",
      "V37       2888 non-null float64\n",
      "target    2888 non-null float64\n",
      "dtypes: float64(39)\n",
      "memory usage: 880.0 KB\n"
     ]
    }
   ],
   "source": [
    "data = pd.read_table(\"zhengqi_train.txt\")\n",
    "data.info()"
   ]
  },
  {
   "cell_type": "code",
   "execution_count": 4,
   "metadata": {
    "ExecuteTime": {
     "end_time": "2018-11-15T07:38:27.271870Z",
     "start_time": "2018-11-15T07:38:27.265757Z"
    }
   },
   "outputs": [
    {
     "name": "stdout",
     "output_type": "stream",
     "text": [
      "(2888, 39)\n"
     ]
    }
   ],
   "source": [
    "data_features = data.drop(\"target\", axis=1)\n",
    "data_target = data.target\n",
    "print(data.shape)\n",
    "#data_target.info()"
   ]
  },
  {
   "cell_type": "code",
   "execution_count": 5,
   "metadata": {
    "ExecuteTime": {
     "end_time": "2018-11-15T07:38:27.412631Z",
     "start_time": "2018-11-15T07:38:27.273941Z"
    }
   },
   "outputs": [
    {
     "data": {
      "text/html": [
       "<div>\n",
       "<style scoped>\n",
       "    .dataframe tbody tr th:only-of-type {\n",
       "        vertical-align: middle;\n",
       "    }\n",
       "\n",
       "    .dataframe tbody tr th {\n",
       "        vertical-align: top;\n",
       "    }\n",
       "\n",
       "    .dataframe thead th {\n",
       "        text-align: right;\n",
       "    }\n",
       "</style>\n",
       "<table border=\"1\" class=\"dataframe\">\n",
       "  <thead>\n",
       "    <tr style=\"text-align: right;\">\n",
       "      <th></th>\n",
       "      <th>V0</th>\n",
       "      <th>V1</th>\n",
       "      <th>V2</th>\n",
       "      <th>V3</th>\n",
       "      <th>V4</th>\n",
       "      <th>V5</th>\n",
       "      <th>V6</th>\n",
       "      <th>V7</th>\n",
       "      <th>V8</th>\n",
       "      <th>V9</th>\n",
       "      <th>...</th>\n",
       "      <th>V28</th>\n",
       "      <th>V29</th>\n",
       "      <th>V30</th>\n",
       "      <th>V31</th>\n",
       "      <th>V32</th>\n",
       "      <th>V33</th>\n",
       "      <th>V34</th>\n",
       "      <th>V35</th>\n",
       "      <th>V36</th>\n",
       "      <th>V37</th>\n",
       "    </tr>\n",
       "  </thead>\n",
       "  <tbody>\n",
       "    <tr>\n",
       "      <th>count</th>\n",
       "      <td>2888.000000</td>\n",
       "      <td>2888.000000</td>\n",
       "      <td>2888.000000</td>\n",
       "      <td>2888.000000</td>\n",
       "      <td>2888.000000</td>\n",
       "      <td>2888.000000</td>\n",
       "      <td>2888.000000</td>\n",
       "      <td>2888.000000</td>\n",
       "      <td>2888.000000</td>\n",
       "      <td>2888.000000</td>\n",
       "      <td>...</td>\n",
       "      <td>2888.000000</td>\n",
       "      <td>2888.000000</td>\n",
       "      <td>2888.000000</td>\n",
       "      <td>2888.000000</td>\n",
       "      <td>2888.000000</td>\n",
       "      <td>2888.000000</td>\n",
       "      <td>2888.000000</td>\n",
       "      <td>2888.000000</td>\n",
       "      <td>2888.000000</td>\n",
       "      <td>2888.000000</td>\n",
       "    </tr>\n",
       "    <tr>\n",
       "      <th>mean</th>\n",
       "      <td>0.123048</td>\n",
       "      <td>0.056068</td>\n",
       "      <td>0.289720</td>\n",
       "      <td>-0.067790</td>\n",
       "      <td>0.012921</td>\n",
       "      <td>-0.558565</td>\n",
       "      <td>0.182892</td>\n",
       "      <td>0.116155</td>\n",
       "      <td>0.177856</td>\n",
       "      <td>-0.169452</td>\n",
       "      <td>...</td>\n",
       "      <td>0.137712</td>\n",
       "      <td>0.097648</td>\n",
       "      <td>0.055477</td>\n",
       "      <td>0.127791</td>\n",
       "      <td>0.020806</td>\n",
       "      <td>0.007801</td>\n",
       "      <td>0.006715</td>\n",
       "      <td>0.197764</td>\n",
       "      <td>0.030658</td>\n",
       "      <td>-0.130330</td>\n",
       "    </tr>\n",
       "    <tr>\n",
       "      <th>std</th>\n",
       "      <td>0.928031</td>\n",
       "      <td>0.941515</td>\n",
       "      <td>0.911236</td>\n",
       "      <td>0.970298</td>\n",
       "      <td>0.888377</td>\n",
       "      <td>0.517957</td>\n",
       "      <td>0.918054</td>\n",
       "      <td>0.955116</td>\n",
       "      <td>0.895444</td>\n",
       "      <td>0.953813</td>\n",
       "      <td>...</td>\n",
       "      <td>0.929899</td>\n",
       "      <td>1.061200</td>\n",
       "      <td>0.901934</td>\n",
       "      <td>0.873028</td>\n",
       "      <td>0.902584</td>\n",
       "      <td>1.006995</td>\n",
       "      <td>1.003291</td>\n",
       "      <td>0.985675</td>\n",
       "      <td>0.970812</td>\n",
       "      <td>1.017196</td>\n",
       "    </tr>\n",
       "    <tr>\n",
       "      <th>min</th>\n",
       "      <td>-4.335000</td>\n",
       "      <td>-5.122000</td>\n",
       "      <td>-3.420000</td>\n",
       "      <td>-3.956000</td>\n",
       "      <td>-4.742000</td>\n",
       "      <td>-2.182000</td>\n",
       "      <td>-4.576000</td>\n",
       "      <td>-5.048000</td>\n",
       "      <td>-4.692000</td>\n",
       "      <td>-12.891000</td>\n",
       "      <td>...</td>\n",
       "      <td>-2.435000</td>\n",
       "      <td>-2.912000</td>\n",
       "      <td>-4.507000</td>\n",
       "      <td>-5.859000</td>\n",
       "      <td>-4.053000</td>\n",
       "      <td>-4.627000</td>\n",
       "      <td>-4.789000</td>\n",
       "      <td>-5.695000</td>\n",
       "      <td>-2.608000</td>\n",
       "      <td>-3.630000</td>\n",
       "    </tr>\n",
       "    <tr>\n",
       "      <th>25%</th>\n",
       "      <td>-0.297000</td>\n",
       "      <td>-0.226250</td>\n",
       "      <td>-0.313000</td>\n",
       "      <td>-0.652250</td>\n",
       "      <td>-0.385000</td>\n",
       "      <td>-0.853000</td>\n",
       "      <td>-0.310000</td>\n",
       "      <td>-0.295000</td>\n",
       "      <td>-0.159000</td>\n",
       "      <td>-0.390000</td>\n",
       "      <td>...</td>\n",
       "      <td>-0.455000</td>\n",
       "      <td>-0.664000</td>\n",
       "      <td>-0.283000</td>\n",
       "      <td>-0.170250</td>\n",
       "      <td>-0.407250</td>\n",
       "      <td>-0.499000</td>\n",
       "      <td>-0.290000</td>\n",
       "      <td>-0.202500</td>\n",
       "      <td>-0.413000</td>\n",
       "      <td>-0.798250</td>\n",
       "    </tr>\n",
       "    <tr>\n",
       "      <th>50%</th>\n",
       "      <td>0.359000</td>\n",
       "      <td>0.272500</td>\n",
       "      <td>0.386000</td>\n",
       "      <td>-0.044500</td>\n",
       "      <td>0.110000</td>\n",
       "      <td>-0.466000</td>\n",
       "      <td>0.388000</td>\n",
       "      <td>0.344000</td>\n",
       "      <td>0.362000</td>\n",
       "      <td>0.042000</td>\n",
       "      <td>...</td>\n",
       "      <td>-0.447000</td>\n",
       "      <td>-0.023000</td>\n",
       "      <td>0.053500</td>\n",
       "      <td>0.299500</td>\n",
       "      <td>0.039000</td>\n",
       "      <td>-0.040000</td>\n",
       "      <td>0.160000</td>\n",
       "      <td>0.364000</td>\n",
       "      <td>0.137000</td>\n",
       "      <td>-0.185500</td>\n",
       "    </tr>\n",
       "    <tr>\n",
       "      <th>75%</th>\n",
       "      <td>0.726000</td>\n",
       "      <td>0.599000</td>\n",
       "      <td>0.918250</td>\n",
       "      <td>0.624000</td>\n",
       "      <td>0.550250</td>\n",
       "      <td>-0.154000</td>\n",
       "      <td>0.831250</td>\n",
       "      <td>0.782250</td>\n",
       "      <td>0.726000</td>\n",
       "      <td>0.042000</td>\n",
       "      <td>...</td>\n",
       "      <td>0.730000</td>\n",
       "      <td>0.745250</td>\n",
       "      <td>0.488000</td>\n",
       "      <td>0.635000</td>\n",
       "      <td>0.557000</td>\n",
       "      <td>0.462000</td>\n",
       "      <td>0.273000</td>\n",
       "      <td>0.602000</td>\n",
       "      <td>0.644250</td>\n",
       "      <td>0.495250</td>\n",
       "    </tr>\n",
       "    <tr>\n",
       "      <th>max</th>\n",
       "      <td>2.121000</td>\n",
       "      <td>1.918000</td>\n",
       "      <td>2.828000</td>\n",
       "      <td>2.457000</td>\n",
       "      <td>2.689000</td>\n",
       "      <td>0.489000</td>\n",
       "      <td>1.895000</td>\n",
       "      <td>1.918000</td>\n",
       "      <td>2.245000</td>\n",
       "      <td>1.335000</td>\n",
       "      <td>...</td>\n",
       "      <td>4.671000</td>\n",
       "      <td>4.580000</td>\n",
       "      <td>2.689000</td>\n",
       "      <td>2.013000</td>\n",
       "      <td>2.395000</td>\n",
       "      <td>5.465000</td>\n",
       "      <td>5.110000</td>\n",
       "      <td>2.324000</td>\n",
       "      <td>5.238000</td>\n",
       "      <td>3.000000</td>\n",
       "    </tr>\n",
       "  </tbody>\n",
       "</table>\n",
       "<p>8 rows × 38 columns</p>\n",
       "</div>"
      ],
      "text/plain": [
       "                V0           V1           V2           V3           V4  \\\n",
       "count  2888.000000  2888.000000  2888.000000  2888.000000  2888.000000   \n",
       "mean      0.123048     0.056068     0.289720    -0.067790     0.012921   \n",
       "std       0.928031     0.941515     0.911236     0.970298     0.888377   \n",
       "min      -4.335000    -5.122000    -3.420000    -3.956000    -4.742000   \n",
       "25%      -0.297000    -0.226250    -0.313000    -0.652250    -0.385000   \n",
       "50%       0.359000     0.272500     0.386000    -0.044500     0.110000   \n",
       "75%       0.726000     0.599000     0.918250     0.624000     0.550250   \n",
       "max       2.121000     1.918000     2.828000     2.457000     2.689000   \n",
       "\n",
       "                V5           V6           V7           V8           V9  \\\n",
       "count  2888.000000  2888.000000  2888.000000  2888.000000  2888.000000   \n",
       "mean     -0.558565     0.182892     0.116155     0.177856    -0.169452   \n",
       "std       0.517957     0.918054     0.955116     0.895444     0.953813   \n",
       "min      -2.182000    -4.576000    -5.048000    -4.692000   -12.891000   \n",
       "25%      -0.853000    -0.310000    -0.295000    -0.159000    -0.390000   \n",
       "50%      -0.466000     0.388000     0.344000     0.362000     0.042000   \n",
       "75%      -0.154000     0.831250     0.782250     0.726000     0.042000   \n",
       "max       0.489000     1.895000     1.918000     2.245000     1.335000   \n",
       "\n",
       "          ...               V28          V29          V30          V31  \\\n",
       "count     ...       2888.000000  2888.000000  2888.000000  2888.000000   \n",
       "mean      ...          0.137712     0.097648     0.055477     0.127791   \n",
       "std       ...          0.929899     1.061200     0.901934     0.873028   \n",
       "min       ...         -2.435000    -2.912000    -4.507000    -5.859000   \n",
       "25%       ...         -0.455000    -0.664000    -0.283000    -0.170250   \n",
       "50%       ...         -0.447000    -0.023000     0.053500     0.299500   \n",
       "75%       ...          0.730000     0.745250     0.488000     0.635000   \n",
       "max       ...          4.671000     4.580000     2.689000     2.013000   \n",
       "\n",
       "               V32          V33          V34          V35          V36  \\\n",
       "count  2888.000000  2888.000000  2888.000000  2888.000000  2888.000000   \n",
       "mean      0.020806     0.007801     0.006715     0.197764     0.030658   \n",
       "std       0.902584     1.006995     1.003291     0.985675     0.970812   \n",
       "min      -4.053000    -4.627000    -4.789000    -5.695000    -2.608000   \n",
       "25%      -0.407250    -0.499000    -0.290000    -0.202500    -0.413000   \n",
       "50%       0.039000    -0.040000     0.160000     0.364000     0.137000   \n",
       "75%       0.557000     0.462000     0.273000     0.602000     0.644250   \n",
       "max       2.395000     5.465000     5.110000     2.324000     5.238000   \n",
       "\n",
       "               V37  \n",
       "count  2888.000000  \n",
       "mean     -0.130330  \n",
       "std       1.017196  \n",
       "min      -3.630000  \n",
       "25%      -0.798250  \n",
       "50%      -0.185500  \n",
       "75%       0.495250  \n",
       "max       3.000000  \n",
       "\n",
       "[8 rows x 38 columns]"
      ]
     },
     "execution_count": 5,
     "metadata": {},
     "output_type": "execute_result"
    }
   ],
   "source": [
    "data_features.describe()"
   ]
  },
  {
   "cell_type": "code",
   "execution_count": 6,
   "metadata": {
    "ExecuteTime": {
     "end_time": "2018-11-15T07:38:28.286866Z",
     "start_time": "2018-11-15T07:38:27.414762Z"
    }
   },
   "outputs": [
    {
     "data": {
      "text/plain": [
       "<matplotlib.axes._subplots.AxesSubplot at 0x1a231a8668>"
      ]
     },
     "execution_count": 6,
     "metadata": {},
     "output_type": "execute_result"
    },
    {
     "data": {
      "image/png": "[encoded data removed]",
      "text/plain": [
       "<matplotlib.figure.Figure at 0x1a231b36d8>"
      ]
     },
     "metadata": {},
     "output_type": "display_data"
    }
   ],
   "source": [
    "data_features.plot(kind = 'box', figsize=(16,5) )"
   ]
  },
  {
   "cell_type": "code",
   "execution_count": 7,
   "metadata": {
    "ExecuteTime": {
     "end_time": "2018-11-15T07:38:28.415672Z",
     "start_time": "2018-11-15T07:38:28.289811Z"
    }
   },
   "outputs": [
    {
     "data": {
      "text/plain": [
       "<matplotlib.axes._subplots.AxesSubplot at 0x1a23bde898>"
      ]
     },
     "execution_count": 7,
     "metadata": {},
     "output_type": "execute_result"
    },
    {
     "data": {
      "image/png": "[encoded data removed]",
      "text/plain": [
       "<matplotlib.figure.Figure at 0x1a231a9e80>"
      ]
     },
     "metadata": {},
     "output_type": "display_data"
    }
   ],
   "source": [
    "data_target.plot.box()"
   ]
  },
  {
   "cell_type": "code",
   "execution_count": 8,
   "metadata": {
    "ExecuteTime": {
     "end_time": "2018-11-15T07:38:28.493532Z",
     "start_time": "2018-11-15T07:38:28.425037Z"
    }
   },
   "outputs": [],
   "source": [
    "dataWithoutOutliers = data[np.abs(data['target'] - data['target'].mean()) <= (3*data['target'].std())]"
   ]
  },
  {
   "cell_type": "code",
   "execution_count": 9,
   "metadata": {
    "ExecuteTime": {
     "end_time": "2018-11-15T07:38:28.505578Z",
     "start_time": "2018-11-15T07:38:28.496220Z"
    }
   },
   "outputs": [
    {
     "data": {
      "text/plain": [
       "(2861, 39)"
      ]
     },
     "execution_count": 9,
     "metadata": {},
     "output_type": "execute_result"
    }
   ],
   "source": [
    "dataWithoutOutliers.shape"
   ]
  },
  {
   "cell_type": "code",
   "execution_count": 10,
   "metadata": {
    "ExecuteTime": {
     "end_time": "2018-11-15T07:38:28.649757Z",
     "start_time": "2018-11-15T07:38:28.508003Z"
    }
   },
   "outputs": [
    {
     "data": {
      "text/plain": [
       "<matplotlib.axes._subplots.AxesSubplot at 0x1a23e4df98>"
      ]
     },
     "execution_count": 10,
     "metadata": {},
     "output_type": "execute_result"
    },
    {
     "data": {
      "image/png": "[encoded data removed]",
      "text/plain": [
       "<matplotlib.figure.Figure at 0x1a23d62e48>"
      ]
     },
     "metadata": {},
     "output_type": "display_data"
    }
   ],
   "source": [
    "dataWithoutOutliers_features = dataWithoutOutliers.drop(['target'] , axis=1)\n",
    "dataWithoutOutliers_target = dataWithoutOutliers['target']\n",
    "dataWithoutOutliers_target.plot.box()"
   ]
  },
  {
   "cell_type": "markdown",
   "metadata": {},
   "source": [
    "### 相关性 检验"
   ]
  },
  {
   "cell_type": "code",
   "execution_count": 11,
   "metadata": {
    "ExecuteTime": {
     "end_time": "2018-11-15T07:38:29.471405Z",
     "start_time": "2018-11-15T07:38:28.657448Z"
    },
    "scrolled": false
   },
   "outputs": [
    {
     "data": {
      "text/plain": [
       "<matplotlib.axes._subplots.AxesSubplot at 0x1a23f93cc0>"
      ]
     },
     "execution_count": 11,
     "metadata": {},
     "output_type": "execute_result"
    },
    {
     "data": {
      "image/png": "[encoded data removed]",
      "text/plain": [
       "<matplotlib.figure.Figure at 0x1a23bde7f0>"
      ]
     },
     "metadata": {},
     "output_type": "display_data"
    }
   ],
   "source": [
    "corrMatt = dataWithoutOutliers.corr()\n",
    "mask = np.array(corrMatt)\n",
    "mask[np.tril_indices_from(mask)] = False\n",
    "fig,ax= plt.subplots()\n",
    "fig.set_size_inches(20,10)\n",
    "sns.heatmap(corrMatt, mask = mask, vmax = 0.8, square=True,annot=False)"
   ]
  },
  {
   "cell_type": "code",
   "execution_count": 12,
   "metadata": {
    "ExecuteTime": {
     "end_time": "2018-11-15T07:38:29.900549Z",
     "start_time": "2018-11-15T07:38:29.475750Z"
    }
   },
   "outputs": [
    {
     "name": "stderr",
     "output_type": "stream",
     "text": [
      "/anaconda3/lib/python3.6/site-packages/scipy/stats/stats.py:1706: FutureWarning: Using a non-tuple sequence for multidimensional indexing is deprecated; use `arr[tuple(seq)]` instead of `arr[seq]`. In the future this will be interpreted as an array index, `arr[np.array(seq)]`, which will result either in an error or a different result.\n",
      "  return np.add.reduce(sorted[indexer] * weights, axis=axis) / sumval\n"
     ]
    },
    {
     "data": {
      "text/plain": [
       "((array([-3.49169764, -3.24730884, -3.11212597, ...,  3.11212597,\n",
       "          3.24730884,  3.49169764]),\n",
       "  array([-3.044, -3.028, -3.024, ...,  2.441,  2.503,  2.538])),\n",
       " (0.9587049726278101, 0.12635283933517988, 0.973435115321679))"
      ]
     },
     "execution_count": 12,
     "metadata": {},
     "output_type": "execute_result"
    },
    {
     "data": {
      "image/png": "[encoded data removed]",
      "text/plain": [
       "<matplotlib.figure.Figure at 0x1a231a5780>"
      ]
     },
     "metadata": {},
     "output_type": "display_data"
    }
   ],
   "source": [
    "from scipy import stats\n",
    "fig, axes = plt.subplots(1,2)\n",
    "fig.set_size_inches(12,5)\n",
    "sns.distplot(data_target, ax= axes[0])\n",
    "stats.probplot(data_target, dist = 'norm', fit = True, plot = axes[1])\n",
    "#data_target_log = np.log(data_target)\n",
    "#data_target_log.values\n",
    "#data_target_log.plot(kind = 'hist', ax= axes[1,0])\n",
    "#stats.probplot(np.log(data_target), dist = 'norm', fit = True, plot = axes[1,1])"
   ]
  },
  {
   "cell_type": "markdown",
   "metadata": {},
   "source": [
    "### RandomForestRegressor"
   ]
  },
  {
   "cell_type": "code",
   "execution_count": 13,
   "metadata": {
    "ExecuteTime": {
     "end_time": "2018-11-15T07:38:29.951292Z",
     "start_time": "2018-11-15T07:38:29.906370Z"
    }
   },
   "outputs": [
    {
     "data": {
      "text/html": [
       "<div>\n",
       "<style scoped>\n",
       "    .dataframe tbody tr th:only-of-type {\n",
       "        vertical-align: middle;\n",
       "    }\n",
       "\n",
       "    .dataframe tbody tr th {\n",
       "        vertical-align: top;\n",
       "    }\n",
       "\n",
       "    .dataframe thead th {\n",
       "        text-align: right;\n",
       "    }\n",
       "</style>\n",
       "<table border=\"1\" class=\"dataframe\">\n",
       "  <thead>\n",
       "    <tr style=\"text-align: right;\">\n",
       "      <th></th>\n",
       "      <th>V0</th>\n",
       "      <th>V1</th>\n",
       "      <th>V2</th>\n",
       "      <th>V3</th>\n",
       "      <th>V4</th>\n",
       "      <th>V5</th>\n",
       "      <th>V6</th>\n",
       "      <th>V7</th>\n",
       "      <th>V8</th>\n",
       "      <th>V9</th>\n",
       "      <th>...</th>\n",
       "      <th>V28</th>\n",
       "      <th>V29</th>\n",
       "      <th>V30</th>\n",
       "      <th>V31</th>\n",
       "      <th>V32</th>\n",
       "      <th>V33</th>\n",
       "      <th>V34</th>\n",
       "      <th>V35</th>\n",
       "      <th>V36</th>\n",
       "      <th>V37</th>\n",
       "    </tr>\n",
       "  </thead>\n",
       "  <tbody>\n",
       "    <tr>\n",
       "      <th>0</th>\n",
       "      <td>0.368</td>\n",
       "      <td>0.380</td>\n",
       "      <td>-0.225</td>\n",
       "      <td>-0.049</td>\n",
       "      <td>0.379</td>\n",
       "      <td>0.092</td>\n",
       "      <td>0.550</td>\n",
       "      <td>0.551</td>\n",
       "      <td>0.244</td>\n",
       "      <td>0.904</td>\n",
       "      <td>...</td>\n",
       "      <td>-0.449</td>\n",
       "      <td>0.047</td>\n",
       "      <td>0.057</td>\n",
       "      <td>-0.042</td>\n",
       "      <td>0.847</td>\n",
       "      <td>0.534</td>\n",
       "      <td>-0.009</td>\n",
       "      <td>-0.190</td>\n",
       "      <td>-0.567</td>\n",
       "      <td>0.388</td>\n",
       "    </tr>\n",
       "    <tr>\n",
       "      <th>1</th>\n",
       "      <td>0.148</td>\n",
       "      <td>0.489</td>\n",
       "      <td>-0.247</td>\n",
       "      <td>-0.049</td>\n",
       "      <td>0.122</td>\n",
       "      <td>-0.201</td>\n",
       "      <td>0.487</td>\n",
       "      <td>0.493</td>\n",
       "      <td>-0.127</td>\n",
       "      <td>0.904</td>\n",
       "      <td>...</td>\n",
       "      <td>-0.443</td>\n",
       "      <td>0.047</td>\n",
       "      <td>0.560</td>\n",
       "      <td>0.176</td>\n",
       "      <td>0.551</td>\n",
       "      <td>0.046</td>\n",
       "      <td>-0.220</td>\n",
       "      <td>0.008</td>\n",
       "      <td>-0.294</td>\n",
       "      <td>0.104</td>\n",
       "    </tr>\n",
       "    <tr>\n",
       "      <th>2</th>\n",
       "      <td>-0.166</td>\n",
       "      <td>-0.062</td>\n",
       "      <td>-0.311</td>\n",
       "      <td>0.046</td>\n",
       "      <td>-0.055</td>\n",
       "      <td>0.063</td>\n",
       "      <td>0.485</td>\n",
       "      <td>0.493</td>\n",
       "      <td>-0.227</td>\n",
       "      <td>0.904</td>\n",
       "      <td>...</td>\n",
       "      <td>-0.458</td>\n",
       "      <td>-0.398</td>\n",
       "      <td>0.101</td>\n",
       "      <td>0.199</td>\n",
       "      <td>0.634</td>\n",
       "      <td>0.017</td>\n",
       "      <td>-0.234</td>\n",
       "      <td>0.008</td>\n",
       "      <td>0.373</td>\n",
       "      <td>0.569</td>\n",
       "    </tr>\n",
       "    <tr>\n",
       "      <th>3</th>\n",
       "      <td>0.102</td>\n",
       "      <td>0.294</td>\n",
       "      <td>-0.259</td>\n",
       "      <td>0.051</td>\n",
       "      <td>-0.183</td>\n",
       "      <td>0.148</td>\n",
       "      <td>0.474</td>\n",
       "      <td>0.504</td>\n",
       "      <td>0.010</td>\n",
       "      <td>0.904</td>\n",
       "      <td>...</td>\n",
       "      <td>-0.456</td>\n",
       "      <td>-0.398</td>\n",
       "      <td>1.007</td>\n",
       "      <td>0.137</td>\n",
       "      <td>1.042</td>\n",
       "      <td>-0.040</td>\n",
       "      <td>-0.290</td>\n",
       "      <td>0.008</td>\n",
       "      <td>-0.666</td>\n",
       "      <td>0.391</td>\n",
       "    </tr>\n",
       "    <tr>\n",
       "      <th>4</th>\n",
       "      <td>0.300</td>\n",
       "      <td>0.428</td>\n",
       "      <td>0.208</td>\n",
       "      <td>0.051</td>\n",
       "      <td>-0.033</td>\n",
       "      <td>0.116</td>\n",
       "      <td>0.408</td>\n",
       "      <td>0.497</td>\n",
       "      <td>0.155</td>\n",
       "      <td>0.904</td>\n",
       "      <td>...</td>\n",
       "      <td>-0.458</td>\n",
       "      <td>-0.776</td>\n",
       "      <td>0.291</td>\n",
       "      <td>0.370</td>\n",
       "      <td>0.181</td>\n",
       "      <td>-0.040</td>\n",
       "      <td>-0.290</td>\n",
       "      <td>0.008</td>\n",
       "      <td>-0.140</td>\n",
       "      <td>-0.497</td>\n",
       "    </tr>\n",
       "  </tbody>\n",
       "</table>\n",
       "<p>5 rows × 38 columns</p>\n",
       "</div>"
      ],
      "text/plain": [
       "      V0     V1     V2     V3     V4     V5     V6     V7     V8     V9  \\\n",
       "0  0.368  0.380 -0.225 -0.049  0.379  0.092  0.550  0.551  0.244  0.904   \n",
       "1  0.148  0.489 -0.247 -0.049  0.122 -0.201  0.487  0.493 -0.127  0.904   \n",
       "2 -0.166 -0.062 -0.311  0.046 -0.055  0.063  0.485  0.493 -0.227  0.904   \n",
       "3  0.102  0.294 -0.259  0.051 -0.183  0.148  0.474  0.504  0.010  0.904   \n",
       "4  0.300  0.428  0.208  0.051 -0.033  0.116  0.408  0.497  0.155  0.904   \n",
       "\n",
       "   ...      V28    V29    V30    V31    V32    V33    V34    V35    V36    V37  \n",
       "0  ...   -0.449  0.047  0.057 -0.042  0.847  0.534 -0.009 -0.190 -0.567  0.388  \n",
       "1  ...   -0.443  0.047  0.560  0.176  0.551  0.046 -0.220  0.008 -0.294  0.104  \n",
       "2  ...   -0.458 -0.398  0.101  0.199  0.634  0.017 -0.234  0.008  0.373  0.569  \n",
       "3  ...   -0.456 -0.398  1.007  0.137  1.042 -0.040 -0.290  0.008 -0.666  0.391  \n",
       "4  ...   -0.458 -0.776  0.291  0.370  0.181 -0.040 -0.290  0.008 -0.140 -0.497  \n",
       "\n",
       "[5 rows x 38 columns]"
      ]
     },
     "execution_count": 13,
     "metadata": {},
     "output_type": "execute_result"
    }
   ],
   "source": [
    "data_test = pd.read_table('zhengqi_test.txt')\n",
    "data_test.head()"
   ]
  },
  {
   "cell_type": "code",
   "execution_count": 14,
   "metadata": {
    "ExecuteTime": {
     "end_time": "2018-11-15T07:38:30.743013Z",
     "start_time": "2018-11-15T07:38:29.953787Z"
    }
   },
   "outputs": [
    {
     "name": "stderr",
     "output_type": "stream",
     "text": [
      "/anaconda3/lib/python3.6/site-packages/sklearn/ensemble/weight_boosting.py:29: DeprecationWarning: numpy.core.umath_tests is an internal NumPy module and should not be imported. It will be removed in a future NumPy release.\n",
      "  from numpy.core.umath_tests import inner1d\n"
     ]
    },
    {
     "data": {
      "text/plain": [
       "RandomForestRegressor(bootstrap=True, criterion='mse', max_depth=None,\n",
       "           max_features='auto', max_leaf_nodes=None,\n",
       "           min_impurity_decrease=0.0, min_impurity_split=None,\n",
       "           min_samples_leaf=1, min_samples_split=2,\n",
       "           min_weight_fraction_leaf=0.0, n_estimators=10, n_jobs=1,\n",
       "           oob_score=False, random_state=None, verbose=0, warm_start=False)"
      ]
     },
     "execution_count": 14,
     "metadata": {},
     "output_type": "execute_result"
    }
   ],
   "source": [
    "from sklearn.ensemble import RandomForestRegressor\n",
    "rfr = RandomForestRegressor()\n",
    "rfr.fit(data_features, data_target)"
   ]
  },
  {
   "cell_type": "code",
   "execution_count": 15,
   "metadata": {
    "ExecuteTime": {
     "end_time": "2018-11-15T07:38:30.757649Z",
     "start_time": "2018-11-15T07:38:30.745499Z"
    }
   },
   "outputs": [
    {
     "data": {
      "text/plain": [
       "numpy.ndarray"
      ]
     },
     "execution_count": 15,
     "metadata": {},
     "output_type": "execute_result"
    }
   ],
   "source": [
    "data_test_target = rfr.predict(data_test)\n",
    "type(data_test_target)"
   ]
  },
  {
   "cell_type": "code",
   "execution_count": 33,
   "metadata": {
    "ExecuteTime": {
     "end_time": "2018-11-15T07:44:55.006344Z",
     "start_time": "2018-11-15T07:44:54.993562Z"
    }
   },
   "outputs": [],
   "source": [
    "sub = pd.DataFrame(data_test_target).to_csv('simpleRandomForestRegressor.txt' , index =False, header=0)"
   ]
  },
  {
   "cell_type": "code",
   "execution_count": 20,
   "metadata": {
    "ExecuteTime": {
     "end_time": "2018-11-15T07:41:12.251842Z",
     "start_time": "2018-11-15T07:41:12.247054Z"
    }
   },
   "outputs": [
    {
     "data": {
      "text/plain": [
       "(1925, 38)"
      ]
     },
     "execution_count": 20,
     "metadata": {},
     "output_type": "execute_result"
    }
   ],
   "source": [
    "data_test.shape"
   ]
  },
  {
   "cell_type": "code",
   "execution_count": 29,
   "metadata": {
    "ExecuteTime": {
     "end_time": "2018-11-15T07:44:04.493457Z",
     "start_time": "2018-11-15T07:44:04.487421Z"
    }
   },
   "outputs": [],
   "source": [
    "x=pd.read_table('sub.txt', header=None)"
   ]
  },
  {
   "cell_type": "code",
   "execution_count": 34,
   "metadata": {
    "ExecuteTime": {
     "end_time": "2018-11-15T07:45:04.832294Z",
     "start_time": "2018-11-15T07:45:04.825745Z"
    }
   },
   "outputs": [
    {
     "data": {
      "text/html": [
       "<div>\n",
       "<style scoped>\n",
       "    .dataframe tbody tr th:only-of-type {\n",
       "        vertical-align: middle;\n",
       "    }\n",
       "\n",
       "    .dataframe tbody tr th {\n",
       "        vertical-align: top;\n",
       "    }\n",
       "\n",
       "    .dataframe thead th {\n",
       "        text-align: right;\n",
       "    }\n",
       "</style>\n",
       "<table border=\"1\" class=\"dataframe\">\n",
       "  <thead>\n",
       "    <tr style=\"text-align: right;\">\n",
       "      <th></th>\n",
       "      <th>0</th>\n",
       "    </tr>\n",
       "  </thead>\n",
       "  <tbody>\n",
       "    <tr>\n",
       "      <th>0</th>\n",
       "      <td>0.3376</td>\n",
       "    </tr>\n",
       "    <tr>\n",
       "      <th>1</th>\n",
       "      <td>0.3975</td>\n",
       "    </tr>\n",
       "    <tr>\n",
       "      <th>2</th>\n",
       "      <td>-0.0912</td>\n",
       "    </tr>\n",
       "    <tr>\n",
       "      <th>3</th>\n",
       "      <td>0.2620</td>\n",
       "    </tr>\n",
       "    <tr>\n",
       "      <th>4</th>\n",
       "      <td>0.4463</td>\n",
       "    </tr>\n",
       "  </tbody>\n",
       "</table>\n",
       "</div>"
      ],
      "text/plain": [
       "        0\n",
       "0  0.3376\n",
       "1  0.3975\n",
       "2 -0.0912\n",
       "3  0.2620\n",
       "4  0.4463"
      ]
     },
     "execution_count": 34,
     "metadata": {},
     "output_type": "execute_result"
    }
   ],
   "source": [
    "x.head()\n"
   ]
  },
  {
   "cell_type": "code",
   "execution_count": null,
   "metadata": {},
   "outputs": [],
   "source": []
  }
 ],
 "metadata": {
  "kernelspec": {
   "display_name": "Python 3",
   "language": "python",
   "name": "python3"
  },
  "language_info": {
   "codemirror_mode": {
    "name": "ipython",
    "version": 3
   },
   "file_extension": ".py",
   "mimetype": "text/x-python",
   "name": "python",
   "nbconvert_exporter": "python",
   "pygments_lexer": "ipython3",
   "version": "3.6.4"
  }
 },
 "nbformat": 4,
 "nbformat_minor": 2
}
