{
 "cells": [
  {
   "cell_type": "markdown",
   "metadata": {},
   "source": [
    "# ![](https://julyedu-img-public.oss-cn-beijing.aliyuncs.com/Public/img/index/logo.png)"
   ]
  },
  {
   "cell_type": "markdown",
   "metadata": {},
   "source": [
    "## 机器学习集训营第六期 [@Julyedu.com七月在线 ](http://www.julyedu.com)\n",
    "### 第一阶段：零基础快速上手编程\n",
    "#### 第二课  函数与面向对象、文件/目录操作与第三方库\n",
    "\n",
    "##### David@七月在线 2018-10-24"
   ]
  },
  {
   "cell_type": "markdown",
   "metadata": {},
   "source": [
    "#### 上节课程复习\n",
    "- 快速复习与回顾\n",
    "\n",
    "\n",
    "#### 本节课程目标\n",
    "1. 函数\n",
    " - 定义与函数体\n",
    " - 返回值\n",
    " - 参数(定位参数与关键字参数，定长与不定长参数)，偏函数\n",
    " - 匿名函数\n",
    " - 高阶函数与装饰器\n",
    " - 装饰器\n",
    " - 作用域，嵌套函数,闭包与LEGB\n",
    " - 函数对象一览\n",
    "- 面向对象\n",
    " - 面向对象思想\n",
    "   - Python中一切皆对象\n",
    "   - 类是封装了数据与方法\n",
    " - 类的设计与创建\n",
    " - 使用类初始化实例\n",
    " - 类成员详解\n",
    "   - 数据成员\n",
    "     - 类变量与实例变量\n",
    "     - 私有成员\n",
    "   - 方法成员\n",
    "     - 类方法与实例方法\n",
    " - 描述符descriptor\n",
    " - 继承与多态\n",
    " - 元类\n",
    "- 其它\n",
    "   - 文件读写与os,sys,random,re等Python内置库其它第三方库简介(如requests,numpy,pandas)\n",
    "\n",
    "#### 作业\n",
    "- 完成本节课程作业"
   ]
  },
  {
   "cell_type": "markdown",
   "metadata": {},
   "source": [
    "### 1.函数"
   ]
  },
  {
   "cell_type": "code",
   "execution_count": 1,
   "metadata": {},
   "outputs": [
    {
     "name": "stdout",
     "output_type": "stream",
     "text": [
      "Pretty printing has been turned OFF\n"
     ]
    }
   ],
   "source": [
    "%config ZMQInteractiveShell.ast_node_interactivity='all'\n",
    "%pprint"
   ]
  },
  {
   "cell_type": "markdown",
   "metadata": {},
   "source": [
    "#### 定义与函数体"
   ]
  },
  {
   "cell_type": "code",
   "execution_count": 3,
   "metadata": {},
   "outputs": [
    {
     "data": {
      "text/plain": [
       "'daivd is amazing'"
      ]
     },
     "execution_count": 3,
     "metadata": {},
     "output_type": "execute_result"
    },
    {
     "data": {
      "text/plain": [
       "'daivd is perfect'"
      ]
     },
     "execution_count": 3,
     "metadata": {},
     "output_type": "execute_result"
    }
   ],
   "source": [
    "#函数定义与函数体成员 \n",
    "def myfunc1(parm1,parm2='amazing'):\n",
    "    \"\\\n",
    "    here is document for this function\\\n",
    "    multi lines \\\n",
    "    \"#__doc__ here\n",
    "    \n",
    "    something=parm1\n",
    "    \n",
    "    return str(something)+' is '+parm2\n",
    "\n",
    "myfunc1('daivd')\n",
    "myfunc1('daivd','perfect')"
   ]
  },
  {
   "cell_type": "markdown",
   "metadata": {},
   "source": [
    "##### 延伸阅读:Python3新增函数特性：注释增强/Annotations"
   ]
  },
  {
   "cell_type": "code",
   "execution_count": 6,
   "metadata": {},
   "outputs": [
    {
     "data": {
      "text/plain": [
       "{'return': 'function return should be a string', 'parm1': 'parm user given string to output', 'parm2': 'this parm default value is amazing, user still can replace it'}"
      ]
     },
     "execution_count": 6,
     "metadata": {},
     "output_type": "execute_result"
    }
   ],
   "source": [
    "def myfunc1(parm1:'parm user given string to output',parm2:'this parm default value is amazing, user still can replace it'='amazing')-> 'function return should be a string':\n",
    "    \"#__doc__ here\"\n",
    "    something=parm1\n",
    "    return str(something)+' is '+parm2\n",
    "myfunc1.__annotations__"
   ]
  },
  {
   "cell_type": "markdown",
   "metadata": {},
   "source": [
    "#### 函数返回值"
   ]
  },
  {
   "cell_type": "code",
   "execution_count": 19,
   "metadata": {
    "scrolled": true
   },
   "outputs": [
    {
     "data": {
      "text/plain": [
       "<class 'tuple'>"
      ]
     },
     "execution_count": 19,
     "metadata": {},
     "output_type": "execute_result"
    }
   ],
   "source": [
    "#函数返回值      \n",
    "#有返回值 与无返回值（即使没有return语句，依旧会return一个NoneType类的对象None)\n",
    "\n",
    "def myadd(a):\n",
    "    return a,5\n",
    "\n",
    "def myadd1(a,b,c,d):\n",
    "    print(a+b+c+d)\n",
    "\n",
    "def myadd2(a,b):\n",
    "    pass\n",
    "\n"
   ]
  },
  {
   "cell_type": "markdown",
   "metadata": {},
   "source": [
    "#### 参数:位置参数（定位参数）       |         关键字参数,  不定长位置参数与关键字参数"
   ]
  },
  {
   "cell_type": "code",
   "execution_count": 11,
   "metadata": {
    "scrolled": true
   },
   "outputs": [
    {
     "name": "stdout",
     "output_type": "stream",
     "text": [
      "<class 'tuple'>\n",
      "parms: (5, 6)\n",
      "a,b,c,d: 1 2 3 4\n"
     ]
    },
    {
     "data": {
      "text/plain": [
       "11"
      ]
     },
     "execution_count": 11,
     "metadata": {},
     "output_type": "execute_result"
    }
   ],
   "source": [
    "def myadd(a,b,c,d,*parms):\n",
    "    print(type(parms))\n",
    "    print('parms:',parms)\n",
    "    print('a,b,c,d:',a,b,c,d)\n",
    "    return sum(parms)\n",
    "\n",
    "myadd(1,2,3,4,5,6)"
   ]
  },
  {
   "cell_type": "code",
   "execution_count": 13,
   "metadata": {},
   "outputs": [
    {
     "name": "stdout",
     "output_type": "stream",
     "text": [
      "<class 'tuple'>\n",
      "(1, 2, 3)\n"
     ]
    },
    {
     "data": {
      "text/plain": [
       "6"
      ]
     },
     "execution_count": 13,
     "metadata": {},
     "output_type": "execute_result"
    }
   ],
   "source": [
    "def myadd(arg,*args):\n",
    "    print(type(args))\n",
    "    print(args)\n",
    "    return sum(args)\n",
    "\n",
    "myadd(18,1,2,3)"
   ]
  },
  {
   "cell_type": "code",
   "execution_count": 36,
   "metadata": {
    "scrolled": true
   },
   "outputs": [
    {
     "name": "stdout",
     "output_type": "stream",
     "text": [
      "{'height': 178, 'tel': 13333, 'add': 'sh', 'name': 'jack'}\n",
      "{'address': 'sh', 'cellphone': 13333}\n"
     ]
    }
   ],
   "source": [
    "def myadd(**kwargs):\n",
    "    print(kwargs)\n",
    "    \n",
    "myadd(add='sh',tel=13333,name='jack',height=178)\n",
    "\n",
    "myadd(address='sh',cellphone=13333,)"
   ]
  },
  {
   "cell_type": "code",
   "execution_count": 5,
   "metadata": {
    "scrolled": true
   },
   "outputs": [
    {
     "name": "stdout",
     "output_type": "stream",
     "text": [
      "(1, 2, 3, 4, 5, 6, 7)\n",
      "date\n",
      "name\n",
      "add\n"
     ]
    }
   ],
   "source": [
    "l1=[1,2,3,4,5,6]\n",
    "a,b,*c,d,e=l1\n",
    "a,b,c,d,e\n",
    "\n",
    "def myfun1(*args,**kwargs):\n",
    "    print(args)\n",
    "    for item in kwargs:\n",
    "         print(item)\n",
    "d1={'name':'david','add':'bj','date':'2018-8-1'}\n",
    "l1=[1,2,3,4,5,6,7]\n",
    "myfun1(*l1,**d1)"
   ]
  },
  {
   "cell_type": "code",
   "execution_count": 18,
   "metadata": {},
   "outputs": [],
   "source": [
    "l1=[1,2,3,4,5,6,7]"
   ]
  },
  {
   "cell_type": "code",
   "execution_count": 19,
   "metadata": {},
   "outputs": [
    {
     "name": "stdout",
     "output_type": "stream",
     "text": [
      "<class 'tuple'>\n",
      "(1, 2, 3)\n"
     ]
    },
    {
     "data": {
      "text/plain": [
       "6"
      ]
     },
     "execution_count": 19,
     "metadata": {},
     "output_type": "execute_result"
    },
    {
     "data": {
      "text/plain": [
       "1007"
      ]
     },
     "execution_count": 19,
     "metadata": {},
     "output_type": "execute_result"
    },
    {
     "name": "stdout",
     "output_type": "stream",
     "text": [
      "<class 'dict'>\n",
      "[0, 'male', 'david']\n"
     ]
    },
    {
     "data": {
      "text/plain": [
       "[0, 'male', 'david']"
      ]
     },
     "execution_count": 19,
     "metadata": {},
     "output_type": "execute_result"
    },
    {
     "data": {
      "text/plain": [
       "11"
      ]
     },
     "execution_count": 19,
     "metadata": {},
     "output_type": "execute_result"
    }
   ],
   "source": [
    "#参数：位置参数（定位参数），与不定长位置参数\n",
    "def myadd2(a,b):\n",
    "    return a+b\n",
    "\n",
    "def myadd3(a,b,c):\n",
    "    return a+b+c\n",
    "\n",
    "def myadd4(a,b,c,d):\n",
    "    print(d)\n",
    "\n",
    "\n",
    "def myadd(arg,*args):\n",
    "    print(type(args))\n",
    "    print(args)\n",
    "    return sum(args)\n",
    "myadd(18,1,2,3)\n",
    "# myadd4(6,3,5,3)\n",
    "# myadd4(3,4,5,5)\n",
    "\n",
    "# myadd(1,3,7,7,7,7,7,7,7,7,5,7,7,7,7,77,8,2)\n",
    "\n",
    "#关键字参数，与不定长关键字参数\n",
    "def myadd0(args,lastnum=1000):\n",
    "    return args+lastnum\n",
    "\n",
    "myadd0(7)\n",
    "\n",
    "def myaddkw(**names):\n",
    "    print(type(names))\n",
    "    print(list(names.values()))\n",
    "    return list(names.values())\n",
    "    \n",
    "myaddkw(name='david',gender='male',age=0)\n",
    "myadd0(args=5, lastnum=6)"
   ]
  },
  {
   "cell_type": "code",
   "execution_count": 21,
   "metadata": {},
   "outputs": [
    {
     "data": {
      "text/plain": [
       "mappingproxy(OrderedDict([('parm1', <Parameter \"parm1\">)]))"
      ]
     },
     "execution_count": 21,
     "metadata": {},
     "output_type": "execute_result"
    }
   ],
   "source": [
    "##### 查看函数签名\n",
    "from inspect import signature# 注意是小写的signature\n",
    "\n",
    "def func(parm1,parm2='kw'):\n",
    "    return parm1\n",
    "\n",
    "def func(parm1):\n",
    "    pass\n",
    "\n",
    "# 获取函数签名\n",
    "func_sig = signature(func)\n",
    "# 通过函数签名的parameters属性，可以获取函数参数\n",
    "func_params = func_sig.parameters\n",
    "func_params\n",
    "\n",
    "#或者直接使用ipython下的?"
   ]
  },
  {
   "cell_type": "markdown",
   "metadata": {},
   "source": [
    "#### 偏函数"
   ]
  },
  {
   "cell_type": "code",
   "execution_count": null,
   "metadata": {},
   "outputs": [],
   "source": [
    "def mysal(nums,rate=6.95):\n",
    "    return nums*rate\n",
    "\n"
   ]
  },
  {
   "cell_type": "code",
   "execution_count": 47,
   "metadata": {},
   "outputs": [
    {
     "data": {
      "text/plain": [
       "33500.0"
      ]
     },
     "execution_count": 47,
     "metadata": {},
     "output_type": "execute_result"
    },
    {
     "data": {
      "text/plain": [
       "80400.0"
      ]
     },
     "execution_count": 47,
     "metadata": {},
     "output_type": "execute_result"
    },
    {
     "data": {
      "text/plain": [
       "410000"
      ]
     },
     "execution_count": 47,
     "metadata": {},
     "output_type": "execute_result"
    }
   ],
   "source": [
    "def mysal(nums,rate=6.7):\n",
    "    return nums*rate\n",
    "\n",
    "mysal(5000)\n",
    "mysal(12000)\n",
    "\n",
    "import functools\n",
    "rmb2eur=functools.partial(mysal,rate=1.01)\n",
    "rmb2jpn=functools.partial(mysal,rate=82)\n",
    "\n",
    "rmb2jpn(5000)"
   ]
  },
  {
   "cell_type": "code",
   "execution_count": 27,
   "metadata": {},
   "outputs": [
    {
     "data": {
      "text/plain": [
       "36"
      ]
     },
     "execution_count": 27,
     "metadata": {},
     "output_type": "execute_result"
    },
    {
     "data": {
      "text/plain": [
       "102"
      ]
     },
     "execution_count": 27,
     "metadata": {},
     "output_type": "execute_result"
    },
    {
     "data": {
      "text/plain": [
       "<class 'functools.partial'>"
      ]
     },
     "execution_count": 27,
     "metadata": {},
     "output_type": "execute_result"
    },
    {
     "data": {
      "text/plain": [
       "54"
      ]
     },
     "execution_count": 27,
     "metadata": {},
     "output_type": "execute_result"
    }
   ],
   "source": [
    "#偏函数,固定了部分参数的函数\n",
    "\n",
    "import functools\n",
    "\n",
    "a=0x24\n",
    "a\n",
    "int(str(a),base=32)\n",
    "\n",
    "hex2int=functools.partial(int,base=16)\n",
    "\n",
    "type(hex2int)\n",
    "hex2int(str(a))"
   ]
  },
  {
   "cell_type": "markdown",
   "metadata": {},
   "source": [
    "#### 匿名函数"
   ]
  },
  {
   "cell_type": "code",
   "execution_count": 11,
   "metadata": {
    "scrolled": true
   },
   "outputs": [
    {
     "data": {
      "text/plain": [
       "<class 'function'>"
      ]
     },
     "execution_count": 11,
     "metadata": {},
     "output_type": "execute_result"
    },
    {
     "data": {
      "text/plain": [
       "25"
      ]
     },
     "execution_count": 11,
     "metadata": {},
     "output_type": "execute_result"
    }
   ],
   "source": [
    "type(lambda a,b:a-b)\n",
    "#定义，lambda\n",
    "#函数体不用写return\n",
    "\n",
    "a=5\n",
    "b=7\n",
    "lambda1=lambda name1:name1**2\n",
    "lambda1(a)"
   ]
  },
  {
   "cell_type": "markdown",
   "metadata": {},
   "source": [
    "#### 高阶函数与装饰器"
   ]
  },
  {
   "cell_type": "code",
   "execution_count": 51,
   "metadata": {},
   "outputs": [
    {
     "data": {
      "text/plain": [
       "<map object at 0x7f4aa0122518>"
      ]
     },
     "execution_count": 51,
     "metadata": {},
     "output_type": "execute_result"
    }
   ],
   "source": [
    "l1=[1,2,3,4,5,6,7]\n",
    "l2=[7,8,9,10,11,12,13]\n",
    "\n",
    "map(lambda x:x**3,l1)"
   ]
  },
  {
   "cell_type": "code",
   "execution_count": 30,
   "metadata": {},
   "outputs": [
    {
     "data": {
      "text/plain": [
       "[1, 8, 27, 64, 125, 216, 343]"
      ]
     },
     "execution_count": 30,
     "metadata": {},
     "output_type": "execute_result"
    },
    {
     "data": {
      "text/plain": [
       "[8, 10, 12, 14, 16, 18, 20]"
      ]
     },
     "execution_count": 30,
     "metadata": {},
     "output_type": "execute_result"
    },
    {
     "name": "stdout",
     "output_type": "stream",
     "text": [
      "a: [2, 4, 6, 8, 10, 12, 14]\n"
     ]
    },
    {
     "data": {
      "text/plain": [
       "[8, 10, 12, 14, 16, 18, 20]"
      ]
     },
     "execution_count": 30,
     "metadata": {},
     "output_type": "execute_result"
    },
    {
     "data": {
      "text/plain": [
       "-26"
      ]
     },
     "execution_count": 30,
     "metadata": {},
     "output_type": "execute_result"
    },
    {
     "data": {
      "text/plain": [
       "[1, 2]"
      ]
     },
     "execution_count": 30,
     "metadata": {},
     "output_type": "execute_result"
    }
   ],
   "source": [
    "#一切皆object\n",
    "#function is a object,or not?\n",
    "#给已有的函数添加功能\n",
    "def myfun1():\n",
    "    pass\n",
    "\n",
    "\n",
    "myadd(1,2,[1,2,3],myfucn1)\n",
    "#什么是高阶函数:能接近其它函数作用参数函数\n",
    "\n",
    "\n",
    "#map,reduce,filter\n",
    "l1=[1,2,3,4,5,6,7]\n",
    "l2=[7,8,9,10,11,12,13]\n",
    "\n",
    "list(map(lambda x:x**3,l1))\n",
    "\n",
    "list(map(lambda x,y:x+y,l1,l2))\n",
    "\n",
    "a=list(map(lambda x,y:x+y,l1,l1))\n",
    "print(\"a:\",a)\n",
    "\n",
    "\n",
    "list(map(lambda x,y:x+y,l1,l2))\n",
    "\n",
    "#Reduce\n",
    "from functools import reduce\n",
    "def func1(a,b):\n",
    "    return a-b\n",
    "\n",
    "reduce(func1,l1)\n",
    "\n",
    "\n",
    "## filter\n",
    "\n",
    "list(filter(lambda x:True if x<3 else False,l1))\n",
    "# mysum(sum,2)"
   ]
  },
  {
   "cell_type": "code",
   "execution_count": 31,
   "metadata": {},
   "outputs": [
    {
     "data": {
      "text/plain": [
       "4950"
      ]
     },
     "execution_count": 31,
     "metadata": {},
     "output_type": "execute_result"
    }
   ],
   "source": [
    "import operator\n",
    "reduce(operator.add,range(100))"
   ]
  },
  {
   "cell_type": "markdown",
   "metadata": {},
   "source": [
    "#### 装饰器\n",
    " 以函数作参数并返回一个替换函数的可执行函数"
   ]
  },
  {
   "cell_type": "code",
   "execution_count": 1,
   "metadata": {
    "scrolled": true
   },
   "outputs": [
    {
     "name": "stdout",
     "output_type": "stream",
     "text": [
      "2018-10-27 11:41:56.768393\n",
      "this is foo2 function\n"
     ]
    }
   ],
   "source": [
    "def fun1():\n",
    "    print ('this is foo1 function')\n",
    "\n",
    "def fun2():\n",
    "    print ('this is foo2 function')\n",
    "\n",
    "def fun3():\n",
    "    print ('this is foo3 function')\n",
    "    \n",
    "\n",
    "#为以上三个函数添加报时功能    \n",
    "import datetime\n",
    "\n",
    "#设计一个能接收函数的函数，功能是打印时间后，然后返回接收到的函数\n",
    "def outer_fun(func):\n",
    "    print(datetime.datetime.now())\n",
    "    return func\n",
    "\n",
    "outer_fun(fun2)()"
   ]
  },
  {
   "cell_type": "code",
   "execution_count": 273,
   "metadata": {},
   "outputs": [
    {
     "name": "stdout",
     "output_type": "stream",
     "text": [
      "executed: this is fun1 function--\n",
      "shijian\n"
     ]
    }
   ],
   "source": []
  },
  {
   "cell_type": "code",
   "execution_count": 34,
   "metadata": {},
   "outputs": [
    {
     "name": "stdout",
     "output_type": "stream",
     "text": [
      "2\n",
      "This is string from outer\n",
      "from inner to execute: fun1\n",
      "the fun1 result: this is fun1 function--\n",
      "extra: 2018-10-23 10:29:54.610093\n",
      "9\n"
     ]
    }
   ],
   "source": [
    "# 使用 @ 语法糖\n",
    "# @是python装饰器的简便写法，是Python的语法糖\n",
    "\n",
    "import datetime\n",
    "\n",
    "def outer_fun(fun):\n",
    "    #do something you want here\n",
    "    str1='This is string from outer'\n",
    "  \n",
    "    def inner():\n",
    "        print(2)\n",
    "        print(str1)\n",
    "        print('from inner to execute:',fun.__name__)\n",
    "        print('the',fun.__name__,'result:',fun())\n",
    "        print('extra:',datetime.datetime.now())\n",
    "      \n",
    "    return inner\n",
    "\n",
    "#装饰器语法糖在要被包裹的函数前声明。\n",
    "#@后面的函数名，是把下边函数进行包裹的函数的名字outer_fun\n",
    "@outer_fun#为fun1函数添加一个装饰器函数叫outer_fun\n",
    "def fun1():\n",
    "    return 'this is fun1 function--'\n",
    "\n",
    "@outer_fun#为fun1函数添加一个装饰器函数，叫outer_fun\n",
    "def fun2():\n",
    "    return 'this is fun2 function--'\n",
    "\n",
    "# 装饰器在Python使用如此方便都要归因于\n",
    "# Python的函数能像普通的对象一样能作为参数传递给其他函数\n",
    "# 可以被赋值给其他变量，可以作为返回值，可以被定义在另外一个函数内\n",
    "\n",
    "#装饰器是AOP思想的体现。Aspect Oriented Programming（面向切面编程）\n",
    "fun1()\n",
    "dd=9\n",
    "print(dd)\n",
    "# fun2()"
   ]
  },
  {
   "cell_type": "code",
   "execution_count": 5,
   "metadata": {},
   "outputs": [
    {
     "name": "stdout",
     "output_type": "stream",
     "text": [
      "executed: this is fun1 function--\n",
      "shijian\n",
      "<class 'function'>\n"
     ]
    }
   ],
   "source": [
    "def outer(func):\n",
    "    def inner():\n",
    "        print('executed:',func())\n",
    "        print('shijian')\n",
    "    return inner\n",
    "\n",
    "@outer\n",
    "def fun1():\n",
    "    return 'this is fun1 function--'\n",
    "\n",
    "fun1()\n",
    "print(type(fun1))"
   ]
  },
  {
   "cell_type": "markdown",
   "metadata": {},
   "source": [
    "##### 扩展阅读：函数式编程思想：\n",
    "\n",
    "- 函数是第一等公民First Class\n",
    "  - 函数式编程是一种编程范式，是如何编写程度的方法论。\n",
    "  - 把运算过程尽量变成一系列函数的调用。属于结构化编程\n",
    "   \n",
    "  \n",
    "- 特点：\n",
    "  - 允许函数作为参数，传入另一个函数\n",
    "  - 返回一个函数\n"
   ]
  },
  {
   "cell_type": "markdown",
   "metadata": {},
   "source": [
    "#### 作用域，嵌套函数,闭包与LEGB规则\n",
    "- 上节课讲到LGB作用域，这节课除了对L在函数中的作用有新的认识外\n",
    "- 还要认识一个新的作用域E，就涉及到了闭包\n",
    "![](./legb.jpg)"
   ]
  },
  {
   "cell_type": "code",
   "execution_count": 59,
   "metadata": {},
   "outputs": [
    {
     "data": {
      "text/plain": [
       "True"
      ]
     },
     "execution_count": 59,
     "metadata": {},
     "output_type": "execute_result"
    }
   ],
   "source": [
    "locals() is globals()"
   ]
  },
  {
   "cell_type": "code",
   "execution_count": 4,
   "metadata": {},
   "outputs": [],
   "source": [
    "#而每当进入一个函数时，就会新产生一个locals()\n",
    "g_1='global value in Global'\n",
    "\n",
    "def func1():\n",
    "    print(locals() is globals())#此时的loclas()就仅指func1内\n",
    "    func1_name='local values in func1'\n",
    "    print('locals in func1: ', locals())\n",
    "    return locals() is globals()\n",
    "\n",
    "# func1()\n"
   ]
  },
  {
   "cell_type": "code",
   "execution_count": 9,
   "metadata": {},
   "outputs": [
    {
     "name": "stdout",
     "output_type": "stream",
     "text": [
      "L value stored in locals  referenced from outter\n"
     ]
    }
   ],
   "source": [
    "#分别定义位于LEGB四个不同作用的，相同名字value1的变量\n",
    "\n",
    "__builtins__.value1='B value stored in __builtins__'#B\n",
    "value1='G value stored in Global'#G\n",
    "del value1\n",
    "\n",
    "\n",
    "#而当出现嵌套函数inner时，也会新产生一个locals()，而如果inner此时还引用了在outter这个函数作用域内出现的变量时，就是闭包\n",
    "def outter():\n",
    "    \n",
    "    value1='E value stored in enclosure'#Values store in Enclosure\n",
    "\n",
    "    \n",
    "    def inner():\n",
    "        value1='L value stored in locals'\n",
    "        # Can't find value1 in local\n",
    "        print(value1,' referenced from outter')#此时的value1是inner1这个函数外层函数的变量\n",
    "    return inner\n",
    "\n",
    "outter()()"
   ]
  },
  {
   "cell_type": "markdown",
   "metadata": {},
   "source": [
    "#### 函数对象总览"
   ]
  },
  {
   "cell_type": "code",
   "execution_count": 2,
   "metadata": {},
   "outputs": [
    {
     "data": {
      "text/plain": [
       "(None, 1, 1, None)"
      ]
     },
     "execution_count": 2,
     "metadata": {},
     "output_type": "execute_result"
    }
   ],
   "source": [
    "#定义一个函数\n",
    "def myfunc_overview(parm1,parm2='amazing'):\n",
    "    \"\\\n",
    "    here is document for this function\\\n",
    "    multi lines \\\n",
    "    \"#__doc__ here\n",
    "    something=parm1\n",
    "    return str(something)+' is '+parm2\n",
    "\n",
    "#相关信息\n",
    "# myfunc1??\n",
    "\n",
    "vars(myfunc_overview)\n",
    "dir(myfunc_overview)\n",
    "\n",
    "#函数对象\n",
    "myfunc_overview.__name__,myfunc_overview.__class__,myfunc_overview.__defaults__,myfunc_overview.__kwdefaults__\n",
    "myfunc_overview.__call__(1024)\n",
    "myfunc_overview.__str__()#<function myfunc1 at 0x7f087c6f4510>,myfunc1.__repr__（）类似\n",
    "\n",
    "# myfunc_overview.__kwdefaults__#(Keyword-Only Arguments强制关键字参数)”\n",
    "myfunc_overview.__setattr__('attr1',1),myfunc_overview.__getattribute__('attr1'),myfunc_overview.attr1,myfunc_overview.__delattr__('attr1')"
   ]
  },
  {
   "cell_type": "markdown",
   "metadata": {},
   "source": [
    "##### 延伸阅读:函数对象PyFunctionObject与代码对象PyCodeObject，与PyFrameObject\n",
    "\n",
    "```\n",
    "__code__#字节码对象\n",
    "__closure__#函数对象，___closure__属性是一个由cell对象组成的元组，包含了由多个作用域引用的变量,涉及闭包\n",
    "```"
   ]
  },
  {
   "cell_type": "code",
   "execution_count": 19,
   "metadata": {
    "scrolled": true
   },
   "outputs": [
    {
     "data": {
      "text/plain": [
       "((), None, 1)"
      ]
     },
     "execution_count": 19,
     "metadata": {},
     "output_type": "execute_result"
    }
   ],
   "source": [
    "inner1=outter()\n",
    "\n",
    "inner1.__name__\n",
    "inner1.__code__.co_freevars,inner1.__closure__,inner1.__code__.co_nlocals # inner1函数内局部变量数"
   ]
  },
  {
   "cell_type": "markdown",
   "metadata": {},
   "source": [
    "### 2.面向对象"
   ]
  },
  {
   "cell_type": "markdown",
   "metadata": {},
   "source": [
    "#### 面向对象编程\n",
    "\n",
    "- 类class与对象object \n",
    "> - 对属于同一类事物的抽象叫类class\n",
    ">   - 比如汽车，门，猫。 \n",
    ">   - 之前学习使用的都是Python自带的数据类，这节课我们学习自己定义类class\n",
    "> - 某类事物中的一个具体的实例叫对象Object\n",
    ">   - 比如我家的那辆汽车，张伟办公室的大门，隔壁丽丽家的那只小花猫。\n",
    "\n",
    "- 类与对象的关系\n",
    "> - 类定义封装了数据与方法，类就是对象的模板，可以批量生产出许多的对象。\n",
    ">   - 比如`a=7`,7其实是整形数字int类的一个实例。那int这个类还可以’复刻’出许许多多的整形对象。这些对象共有的特征就是：整数性。\n",
    "> - 类(class)的变量是所有对象共享使用, 只有一个拷贝, 所有对象修改, 都可以被其他对象所见; \n",
    "> - 对象(object)的变量由类的每个对象所拥有, 每个对象都包含自己的一份拷贝, 不会影响其他对象;"
   ]
  },
  {
   "cell_type": "markdown",
   "metadata": {},
   "source": [
    "#### 类的设计与创建"
   ]
  },
  {
   "cell_type": "code",
   "execution_count": 90,
   "metadata": {},
   "outputs": [],
   "source": [
    "#学生类设计\n",
    "#总学生的人数，全部学生的姓名，已经毕业的学生的数量\n",
    "#考试功能，分数大于60分，pass,，计入总分，否则 fail\n",
    "#查分功能，如果考试次数\n",
    "#查所有已经毕业学员的姓名。\n",
    "\n",
    "\n",
    "class Student():\n",
    "    student_total = 0\n",
    "    student_graduated=0\n",
    "    student_namelist=[]\n",
    "    student_graduated_name_list=[]\n",
    "    \n",
    "    def __init__(self,name,age,gender):\n",
    "        self.name=name\n",
    "        self.age=age\n",
    "        self.gender=gender\n",
    "        self.__score=0\n",
    "        self.times=0#考试次数\n",
    "        Student.student_total+=1\n",
    "        Student.student_namelist.append(name)\n",
    "\n",
    "    def exam(self,examscore):#def函数在类中定义叫方法method,以和类外部定义的函数区分\n",
    "        if self.times==8:\n",
    "            return 'you already qualified,winner,no need to take exam again'\n",
    "        \n",
    "        if examscore<60:        \n",
    "            print('sorry,better luck next time!')\n",
    "        elif examscore>100:\n",
    "            print('you are cheating!')\n",
    "        else:\n",
    "            self.__score+=examscore\n",
    "            self.times+=1\n",
    "            print('OK!')\n",
    "            if self.times==8 and self.__score/self.times>80:#如果参加了八次考试，且平均分数大于80分，即可毕业\n",
    "                Student.student_graduated+=1\n",
    "                Student.student_graduated_name_list.append(self.name)\n",
    "                \n",
    "            \n",
    "    \n",
    "    def check(self,):\n",
    "        if self.times<8:\n",
    "            return 'you need to do more {8-self.times} tests to graduate!'\n",
    "        elif self.__score/self.times<80:\n",
    "            return 'sorry，you are not qualified in julyedu.com，your mean score is {self.__score/self.times}'            \n",
    "        else:\n",
    "            return 'you alreay graduated,winner!'\n",
    "\n",
    "    @classmethod\n",
    "    def get_graducated_student(cls,):\n",
    "        return Student.student_graduated\n",
    "    \n",
    "    @classmethod\n",
    "    def get_graducated_student_list(cls,):\n",
    "        return Student.student_graduated_name_list"
   ]
  },
  {
   "cell_type": "markdown",
   "metadata": {},
   "source": [
    "#### 使用类初始化实例"
   ]
  },
  {
   "cell_type": "code",
   "execution_count": 91,
   "metadata": {},
   "outputs": [
    {
     "ename": "AttributeError",
     "evalue": "'Student' object has no attribute '_Student__score'",
     "output_type": "error",
     "traceback": [
      "\u001b[0;31m---------------------------------------------------------------------------\u001b[0m",
      "\u001b[0;31mAttributeError\u001b[0m                            Traceback (most recent call last)",
      "\u001b[0;32m<ipython-input-91-c0960500fb2f>\u001b[0m in \u001b[0;36m<module>\u001b[0;34m\u001b[0m\n\u001b[1;32m      3\u001b[0m \u001b[0;31m# type(no21)\u001b[0m\u001b[0;34m\u001b[0m\u001b[0;34m\u001b[0m\u001b[0m\n\u001b[1;32m      4\u001b[0m \u001b[0;31m# print(id(no22),id(no23))\u001b[0m\u001b[0;34m\u001b[0m\u001b[0;34m\u001b[0m\u001b[0m\n\u001b[0;32m----> 5\u001b[0;31m \u001b[0mno1\u001b[0m\u001b[0;34m.\u001b[0m\u001b[0mexam\u001b[0m\u001b[0;34m(\u001b[0m\u001b[0;36m90\u001b[0m\u001b[0;34m)\u001b[0m\u001b[0;34m\u001b[0m\u001b[0m\n\u001b[0m\u001b[1;32m      6\u001b[0m \u001b[0mno1\u001b[0m\u001b[0;34m.\u001b[0m\u001b[0mexam\u001b[0m\u001b[0;34m(\u001b[0m\u001b[0;36m80\u001b[0m\u001b[0;34m)\u001b[0m\u001b[0;34m\u001b[0m\u001b[0m\n\u001b[1;32m      7\u001b[0m \u001b[0mno1\u001b[0m\u001b[0;34m.\u001b[0m\u001b[0mexam\u001b[0m\u001b[0;34m(\u001b[0m\u001b[0;36m80\u001b[0m\u001b[0;34m)\u001b[0m\u001b[0;34m\u001b[0m\u001b[0m\n",
      "\u001b[0;32m<ipython-input-90-3ac20e1ba171>\u001b[0m in \u001b[0;36mexam\u001b[0;34m(self, examscore)\u001b[0m\n\u001b[1;32m     30\u001b[0m             \u001b[0mprint\u001b[0m\u001b[0;34m(\u001b[0m\u001b[0;34m'you are cheating!'\u001b[0m\u001b[0;34m)\u001b[0m\u001b[0;34m\u001b[0m\u001b[0m\n\u001b[1;32m     31\u001b[0m         \u001b[0;32melse\u001b[0m\u001b[0;34m:\u001b[0m\u001b[0;34m\u001b[0m\u001b[0m\n\u001b[0;32m---> 32\u001b[0;31m             \u001b[0mself\u001b[0m\u001b[0;34m.\u001b[0m\u001b[0m__score\u001b[0m\u001b[0;34m+=\u001b[0m\u001b[0mexamscore\u001b[0m\u001b[0;34m\u001b[0m\u001b[0m\n\u001b[0m\u001b[1;32m     33\u001b[0m             \u001b[0mself\u001b[0m\u001b[0;34m.\u001b[0m\u001b[0mtimes\u001b[0m\u001b[0;34m+=\u001b[0m\u001b[0;36m1\u001b[0m\u001b[0;34m\u001b[0m\u001b[0m\n\u001b[1;32m     34\u001b[0m             \u001b[0mprint\u001b[0m\u001b[0;34m(\u001b[0m\u001b[0;34m'OK!'\u001b[0m\u001b[0;34m)\u001b[0m\u001b[0;34m\u001b[0m\u001b[0m\n",
      "\u001b[0;31mAttributeError\u001b[0m: 'Student' object has no attribute '_Student__score'"
     ]
    }
   ],
   "source": [
    "no1=Student('cwf408528649',22,'male')\n",
    "no2=Student('tianyang',24,'male')\n",
    "# type(no21)\n",
    "# print(id(no22),id(no23))\n",
    "no1.exam(90)\n",
    "no1.exam(80)\n",
    "no1.exam(80)\n",
    "no1.exam(80)\n",
    "no1.exam(80)\n",
    "no2.exam(80)\n",
    "no2.exam(80)\n",
    "no2.exam(80)\n",
    "no2.exam(80)\n",
    "no2.exam(80)\n",
    "no2.exam(80)\n",
    "no2.exam(80)\n",
    "no2.exam(80)\n",
    "no2.exam(80)\n",
    "no2.exam(80)\n",
    "no2.exam(80)"
   ]
  },
  {
   "cell_type": "code",
   "execution_count": 84,
   "metadata": {},
   "outputs": [
    {
     "data": {
      "text/plain": [
       "'you need to do more {8-self.times} tests to graduate!'"
      ]
     },
     "execution_count": 84,
     "metadata": {},
     "output_type": "execute_result"
    }
   ],
   "source": [
    "no1.check()"
   ]
  },
  {
   "cell_type": "code",
   "execution_count": 87,
   "metadata": {},
   "outputs": [
    {
     "data": {
      "text/plain": [
       "[]"
      ]
     },
     "execution_count": 87,
     "metadata": {},
     "output_type": "execute_result"
    }
   ],
   "source": [
    "Student.get_graducated_student_list()"
   ]
  },
  {
   "cell_type": "markdown",
   "metadata": {},
   "source": [
    "#### 类成员详解"
   ]
  },
  {
   "cell_type": "markdown",
   "metadata": {},
   "source": [
    "- 数据成员\n",
    "  - 类变量与实例变量\n",
    "- 方法成员\n",
    "  - 类方法与实例方法"
   ]
  },
  {
   "cell_type": "markdown",
   "metadata": {},
   "source": [
    "##### 私有成员保护"
   ]
  },
  {
   "cell_type": "code",
   "execution_count": 295,
   "metadata": {},
   "outputs": [
    {
     "data": {
      "text/plain": [
       "0"
      ]
     },
     "execution_count": 295,
     "metadata": {},
     "output_type": "execute_result"
    }
   ],
   "source": [
    "#私有成员：对类内部的属性及方法，通过在在标识符前加双 下划线__来实现的私有化\n",
    "#即使是在成员名面前加了__，依旧可以访问到。\n",
    " #因为python使用一种 name mangling 技术，将 __membername替换成 _classname__membername\n",
    "no2._Student__score\n",
    "# dir(no22)"
   ]
  },
  {
   "cell_type": "markdown",
   "metadata": {},
   "source": [
    "#### 类中的关键字与装饰器"
   ]
  },
  {
   "cell_type": "code",
   "execution_count": 297,
   "metadata": {},
   "outputs": [
    {
     "data": {
      "text/plain": [
       "'jack'"
      ]
     },
     "execution_count": 297,
     "metadata": {},
     "output_type": "execute_result"
    },
    {
     "data": {
      "text/plain": [
       "0"
      ]
     },
     "execution_count": 297,
     "metadata": {},
     "output_type": "execute_result"
    },
    {
     "data": {
      "text/plain": [
       "0"
      ]
     },
     "execution_count": 297,
     "metadata": {},
     "output_type": "execute_result"
    }
   ],
   "source": [
    "#关键字\n",
    "# cls\n",
    "# cls是指向类的指针，在类方法中第一个形参要命名为cls.\n",
    "\n",
    "# self\n",
    "# self是指向每个独立对象的指针.在实例方法中第一个形参被命名为self,以区别其它函数。 \n",
    "#对象方法以self参数，类方法以cls参数来传递。\n",
    "\n",
    "#装饰器\n",
    "#@staticmethod：类静态方法\n",
    "#@classmethod：类方法\n",
    "\n",
    "\n",
    "#@property—把函数调用伪装成对属性的访问,数据描述符属性的优先级高于实例名称空间中的同名成员。\n",
    "# 使用@property，不用再像java中使用getter,setter方法去设置和访问类变量   \n",
    "# 这时，也只有通过@property，才能对实例变量进行访问或设置，实现了对变量访问的控制，\n",
    "\n",
    "class Student1():\n",
    "    def __init__(self,name,age):  ###__init__实例初始化\n",
    "        self.name = name       ####self:实例变量，变量的名字叫name\n",
    "        self.__age=age\n",
    "        \n",
    "    @property #getter\n",
    "    def name1(self):\n",
    "        return self.name\n",
    "    \n",
    "    @name1.setter  # setter\n",
    "    def name1(self,newname):\n",
    "        self.name = newname\n",
    "        \n",
    "    @property #getter\n",
    "    def age(self):\n",
    "        return 0\n",
    "    @age.setter  # setter\n",
    "    def age(self,newage):\n",
    "        self.__age = newage\n",
    "        \n",
    "# 上面这样设置的是类变量可以被类实例随意访问，修改。\n",
    "# 注意，这里的name1，如果和实例变量name重名会导致，无限递归！！！\n",
    "# RecursionError: maximum recursion depth exceeded while calling a Python object\n",
    "\n",
    "# 但如果想让@property和类实例变量同名呢？  \n",
    "# 将实例变量设置为私有(像age一样)就不会导致重名引发递归死机了\n",
    "s1=Student1('jack',33)\n",
    "s1.name1\n",
    "\n",
    "s1.age#getter\n",
    "s1.age=22#setter\n",
    "\n",
    "s1.age"
   ]
  },
  {
   "cell_type": "code",
   "execution_count": 98,
   "metadata": {},
   "outputs": [],
   "source": [
    "l1=[1,2]\n",
    "l2=[1,2]\n",
    "\n",
    "import numpy as np\n",
    "\n",
    "l1=np.array(l1)\n",
    "l2=np.array(l2)\n",
    "\n",
    "l1 & l2"
   ]
  },
  {
   "cell_type": "markdown",
   "metadata": {},
   "source": [
    "#### 魔术方法,`__*__`\n",
    "- 魔法方法就是可以给你的类增加魔力的特殊方法，如果你的对象实现（重载）了这些方法中的某一个，那么这个方法就会在特殊的情况下被 Python 所调用，\n",
    "- 你可以定义自己想要的行为，这些会自动发生。\n",
    "- 它们经常是两个下划线包围来命名的"
   ]
  },
  {
   "cell_type": "code",
   "execution_count": 58,
   "metadata": {},
   "outputs": [
    {
     "name": "stdout",
     "output_type": "stream",
     "text": [
      "被__init__\n",
      "我被__del__了，再见\n"
     ]
    }
   ],
   "source": [
    "#一个最基本的魔术方法， __init__ 。\n",
    "\n",
    "#通过此方法我们可以定义一个对象的初始操作。\n",
    "#然而，当我调用 x = SomeClass() 的时候， __init__ 并不是第一个被调用的方法。\n",
    "#实际上，还有一个叫做 __new__ 的方法，来构造这个实例。\n",
    "#然后给在开始创建时候的初始化函数来传递参数。\n",
    "#在对象生命周期的结束时，也有一个 __del__ 方法\n",
    "\n",
    "class myclass():\n",
    "    def __init__(self,):\n",
    "        print('被__init__')\n",
    "\n",
    "    def __del__(self,):\n",
    "        print('我被__del__了，再见')        \n",
    "\n",
    "c1=myclass()\n",
    "del c1"
   ]
  },
  {
   "cell_type": "code",
   "execution_count": 58,
   "metadata": {},
   "outputs": [
    {
     "data": {
      "text/plain": [
       "[1, 2, 3]"
      ]
     },
     "execution_count": 58,
     "metadata": {},
     "output_type": "execute_result"
    }
   ],
   "source": [
    "list1=[1,2,3,4,5,6,7]\n",
    "list1[0:3]"
   ]
  },
  {
   "cell_type": "code",
   "execution_count": 101,
   "metadata": {},
   "outputs": [
    {
     "data": {
      "text/plain": [
       "[3, 4, 5]"
      ]
     },
     "execution_count": 101,
     "metadata": {},
     "output_type": "execute_result"
    },
    {
     "data": {
      "text/plain": [
       "5"
      ]
     },
     "execution_count": 101,
     "metadata": {},
     "output_type": "execute_result"
    }
   ],
   "source": [
    "l1=[1,2,3,4,5]\n",
    "l1[2:5]\n",
    "len(l1)"
   ]
  },
  {
   "cell_type": "code",
   "execution_count": 299,
   "metadata": {},
   "outputs": [
    {
     "data": {
      "text/plain": [
       "20"
      ]
     },
     "execution_count": 299,
     "metadata": {},
     "output_type": "execute_result"
    },
    {
     "data": {
      "text/plain": [
       "[0, 1, 2, 3, 4, 5]"
      ]
     },
     "execution_count": 299,
     "metadata": {},
     "output_type": "execute_result"
    }
   ],
   "source": [
    "#访问魔法函数__getitem__\n",
    "class FunctionalList():\n",
    "\n",
    "    def __init__(self, values=None):#初始化\n",
    "        if values is None:\n",
    "            self.values = []\n",
    "        else:\n",
    "            self.values = values\n",
    "\n",
    "    def __len__(self):\n",
    "        return len(self.values)+10#故意多加10个\n",
    "\n",
    "    def __getitem__(self, key):\n",
    "        if type(key)==slice:#如果传入的key是一个slice类，则这是一个切片访问\n",
    "            start=key.start\n",
    "            stop=key.stop+1\n",
    "            if key.stop==None:\n",
    "                stop=-1\n",
    "            if key.start==None:\n",
    "                start=0\n",
    "            return self.values[start:stop]\n",
    "        else:\n",
    "            return str(self.values[key])*2#故意多输出2次\n",
    "    \n",
    "\n",
    "    def __setitem__(self, key, value):\n",
    "        self.values[key] = str(value)+'haha'#故意都给转成str，再加haha字样\n",
    "\n",
    "    def __delitem__(self, key):\n",
    "        pass\n",
    "        #del self.values[key]#就是故意不去删\n",
    "\n",
    "    def __iter__(self):#用于迭代器，之所以列表、字典、元组等可以进行for循环，是因为类型内部定义了 __iter__\n",
    "#         pass\n",
    "        return iter(self.values)\n",
    "\n",
    "    def __reversed__(self):\n",
    "        return reversed(self.values)\n",
    "\n",
    "\n",
    "    def append(self, value):#非魔术方法\n",
    "        self.values.append(value)\n",
    "\n",
    "l1=list(range(10))\n",
    "o1=FunctionalList(l1)\n",
    "len(o1)#调用的是__len__\n",
    "\n",
    "\n",
    "o1[0:5]"
   ]
  },
  {
   "cell_type": "markdown",
   "metadata": {},
   "source": [
    "#### 描述符descriptor\n",
    "\n",
    "描述符是一个“绑定行为”的对象属性，在描述符协议中，它可以通过方法重写属性的访问。   \n",
    "这些方法有 __get__(), __set__(), 和__delete__()。   \n",
    "如果这些方法中的任何一个被定义在一个对象中，这个对象就是一个描述符。\n",
    "\n",
    "property就是数据描述符，没提供setter方法，但__set__也存在。因此高于同名成员。"
   ]
  },
  {
   "cell_type": "markdown",
   "metadata": {},
   "source": [
    "#### 继承与多态"
   ]
  },
  {
   "cell_type": "code",
   "execution_count": 25,
   "metadata": {},
   "outputs": [
    {
     "name": "stdout",
     "output_type": "stream",
     "text": [
      "300\n",
      "450\n",
      "730.0\n"
     ]
    }
   ],
   "source": [
    "class Cinema():\n",
    "    salesTotal = 0\n",
    "    def __init__(self,name,location,sales):\n",
    "        self.name = name\n",
    "        self.location = location\n",
    "        self.sales = sales\n",
    "        Cinema.salesTotal += sales\n",
    "    def saleTickets(self, total):\n",
    "        self.sales += total\n",
    "        Cinema.salesTotal += total\n",
    "    @classmethod\n",
    "    def getSales(cls,):\n",
    "        return Cinema.salesTotal\n",
    "\n",
    "cinema1 = Cinema(\"万达影院\",\"万达广场\",100)\n",
    "cinema1.saleTickets(200)\n",
    "print(Cinema.getSales())\n",
    "cinema2 = Cinema(\"DMG影院\",\"房山南路\",50)\n",
    "cinema2.saleTickets(100)\n",
    "print(Cinema.getSales())\n",
    "\n",
    "class MiniCinema(Cinema):\n",
    "    def saleTickets(self, total):\n",
    "        if total > 100:\n",
    "            total*=0.9\n",
    "        super().saleTickets(total)#Python中的super().是代表调用父类中的成员。\n",
    "minicinema1 = MiniCinema(\"万达影院\",\"万达广场\",100)\n",
    "\n",
    "minicinema1.saleTickets(200)\n",
    "print(MiniCinema.getSales())"
   ]
  },
  {
   "cell_type": "code",
   "execution_count": 73,
   "metadata": {},
   "outputs": [
    {
     "data": {
      "text/plain": [
       "(__main__.MiniCinema, __main__.Cinema, object)"
      ]
     },
     "execution_count": 73,
     "metadata": {},
     "output_type": "execute_result"
    }
   ],
   "source": [
    "MiniCinema.__base__\n",
    "#返回一个元组，该元组元素是类的基类，如：\n",
    "MiniCinema.__mro__\n",
    "#This attribute is a tuple of classes that are considered when looking for base classes during method resolution. \n",
    "#返回一个元组，该元组元素是该类的继承的类，当查询继承的时候会按从左到右的顺序。"
   ]
  },
  {
   "cell_type": "markdown",
   "metadata": {},
   "source": [
    "#### 元类metaclass"
   ]
  },
  {
   "cell_type": "markdown",
   "metadata": {},
   "source": [
    "元类就是用来创建类的“东西”，即函数type。type就是Python在背后用来创建所有类的元类    \n",
    "面向对象思想中的类和对象在Python中都是通过对象来实现的，没错，类也是对象。\n",
    "\n",
    "```python\n",
    "class ObjectCreator(object):\n",
    "    pass\n",
    "```\n",
    "\n",
    "以上代码创建一个名为ObjectCreator的类(实际为对象)   \n",
    "这个类(实际为对象)自身拥有创建对象（类实例）的能力，而这就是为什么它是一个类的原因   \n",
    "但是，它的本质仍然是一个对象（类本质 上也是一个对象）   "
   ]
  },
  {
   "cell_type": "markdown",
   "metadata": {},
   "source": [
    "![](./types.jpg)"
   ]
  },
  {
   "cell_type": "code",
   "execution_count": 24,
   "metadata": {},
   "outputs": [
    {
     "data": {
      "text/plain": [
       "True"
      ]
     },
     "execution_count": 24,
     "metadata": {},
     "output_type": "execute_result"
    }
   ],
   "source": [
    "##重提type函数\n",
    "# type()还有种非凡的能力，即能抛开上面固化的代码，而动态的创建类。\n",
    "# 而且通过type()函数创建的类和直接写class是完全一样的。\n",
    "# 因为解释器遇到class关键字时，扫描一下class定义的语法，最后还是调用type()函数创建出class\n",
    "\n",
    "#type()函数依次传入3个参数：\n",
    "# 1.class的名称\n",
    "# 2.class继承的父类集合，注意Python支持多重继承，如果只有一个父类，别忘了tuple的单元素写法；\n",
    "# 3.class的方法名称与函数绑定，这里我们把函数fn绑定到方法名hello上。\n",
    "\n",
    "MyTypeClass = type('MyTypeClass', (), {}) \n",
    "Foo = type('Foo', (), {'is_createdbyType':True})\n",
    "FooChild = type('FooChild', (Foo,),{}) \n",
    "FooChild = type('FooChild', (Foo,), {'echo_bar': 1})"
   ]
  },
  {
   "cell_type": "code",
   "execution_count": 3,
   "metadata": {},
   "outputs": [],
   "source": [
    "type?"
   ]
  },
  {
   "cell_type": "markdown",
   "metadata": {},
   "source": [
    "### 作业"
   ]
  },
  {
   "cell_type": "markdown",
   "metadata": {},
   "source": [
    "/exercise/目录下"
   ]
  }
 ],
 "metadata": {
  "kernelspec": {
   "display_name": "Python 3",
   "language": "python",
   "name": "python3"
  },
  "language_info": {
   "codemirror_mode": {
    "name": "ipython",
    "version": 3
   },
   "file_extension": ".py",
   "mimetype": "text/x-python",
   "name": "python",
   "nbconvert_exporter": "python",
   "pygments_lexer": "ipython3",
   "version": "3.5.2"
  }
 },
 "nbformat": 4,
 "nbformat_minor": 2
}
