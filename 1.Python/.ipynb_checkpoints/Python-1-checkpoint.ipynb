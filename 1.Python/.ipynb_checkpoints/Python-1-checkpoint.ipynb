{
 "cells": [
  {
   "cell_type": "markdown",
   "metadata": {},
   "source": [
    "![](https://julyedu-img-public.oss-cn-beijing.aliyuncs.com/Public/img/index/logo.png)"
   ]
  },
  {
   "cell_type": "markdown",
   "metadata": {},
   "source": [
    "\n",
    "## 机器学习集训营第六期 [@Julyedu.com七月在线 ](http://www.julyedu.com)\n",
    "### 第一阶段：零基础快速上手编程\n",
    "#### 第一课  Python环境，基本类型、判断与循环流程等\n",
    "\n",
    "##### David@七月在线 2018-10-22"
   ]
  },
  {
   "cell_type": "markdown",
   "metadata": {},
   "source": [
    "#### 集训营整体课程路径介绍 \n",
    "\n",
    "1. Python编程基础\n",
    "- 数据处理、分析\n",
    "- 数据可视化\n",
    "- 大数据生态(Hadoop/Spark)\n",
    "- 机器学习原理\n",
    "- 机器学习实战\n",
    "- 深度学习\n",
    "- 综合项目指导"
   ]
  },
  {
   "cell_type": "markdown",
   "metadata": {},
   "source": [
    "### 本节课程目标\n",
    "\n",
    "#### 运行环境\n",
    "1. Anaconda本地环境搭建\n",
    "- Jupyter notebook及云平台的使用\n",
    "***\n",
    "#### Python基础\n",
    "1. Python简介，解释执行，与运行方式\n",
    "- 基础语法及相应帮助的使用\n",
    "- Python标识符，解除名字引用，名字空间与局部作用域L,全局作用域G\n",
    "- 标准操作符\n",
    "- Python基本数据类型(文本，字符串)与数据结构(列表 集合, 元组, 字典)\n",
    "- 声明Statement与Expression表达式\n",
    "- 判断，循环与循环控制\n",
    "- BIFs 自带电池(`__builtins__`模块)与模块作用域B\n",
    "- 调试\n",
    "- 异常处理\n",
    "\n",
    "#### 作业\n",
    "1. 完成本节课程的练习"
   ]
  },
  {
   "cell_type": "markdown",
   "metadata": {},
   "source": [
    "### 0. 预备:Jupyter Notebook快速上手"
   ]
  },
  {
   "cell_type": "markdown",
   "metadata": {},
   "source": [
    "#### [cell](https://ipython.org/ipython-doc/3/notebook/nbformat.html)\n",
    "\n",
    "* Python\n",
    "* Markdown\n",
    "* Latex in markdown cell"
   ]
  },
  {
   "cell_type": "markdown",
   "metadata": {},
   "source": [
    "#### ipython magic (%line magic & %%cell magic)"
   ]
  },
  {
   "cell_type": "markdown",
   "metadata": {},
   "source": [
    "- 1.line magic"
   ]
  },
  {
   "cell_type": "code",
   "execution_count": 3,
   "metadata": {},
   "outputs": [],
   "source": [
    "%quickref"
   ]
  },
  {
   "cell_type": "code",
   "execution_count": null,
   "metadata": {},
   "outputs": [],
   "source": [
    "%lsmagic"
   ]
  },
  {
   "cell_type": "code",
   "execution_count": 4,
   "metadata": {},
   "outputs": [
    {
     "name": "stdout",
     "output_type": "stream",
     "text": [
      "Pretty printing has been turned OFF\n"
     ]
    }
   ],
   "source": [
    "%config ZMQInteractiveShell.ast_node_interactivity='all'\n",
    "%pprint"
   ]
  },
  {
   "cell_type": "code",
   "execution_count": 5,
   "metadata": {},
   "outputs": [
    {
     "data": {
      "text/plain": [
       "2"
      ]
     },
     "execution_count": 5,
     "metadata": {},
     "output_type": "execute_result"
    },
    {
     "data": {
      "text/plain": [
       "3"
      ]
     },
     "execution_count": 5,
     "metadata": {},
     "output_type": "execute_result"
    },
    {
     "data": {
      "text/plain": [
       "2"
      ]
     },
     "execution_count": 5,
     "metadata": {},
     "output_type": "execute_result"
    },
    {
     "data": {
      "text/plain": [
       "3"
      ]
     },
     "execution_count": 5,
     "metadata": {},
     "output_type": "execute_result"
    }
   ],
   "source": [
    "a=2\n",
    "n=3\n",
    "a\n",
    "n\n",
    "a\n",
    "n\n"
   ]
  },
  {
   "cell_type": "markdown",
   "metadata": {},
   "source": [
    "- 2.cell magic"
   ]
  },
  {
   "cell_type": "code",
   "execution_count": 1,
   "metadata": {
    "scrolled": true
   },
   "outputs": [
    {
     "name": "stdout",
     "output_type": "stream",
     "text": [
      "this is python3\n"
     ]
    }
   ],
   "source": [
    "%%html\n",
    "print('this is python3')"
   ]
  },
  {
   "cell_type": "code",
   "execution_count": null,
   "metadata": {
    "scrolled": true
   },
   "outputs": [],
   "source": [
    "%%python2\n",
    "\n",
    "print 'this is python2'"
   ]
  },
  {
   "cell_type": "markdown",
   "metadata": {},
   "source": [
    "#### Latex in markdown cell\n",
    "$$P(A\\mid B)=\\frac{P(A)P(B\\mid A)}{P(B)}$$\n",
    "\n",
    "$$||x||_{2} = \\sqrt{\\sum_{i=1}^{n}x_{i}^2}$$\n",
    "\n",
    "$$f(X)=\\frac{1}{\\sigma \\sqrt{2\\pi}}e^{-\\frac{(x-\\mu)^2}{2\\sigma^2}}$$"
   ]
  },
  {
   "cell_type": "markdown",
   "metadata": {},
   "source": [
    "#### Jupyter notebook扩展"
   ]
  },
  {
   "cell_type": "markdown",
   "metadata": {},
   "source": [
    "##### Jupyter notebook功能扩展Nbextensions   \n",
    "`python -m pip install jupyter_contrib_nbextensions`   \n",
    "`jupyter contrib nbextension install --user --skip-running-check  `\n",
    "\n",
    "##### 添加对R语言的支持\n",
    "\n",
    "`conda install -c r r-essentials`后，新建notebook测试\n",
    "\n",
    "\n",
    "##### Notebook对Julia的支持\n",
    "可以直接安装JuliaPro这个Julia全家桶"
   ]
  },
  {
   "cell_type": "markdown",
   "metadata": {},
   "source": [
    "### 1. Python简介，解释执行，运行方式\n",
    "\n",
    "#### Python简介\n",
    "![](./python.jpg)\n",
    "\n",
    "#### Python源码目录结构\n",
    " - Include： 这个目录包括了 Python 的所有头文件。\n",
    " - Lib：这里是 Python 标准库，都是用 Python 实现的。\n",
    " - Modules：用 C 语言编写的模块，比如 cStringIO / tkinter 高性能实现\n",
    " - Objects：Python 内建对象，如 int / list 的实现\n",
    " - Parser：Python 解释器的 Scanner 和 Parser\n",
    " - Python：Python 解释器的 Compiler 和执行引擎，运行核心\n",
    " \n",
    "\n",
    " \n",
    "#### Python解释与执行\n",
    "Python解释器（interpreter）在执行任何一个Python程序文件时，首先进行的动作都是先对文件中的Python源代码进行编译，编译的主要结果是产生的一组Python的字节码（byte code），pyc文件是字节码在磁盘上的表现形式，是进行import module时对py文件进行编译的文件结果（如果之前编译过，且源文件又没有变化，则直接运行该pyc文件），而编译结果就是Python中的PyCodeObject对象，然后PyCodeObject对象交给Python虚拟机（Virtual Machine），由虚拟机按照顺序一条一条地执行字节码，从而完成对Python程序的执行动作。\n",
    "\n",
    "> python： .py  -->(编译器)-->.pyc-->解释器(虚拟机)-->结果   \n",
    "\n",
    "- 在编译好的Python环境中，编译器和解释器都被封装进了python36.dll中，由python.exe调用"
   ]
  },
  {
   "cell_type": "code",
   "execution_count": 1,
   "metadata": {
    "scrolled": true
   },
   "outputs": [
    {
     "name": "stdout",
     "output_type": "stream",
     "text": [
      "56\n"
     ]
    },
    {
     "data": {
      "text/plain": [
       "2"
      ]
     },
     "execution_count": 1,
     "metadata": {},
     "output_type": "execute_result"
    }
   ],
   "source": [
    "#1.命令行使用python直接运行py文件\n",
    "#在notebook的cell中，可以在!后输入系统命令，而不用转去命令行\n",
    "#如!python,!dir\n",
    "\n",
    "#2.内置函数compile可以编译Python代码\n",
    "#source_code为py源文件内容\n",
    "source_code=\\\n",
    "'''\n",
    "#this is documents\n",
    "base_string='julyedu.com'\n",
    "\n",
    "def test1(a,b):\n",
    " return a+b\n",
    "\n",
    "def test2(c):\n",
    " x=7\n",
    " print(c**2+x)\n",
    "'''\n",
    "\n",
    "co=compile(source_code,'test_compile.py','exec')\n",
    "exec(co)#类似于import test_compile.py\n",
    "\n",
    "test1(2,6),test2(7)#可以看到test1,test2名称已经导入当前名字空间\n",
    "\n",
    "co#module's PyCodeObject\n",
    "#co_code是指令序列，是一串二进制流，co_code只含有指令而不包含其它数据，如变量名、常量，数据放在别的区域里。\n",
    "#opcode-“字节码”:指令以字节为单位，最多表示256个不同的字节码指令。\n",
    "co.co_code\n",
    "\n",
    "co.__dir__()\n",
    "\n",
    "test1.__code__.co_argcount\n",
    "test2.__code__.co_varnames\n",
    "test2.__code__.co_nlocals"
   ]
  },
  {
   "cell_type": "markdown",
   "metadata": {},
   "source": [
    "##### 延伸阅读：使用Disassembler反汇编模块解读code\n",
    "- 文档： https://docs.python.org/3/library/dis.html"
   ]
  },
  {
   "cell_type": "code",
   "execution_count": 2,
   "metadata": {
    "scrolled": true
   },
   "outputs": [
    {
     "name": "stdout",
     "output_type": "stream",
     "text": [
      "  3           0 LOAD_CONST               0 ('julyedu.com')\n",
      "              3 STORE_NAME               0 (base_string)\n",
      "\n",
      "  5           6 LOAD_CONST               1 (<code object test1 at 0x7f156023b660, file \"test_compile.py\", line 5>)\n",
      "              9 LOAD_CONST               2 ('test1')\n",
      "             12 MAKE_FUNCTION            0\n",
      "             15 STORE_NAME               1 (test1)\n",
      "\n",
      "  8          18 LOAD_CONST               3 (<code object test2 at 0x7f156019df60, file \"test_compile.py\", line 8>)\n",
      "             21 LOAD_CONST               4 ('test2')\n",
      "             24 MAKE_FUNCTION            0\n",
      "             27 STORE_NAME               2 (test2)\n",
      "             30 LOAD_CONST               5 (None)\n",
      "             33 RETURN_VALUE\n"
     ]
    }
   ],
   "source": [
    "import dis\n",
    "dis.dis(co)#反汇编module test_compile\n",
    "# dis.dis(test1),dis.dis(test2)#反汇编module test_compile下的函数"
   ]
  },
  {
   "cell_type": "markdown",
   "metadata": {},
   "source": [
    "##### 延伸阅读：Disassembler格式及解读\n",
    "\n",
    "- 第一列表示以下几个指令在py文件中的行号;\n",
    "- 第二列是该指令在指令序列co_code里的偏移量;\n",
    "- 第三列是指令opcode的名称，分为有操作数和无操作数两种，opcode在指令序列中是一个字节的整数;\n",
    "- 第四列是操作数oparg，在指令序列中占两个字节，基本都是co_consts或者co_names的下标;\n",
    "- 第五列带括号的是操作数说明。\n",
    "\n",
    "|opcode|oparg|opcode|opcode|oparg|\n",
    "|:---|:---|:---|:---|:---|\n",
    "|1 byte|2 bytes|1 byte|1 byte|2 bytes|\n",
    "\n"
   ]
  },
  {
   "cell_type": "markdown",
   "metadata": {},
   "source": [
    "#### Python的两种运行方式\n",
    "##### 1.解释运行：如PyCharme\n",
    "- 下方新建py文件"
   ]
  },
  {
   "cell_type": "code",
   "execution_count": 4,
   "metadata": {
    "scrolled": true
   },
   "outputs": [
    {
     "name": "stdout",
     "output_type": "stream",
     "text": [
      "Overwriting test.py\n"
     ]
    }
   ],
   "source": [
    "%%writefile test.py\n",
    "import sys\n",
    "print(f'the file run name {sys.argv[0]}')\n",
    "for i in range(int(sys.argv[1])):\n",
    "    print(i,'times run')"
   ]
  },
  {
   "cell_type": "code",
   "execution_count": 5,
   "metadata": {
    "scrolled": true
   },
   "outputs": [
    {
     "name": "stdout",
     "output_type": "stream",
     "text": [
      "the file run name {sys.argv[0]}\r\n",
      "(0, 'times run')\r\n",
      "(1, 'times run')\r\n"
     ]
    }
   ],
   "source": [
    "!python test.py 2 "
   ]
  },
  {
   "cell_type": "code",
   "execution_count": null,
   "metadata": {},
   "outputs": [],
   "source": []
  },
  {
   "cell_type": "markdown",
   "metadata": {},
   "source": [
    "##### 2.交互运行\n",
    "- cmd ,ipython, notebook"
   ]
  },
  {
   "cell_type": "markdown",
   "metadata": {},
   "source": [
    "### 2.基础语法及相关帮助的使用"
   ]
  },
  {
   "cell_type": "code",
   "execution_count": 6,
   "metadata": {
    "scrolled": true
   },
   "outputs": [
    {
     "name": "stdout",
     "output_type": "stream",
     "text": [
      "hello,python\n",
      "hello!\n",
      "hello,\n",
      " python\n",
      "hello,\" python\n",
      "在线课程：1-基本python类型、判断与循环流程等\n",
      "在线实训：2-python基本练习题\n",
      "在线课程：3-文件/数据读写、面向对象、第三方库等\n",
      "在线实训：4-多种数据读写与面向对象练习\n",
      "线下实训：5-python基本练习题 与 google python实战题\n",
      "I' am 007\n",
      "hello\n",
      "python!\n",
      "welcome to julyedu.com\n",
      "['__add__', '__class__', '__contains__', '__delattr__', '__dir__', '__doc__', '__eq__', '__format__', '__ge__', '__getattribute__', '__getitem__', '__getnewargs__', '__gt__', '__hash__', '__init__', '__iter__', '__le__', '__len__', '__lt__', '__mod__', '__mul__', '__ne__', '__new__', '__reduce__', '__reduce_ex__', '__repr__', '__rmod__', '__rmul__', '__setattr__', '__sizeof__', '__str__', '__subclasshook__', 'capitalize', 'casefold', 'center', 'count', 'encode', 'endswith', 'expandtabs', 'find', 'format', 'format_map', 'index', 'isalnum', 'isalpha', 'isdecimal', 'isdigit', 'isidentifier', 'islower', 'isnumeric', 'isprintable', 'isspace', 'istitle', 'isupper', 'join', 'ljust', 'lower', 'lstrip', 'maketrans', 'partition', 'replace', 'rfind', 'rindex', 'rjust', 'rpartition', 'rsplit', 'rstrip', 'split', 'splitlines', 'startswith', 'strip', 'swapcase', 'title', 'translate', 'upper', 'zfill']\n",
      "str(object='') -> str\n",
      "str(bytes_or_buffer[, encoding[, errors]]) -> str\n",
      "\n",
      "Create a new string object from the given object. If encoding or\n",
      "errors is specified, then the object must expose a data buffer\n",
      "that will be decoded using the given encoding and error handler.\n",
      "Otherwise, returns the result of object.__str__() (if defined)\n",
      "or repr(object).\n",
      "encoding defaults to sys.getdefaultencoding().\n",
      "errors defaults to 'strict'.\n"
     ]
    }
   ],
   "source": [
    "# 注释与多行注释\n",
    "print('hello,python')\n",
    "print('hello!')\n",
    "\n",
    "#\\反斜线\n",
    "#/斜线\n",
    "\n",
    "#代码分隔\\\n",
    "source_code=\\\n",
    "'''\n",
    "base_string='julyedu.com'\n",
    "\n",
    "def test1(a,b):\n",
    " return a+b\n",
    "\n",
    "def test2(c):\n",
    " x=7\n",
    " print(c**2+x)\n",
    "'''\n",
    "\n",
    "\n",
    "\n",
    "#文本\n",
    "print('hello,\\n python')\n",
    "\n",
    "print('hello,\" python')\n",
    "\n",
    "#单行与多行文本的初始化\n",
    "str1=\"julyedu.com\"\n",
    "\n",
    "str2='''在线课程：1-基本python类型、判断与循环流程等\n",
    "在线实训：2-python基本练习题\n",
    "在线课程：3-文件/数据读写、面向对象、第三方库等\n",
    "在线实训：4-多种数据读写与面向对象练习\n",
    "线下实训：5-python基本练习题 与 google python实战题'''\n",
    "\n",
    "print(str2)\n",
    "\n",
    "#文本转义\n",
    "print('I\\' am 007')\n",
    "\n",
    "\n",
    "#一行写多行python代码;\n",
    "print('hello');print('python!')\n",
    "\n",
    "\n",
    "# 缩进 PEP8   https://www.python.org/dev/peps/pep-0008/\n",
    "# PEP是Python Enhancement Proposals的缩写。\n",
    "# 一个PEP是一份为Python社区提供各种增强功能的技术规格，也是提交新特性，以便让社区指出问题，精确化技术文档的提案。\n",
    "\n",
    "#分隔代码块:\n",
    "\n",
    "title='Julyedu.com';score=61\n",
    "\n",
    "if title=='Julyedu.com':\n",
    "    print('welcome to julyedu.com')\n",
    "    if score<60:\n",
    "        pass\n",
    "\n",
    "#空行 pass\n",
    "# def myfunc():\n",
    "#     pass\n",
    "\n",
    "#模块\n",
    "import random\n",
    "# dir(random)\n",
    "\n",
    "#帮助的使用\n",
    "#dir,help,?,??,shift+tab,tab,相关Python的小抄\n",
    "s1='china'\n",
    "print(dir(s1))\n",
    "print(s1.__doc__)\n",
    "s1.rfind?"
   ]
  },
  {
   "cell_type": "markdown",
   "metadata": {},
   "source": [
    "### 3.Python标识符，解除名字引用，名字空间与局部作用域L,全局作用域G\n",
    "\n",
    "#### 合法标识符\n",
    "- 数字，下划线，字母构成\n",
    "- 避开关键字\n",
    "- 不能用数字开头\n",
    "```\n",
    "如以下标识符取名错误\n",
    "for='julyedu.com'\n",
    "7a=8\n",
    "str='七月在线'\n",
    "```\n",
    "\n",
    "#### 好的命名习惯让开发更有效率\n",
    "- 变量，函数或方法:salary,houseworker,booksname   \n",
    "- 常量：INTEREST_RATES   \n",
    "- 类：BankAccount,Employee,Company,OrderedDict #骆峰命名法\n",
    "\n",
    "#### 名字与对象之间的建立引用与解除引用\n",
    "我们可以使用`=`建立名字与对象之间的关联，用`del 名字`来解除这种关联"
   ]
  },
  {
   "cell_type": "code",
   "execution_count": 4,
   "metadata": {},
   "outputs": [
    {
     "data": {
      "text/plain": [
       "2"
      ]
     },
     "execution_count": 4,
     "metadata": {},
     "output_type": "execute_result"
    }
   ],
   "source": [
    "lesson1=['2018-7-30','David','Python-1']\n",
    "del lesson1\n",
    "\n",
    "import sys#使用系统工具查看对象被引用次数\n",
    "sys.getrefcount(lesson1)\n",
    "\n",
    "del lesson1#在名字空间中解除lesson1与['2018-7-30','David','Python-1']这个列表对象之间的引用"
   ]
  },
  {
   "cell_type": "code",
   "execution_count": 3,
   "metadata": {},
   "outputs": [
    {
     "name": "stdout",
     "output_type": "stream",
     "text": [
      "49 MB\n",
      "437 MB\n",
      "49 MB\n"
     ]
    }
   ],
   "source": [
    "import psutil\n",
    "def rss():\n",
    "    m=psutil.Process().memory_info()\n",
    "    print(m.rss>>20,'MB')\n",
    "\n",
    "rss()\n",
    "x=list(range(1000000000000))\n",
    "rss()\n",
    "del x\n",
    "rss()"
   ]
  },
  {
   "cell_type": "code",
   "execution_count": null,
   "metadata": {},
   "outputs": [],
   "source": [
    "#wekref 弱引用\n",
    "import weakref\n",
    "set1={1,2,3}\n",
    "wref_to_set1=weakref.ref(set1)\n",
    "\n",
    "weakref.getweakrefcount(wref_to_set1)\n",
    "weakref.getweakrefs(wref_to_set1)\n",
    "\n",
    "str1='china in my country!'\n",
    "str2=str1\n",
    "import sys\n",
    "sys.getrefcount(str1)"
   ]
  },
  {
   "cell_type": "markdown",
   "metadata": {},
   "source": [
    "##### 延伸阅读：`_，__,__*__`,\n",
    "\n",
    "- `_`开头，模块内的私有成员，不会被星号导入    \n",
    "- `__`开头，类成员私有成员    \n",
    "- `__`开头,`__`结尾，系统成员，不要使用    \n",
    "- `_`交互模式下，保存最后一个表达式的返回的名字   "
   ]
  },
  {
   "cell_type": "code",
   "execution_count": null,
   "metadata": {},
   "outputs": [],
   "source": [
    "r1=range(7)\n",
    "type(r1)\n",
    "r1.__next__()"
   ]
  },
  {
   "cell_type": "markdown",
   "metadata": {},
   "source": [
    "##### 延伸阅读：垃圾回收（计数机制与分代回收机制）"
   ]
  },
  {
   "cell_type": "code",
   "execution_count": 2,
   "metadata": {},
   "outputs": [
    {
     "data": {
      "text/plain": [
       "0"
      ]
     },
     "execution_count": 2,
     "metadata": {},
     "output_type": "execute_result"
    }
   ],
   "source": [
    "import gc\n",
    "\n",
    "gc.get_count()#看看当前的垃圾的计数\n",
    "\n",
    "gc.get_threshold()#查看针对每代自动执行垃圾回收的阈值，可以使用gc.set_threshold重新设置阈值\n",
    "# 当没有回收的0代对象个数超过700，即开始0级垃圾回收，\n",
    "# 当0代垃圾回收超过10次即开始1级垃圾回收，1级垃圾回收清除包括0级垃圾，\n",
    "# 当1代垃圾回收超过10次，即开始2级垃圾回收，2级垃圾回收清除包括0级，1级垃圾\n",
    "\n",
    "\n",
    "#垃圾回收机制python默认开启的，gc.disabled可关闭垃圾回收机制\n",
    "#而使用gc.collect([generation])显式手动进行垃圾回收\n",
    "gc.collect(0)#回收0级垃圾，也可以指定1，2"
   ]
  },
  {
   "cell_type": "markdown",
   "metadata": {},
   "source": [
    "#### 名字空间与局部作用域L,全局作用域G\n",
    "在《程序设计语言——实践之路》里的术语，将名字和与其绑定的对象之间的关系，称为约束。赋值语句就是约束建立的地方。  \n",
    "约束既然是（name，obj）这样的关联关系，约束关系的容身之地便是就是名字空间（字典对象）"
   ]
  },
  {
   "cell_type": "code",
   "execution_count": null,
   "metadata": {},
   "outputs": [],
   "source": [
    "%reset"
   ]
  },
  {
   "cell_type": "code",
   "execution_count": 5,
   "metadata": {},
   "outputs": [],
   "source": [
    "a=5"
   ]
  },
  {
   "cell_type": "code",
   "execution_count": 8,
   "metadata": {},
   "outputs": [
    {
     "name": "stdout",
     "output_type": "stream",
     "text": [
      "Variable      Type        Data/Info\n",
      "-----------------------------------\n",
      "a             int         5\n",
      "base_string   str         julyedu.com\n",
      "co            code        <code object <module> at <...>test_compile.py\", line 3>\n",
      "dis           module      <module 'dis' from '/usr/lib/python3.5/dis.py'>\n",
      "source_code   str         \\n#this is documents\\nbas<...>:\\n x=7\\n print(c**2+x)\\n\n",
      "test1         function    <function test1 at 0x7f15601ab400>\n",
      "test2         function    <function test2 at 0x7f15601ab378>\n"
     ]
    }
   ],
   "source": [
    "%whos"
   ]
  },
  {
   "cell_type": "code",
   "execution_count": 2,
   "metadata": {},
   "outputs": [
    {
     "name": "stdout",
     "output_type": "stream",
     "text": [
      "Variable   Type    Data/Info\n",
      "----------------------------\n",
      "a          int     5\n"
     ]
    }
   ],
   "source": [
    "a=5\n",
    "%whos"
   ]
  },
  {
   "cell_type": "code",
   "execution_count": null,
   "metadata": {},
   "outputs": [],
   "source": [
    "#当不在任何一个函数体内的时候的时候,locals()和globals()是同一个对象\n",
    "locals() is globals()\n",
    "\n",
    "# #而每当进入一个函数时，也会新产生一个locals(),这个locals()和globals（）就不在相同了，下节课讲\n",
    "\n",
    "# #普通命名法\n",
    "# teacher_name='david'\n",
    "# globals()\n",
    "\n",
    "#直接命名法\n",
    "globals()['teacher']='david'\n",
    "teacher"
   ]
  },
  {
   "cell_type": "markdown",
   "metadata": {},
   "source": [
    "### 4.标准操作符及优先级"
   ]
  },
  {
   "cell_type": "code",
   "execution_count": 10,
   "metadata": {
    "scrolled": true
   },
   "outputs": [
    {
     "name": "stdout",
     "output_type": "stream",
     "text": [
      "a not equal b\n",
      "a is grater than 50\n",
      ".net not in it\n",
      "200 100\n",
      "1 2 3 4 5\n",
      "1 [2, 3, 4, 5] 6\n",
      "[[3, 4, 5]] [3, 4, 5]\n"
     ]
    }
   ],
   "source": [
    "#算术运算符\n",
    "a=100;b=3\n",
    "a+b;a-b;a*b;a/b\n",
    "a//b #取商\n",
    "a%b #取余\n",
    "a**2\n",
    "a**0.5\n",
    "\n",
    "#比较运算符  \n",
    "if a==b:\n",
    "    print ('a equal b')\n",
    "\n",
    "if a!=b:\n",
    "    print ('a not equal b')\n",
    "    \n",
    "#逻辑运算符><>=,\n",
    "if a>=50:\n",
    "    print('a is grater than 50')\n",
    "    \n",
    "#成员运算符in,not in\n",
    "websiteUrl='julyedu.com'\n",
    "if '.net' not in websiteUrl:\n",
    "    print ('.net not in it')\n",
    "    \n",
    "    \n",
    "#赋值\n",
    "\n",
    "#多重赋值\n",
    "#a=100;b=100\n",
    "a=b=100\n",
    "\n",
    "#多元赋值\n",
    "#a=100;b=200\n",
    "a,b,c=100,200,200\n",
    "\n",
    "#交换赋值\n",
    "a,b=b,a\n",
    "print(a,b)\n",
    "\n",
    "#unpack解包\n",
    "l1=[1,2,3,4,5,'6']\n",
    "a,b,c,d,e,f=l1\n",
    "print(a,b,c,d,e)\n",
    "\n",
    "#*号收集\n",
    "a,*b,c=l1\n",
    "print(a,b,c)\n",
    "\n",
    "#*号展开,针对序列\n",
    "l1=[1,2,3,4]\n",
    "s1='julyedu.com'\n",
    "[*l1,*s1]\n",
    "\n",
    "#*号展开,针对字典\n",
    "d1={'name':'machine learning 5th','add':'BJ,SH,*'}\n",
    "[*d1],{**d1,'date':'2018-7-30'}\n",
    "\n",
    "#,号放在最后的解包\n",
    "l1=[[3,4,5]]\n",
    "a=l1\n",
    "b,=l1\n",
    "print(a,b)"
   ]
  },
  {
   "cell_type": "markdown",
   "metadata": {},
   "source": [
    "##### 扩展阅读：运算符的优先级\n",
    "```\n",
    "第一名 - 函数调用、寻址、下标\n",
    "第二名 - 幂运算 **\n",
    "第三名 - 翻转运算符 ~\n",
    "第四名 - 正负号\n",
    "第五名 - *、/、%\n",
    "第六名 - +、-\n",
    "```"
   ]
  },
  {
   "cell_type": "markdown",
   "metadata": {},
   "source": [
    "### 5.Python基本数据类型(文本，字符串)与数据结构(列表 集合, 元组, 字典)\n",
    "\n",
    "#### 1.基本数据类型/不可变对象"
   ]
  },
  {
   "cell_type": "code",
   "execution_count": null,
   "metadata": {
    "scrolled": true
   },
   "outputs": [],
   "source": [
    "#数值整形\n",
    "a=100;b=200\n",
    "\n",
    "#进制转换\n",
    "a=0b0101001#bin()\n",
    "b=0o4#oct()\n",
    "c=0x28#hex()\n",
    "\n",
    "#浮点型\n",
    "a=3.1415\n",
    "\n",
    "#科学计算法\n",
    "c=5e13\n",
    "print(c)\n",
    "\n",
    "#数字的正负无穷\n",
    "#float('inf')正无穷\n",
    "#float('-inf')负无穷\n",
    "if 99999999999999999<float('inf'):\n",
    "    print('you win!')\n",
    "\n",
    "#复数\n",
    "a=4.3+22j\n",
    "type(a)\n",
    "\n",
    "\n",
    "#数值类型转换\n",
    "a=4.48\n",
    "b=8\n",
    "int(a)\n",
    "\n",
    "round(a,1)"
   ]
  },
  {
   "cell_type": "markdown",
   "metadata": {},
   "source": [
    "##### 延伸阅读：数值塔（numerical tower）\n",
    "Python 的数值层次结构的灵感来自于 Scheme 语言的数值塔。   \n",
    "numbers 模块内并包括 Number, Complex,Real,Rational,Integral   \n",
    "！[](./numbers.png)"
   ]
  },
  {
   "cell_type": "code",
   "execution_count": 12,
   "metadata": {},
   "outputs": [
    {
     "ename": "SyntaxError",
     "evalue": "invalid syntax (<ipython-input-12-8b63c8ba9eff>, line 24)",
     "output_type": "error",
     "traceback": [
      "\u001b[0;36m  File \u001b[0;32m\"<ipython-input-12-8b63c8ba9eff>\"\u001b[0;36m, line \u001b[0;32m24\u001b[0m\n\u001b[0;31m    str4=f\"fstring is new feature of {_}\"\u001b[0m\n\u001b[0m                                        ^\u001b[0m\n\u001b[0;31mSyntaxError\u001b[0m\u001b[0;31m:\u001b[0m invalid syntax\n"
     ]
    }
   ],
   "source": [
    "##字符串型\n",
    "#初始化及转义\n",
    "str1='''AI'''\n",
    "str2='Julyedu.com'\n",
    "\n",
    "\n",
    "#访问,索引及切片访问\n",
    "str2[-1]\n",
    "\n",
    "#str2[start:end:stried]\n",
    "#切片访问的特点：左闭右开[)\n",
    "str2[0:4]\n",
    "\n",
    "#格式化访问1\n",
    "companyName='julyedu'\n",
    "str3='http://{}.com'\n",
    "print(str3.format(companyName))\n",
    "\n",
    "#格式化访问2\n",
    "print(\"Company name is %s\" %companyName)\n",
    "\n",
    "#格式化访问3\n",
    "_='Python 3.6'#fstring only can be used under version 3.6\n",
    "str4=f\"fstring is new feature of {_}\"\n",
    "str4\n",
    "\n",
    "        \n",
    "        \n",
    "#查找与替换\n",
    "str3.find('o')\n",
    "str3.replace('.com','.net')\n",
    "\n",
    "#统计\n",
    "str3.count('com')a\n",
    "\n",
    "\n",
    "#布尔型\n",
    "\n",
    "###重要点：tab键与使用帮助\n",
    "#help(l1.extend)"
   ]
  },
  {
   "cell_type": "markdown",
   "metadata": {},
   "source": [
    "##### 延伸阅读：小整数缓存区与字符驻留"
   ]
  },
  {
   "cell_type": "code",
   "execution_count": null,
   "metadata": {},
   "outputs": [],
   "source": [
    "# Python中，根据实例是否可修改，分为可变与不可变两种类型数据 \n",
    "#小整数\n",
    "#Python为小整数（-5至256）已创建地址并存入在小整数缓存区\n",
    "#因而超过此范围则会放入整数链表，也就是相关整数是不同的对象\n",
    "#虽然是整数对象，但地址也不相同。\n",
    "a=77;b=77\n",
    "a is b#True\n",
    "a=998;b=998\n",
    "a is b#False\n",
    "\n",
    "#字符串驻留intern\n",
    "str_a='julyedu'\n",
    "str_b='julyedu'\n",
    "str_a is str_b#True 正常字符串，地址相同\n",
    "\n",
    "\n",
    "str_c='Python 3.5'\n",
    "str_d='Python 3.5'\n",
    "str_c is str_d#False 有些稍特殊的字符串，Python认为复用性不大，于是被分配到堆上，不会在内存池中检查。因此这是两个对象。\n",
    "\n",
    "import sys\n",
    "str_e=sys.intern('Python 3.5')#强制将字符串缓存进了内存池，因此相等。str_e,str_f均指向Arena相同位置\n",
    "str_f=sys.intern('Python 3.5')\n",
    "str_e is str_f #True"
   ]
  },
  {
   "cell_type": "markdown",
   "metadata": {},
   "source": [
    "#### 2.Python数据结构(数组,列表，元组，集合,字典)/不可变对象"
   ]
  },
  {
   "cell_type": "code",
   "execution_count": 1,
   "metadata": {},
   "outputs": [
    {
     "ename": "IndentationError",
     "evalue": "expected an indented block (<ipython-input-1-ac9b7486b2d5>, line 77)",
     "output_type": "error",
     "traceback": [
      "\u001b[0;36m  File \u001b[0;32m\"<ipython-input-1-ac9b7486b2d5>\"\u001b[0;36m, line \u001b[0;32m77\u001b[0m\n\u001b[0;31m    print(key,d1[key])\u001b[0m\n\u001b[0m        ^\u001b[0m\n\u001b[0;31mIndentationError\u001b[0m\u001b[0;31m:\u001b[0m expected an indented block\n"
     ]
    }
   ],
   "source": [
    "#Array[]:相同类型元素的序列\n",
    "from array import array\n",
    "a1=array('h',[1,2,3])\n",
    "memv=memoryview(a1)#内存视图\n",
    "len(memv)\n",
    "memv[0]=55\n",
    "a1\n",
    "dir(a1)#array相关操作\n",
    "\n",
    "#复制操作：对bytearray对象片断是复制，而非直接引用。\n",
    "str1=bytearray('中国','utf-8')\n",
    "print('str1',str1[0:3])#序列访问\n",
    "tempstr=str1[0:3]#片断赋值给新变量\n",
    "tempstr[0:3]=b'\\xff\\xff\\xff'\n",
    "print('tempstr:',tempstr)\n",
    "print('old str1',str1)#原str1没有变化，因此是发生了复制。。\n",
    "\n",
    "#直接操作\n",
    "#bytes,bytearray,array.arrray支持视图操作\n",
    "v=memoryview(str1)#对str1进行内存视图\n",
    "v[0:3]=b'\\xff\\xff\\xff'#此时对视图对象操作，即是对原str1操作了\n",
    "print(str1)\n",
    "\n",
    "a1 = array('l')#创建数组\n",
    "a1.append(9)# 添加元素\n",
    "a1.append(9)\n",
    "a1.append(8)\n",
    "\n",
    "\n",
    "#列表[]:任意元素类型对象的序列\n",
    "l1=[1,'china',['AI','julyedu.com']]\n",
    "l1.append('机器学习集训营第三期')\n",
    "\n",
    "\n",
    "#元组()tuple,只读列表\n",
    "t1=(1,2,3,4)\n",
    "dir(t1)\n",
    "#只读列表是真的只读吗？\n",
    "t2=(1,2,3,[4,5,6])\n",
    "# t2[0]=11#报错\n",
    "t2[3].append(7)#正确\n",
    "t2\n",
    "\n",
    "#tuple的单元素写法\n",
    "(3)与(3,)哪个是tuple对象呢?\n",
    "type((3)),type((3,))\n",
    "#这里跟逗号又扯上关系，\n",
    "#不仅如此，在交互式命令行中，当我们输入4,时返回的也是一个tuple对象\n",
    "\n",
    "\n",
    "#集合{}set：无序的不重复元素,集合中的对象，通常叫key\n",
    "s1={1,1,1,2,3,4,5,2,4,234}\n",
    "l2=[1,1,1,2,3,4,5,2,4,234]\n",
    "set(s1)\n",
    "\n",
    "##frozenset\n",
    "frozenset(range(7))\n",
    "frozenset({x+1 for x in range(-1,7) if x%2==0})\n",
    "\n",
    "\n",
    "#字典{}dict：KV对应型数据类型{\n",
    "d1={'name':'david','gender':'male'}\n",
    "\n",
    "\n",
    "#字典的视图\n",
    "#Python3下字典视图，既同步读取字典，又却无法修改。\n",
    "d1=dict(a=1,b=2)\n",
    "ks=d1.keys()#返回的是主键视图,其类型为<class 'dict_keys'>\n",
    "print('b' in ks)#直接从该视图中观察字典\n",
    "for key in ks:\n",
    "    print(key,d1[key])\n",
    "    \n",
    "\n",
    "d1['b']=3#更新原字典\n",
    "d1['c']=99#对原字典插入新值\n",
    "for key in ks:#此时并未再次运行d1.keys()，也能看到原字典的变化\n",
    "print(key,d1[key])    \n",
    "\n",
    "\n",
    "#标准库下的其它字典OrderedDict\n",
    "from collections import OrderedDict\n",
    "\n",
    "od1=OrderedDict()#按主键首次插入顺序进行排序\n",
    "\n",
    "od1['a']=7\n",
    "od1['z']=8\n",
    "od1['b']=9\n",
    "od1"
   ]
  },
  {
   "cell_type": "markdown",
   "metadata": {},
   "source": [
    "##### 扩展阅读：列表推导式List Comprehensions，可迭代对象Iterable与迭代器iterator,生成器generator"
   ]
  },
  {
   "cell_type": "code",
   "execution_count": 12,
   "metadata": {},
   "outputs": [
    {
     "data": {
      "text/plain": [
       "[0, 3, 6, 9, 12, 15, 18, 21, 24, 27]"
      ]
     },
     "execution_count": 12,
     "metadata": {},
     "output_type": "execute_result"
    }
   ],
   "source": [
    "#列表推导式：从一个列表中生成一个新的列表，简化了循环的写法\n",
    "l1= [x for x in range(30) if x%3==0]\n",
    "l1"
   ]
  },
  {
   "cell_type": "markdown",
   "metadata": {},
   "source": [
    "![](./generator-iterator-iterable.png)"
   ]
  },
  {
   "cell_type": "code",
   "execution_count": 27,
   "metadata": {},
   "outputs": [
    {
     "data": {
      "text/plain": [
       "0"
      ]
     },
     "execution_count": 27,
     "metadata": {},
     "output_type": "execute_result"
    }
   ],
   "source": [
    "l1=[0, 3, 6, 9, 12, 15, 18, 21, 24, 27]\n",
    "l2=iter(l1)\n",
    "l2.__next__()"
   ]
  },
  {
   "cell_type": "code",
   "execution_count": 27,
   "metadata": {},
   "outputs": [
    {
     "data": {
      "text/plain": [
       "range"
      ]
     },
     "execution_count": 27,
     "metadata": {},
     "output_type": "execute_result"
    }
   ],
   "source": []
  },
  {
   "cell_type": "code",
   "execution_count": 7,
   "metadata": {},
   "outputs": [
    {
     "data": {
      "text/plain": [
       "('C', 'h')"
      ]
     },
     "execution_count": 7,
     "metadata": {},
     "output_type": "execute_result"
    }
   ],
   "source": [
    "#可迭代对象Iterable：可以被for循环的对象统称为可迭代对象Iterable,list,str,dict这些都是可迭代类型\n",
    "#迭代器Iterator：可以被next调用的迭代器。\n",
    "#next(l1) #TypeError: 'list' object is not an iterator\n",
    "\n",
    "#使用iter将一来个可迭代对象变为迭代器\n",
    "l1=iter(l1)\n",
    "next(l1),next(l1)\n",
    "\n",
    "\n",
    "#生成器Generator：首先是一个迭代器，然后其内容是按需生成\n",
    "#列表是一次性生成，缺点是当内容过大时会占用大量内容，那能不能用到多少生成多少呢？\n",
    "#Python里一边循环一边计算(惰性计算)的迭代器称为生成器（Generator）\n",
    "\n",
    "#1.直接从列表表达式生成\n",
    "g1= (x**2 for x in range(30) if x%2==0)\n",
    "type(g1)\n",
    "next(g1),next(g1),next(g1),next(g1),g1.__next__(),g1.__next__()\n",
    "\n",
    "#2.函数生成，与yield关键字\n",
    "def g2_func(n):\n",
    "    for i in range(n):\n",
    "        yield i**2\n",
    "    \n",
    "g2=g2_func(7)\n",
    "next(g2),next(g2),g2.__next__(),g2.__next__(),g2.__next__(),g2.__next__()\n",
    "\n",
    "#yield from/子迭代器，后面直接是可迭代对象。\n",
    "def yield_from_iter(iter_object):\n",
    "    yield from iter_object\n",
    "    \n",
    "y1=yield_from_iter('China')\n",
    "y1.__next__(),next(y1)"
   ]
  },
  {
   "cell_type": "markdown",
   "metadata": {},
   "source": [
    "### 6.声明Statement与Expression表达式"
   ]
  },
  {
   "cell_type": "markdown",
   "metadata": {
    "ExecuteTime": {
     "end_time": "2018-10-22T01:56:13.756521Z",
     "start_time": "2018-10-22T01:56:13.752527Z"
    }
   },
   "source": [
    "#### statement声明"
   ]
  },
  {
   "cell_type": "code",
   "execution_count": 1,
   "metadata": {
    "ExecuteTime": {
     "end_time": "2018-10-22T01:56:12.126872Z",
     "start_time": "2018-10-22T01:56:12.121886Z"
    }
   },
   "outputs": [],
   "source": [
    "a='julyedu.com'#statement通常为赋值语句\n",
    "b=100\n",
    "c=a"
   ]
  },
  {
   "cell_type": "markdown",
   "metadata": {},
   "source": [
    "#### expression表达式（通常有返回结果 ）"
   ]
  },
  {
   "cell_type": "code",
   "execution_count": null,
   "metadata": {},
   "outputs": [],
   "source": [
    "#值、变量和运算符共同组成的整体我们将其称为表达式。通常有值表达式、变量表达式、计算表达式、字符串表达式,\n",
    "b,b+100,a+' is amazing',__builtins__"
   ]
  },
  {
   "cell_type": "markdown",
   "metadata": {},
   "source": [
    "#### exec执行声明语句,eval执行表达式"
   ]
  },
  {
   "cell_type": "code",
   "execution_count": null,
   "metadata": {},
   "outputs": [],
   "source": [
    "str1=input()"
   ]
  },
  {
   "cell_type": "code",
   "execution_count": null,
   "metadata": {},
   "outputs": [],
   "source": [
    "exec('aaa=7')#从字符串里执行一个声明语句\n",
    "eval('aaa')#从字符串里执行一个表达式"
   ]
  },
  {
   "cell_type": "markdown",
   "metadata": {},
   "source": [
    "### 7.判断，循环与循环控制"
   ]
  },
  {
   "cell_type": "code",
   "execution_count": null,
   "metadata": {},
   "outputs": [],
   "source": [
    "#### 判断：if， if else ,if elif与三元表达式\n",
    "\n",
    "#单if\n",
    "age=88\n",
    "if age<18:\n",
    "    print('teenage')\n",
    "    \n",
    "#if else elif\n",
    "if age<18:\n",
    "    print('teenage')\n",
    "else:\n",
    "    print('adult')\n",
    "    \n",
    "#if elif\n",
    "if age<18:\n",
    "    print('teenage')\n",
    "elif age >18 and age <60:\n",
    "    print('adult')\n",
    "elif age>60:\n",
    "    print('elder')\n",
    "\n",
    "\n",
    "#三元表达式\n",
    "'a' if age>50 else 'b'"
   ]
  },
  {
   "cell_type": "code",
   "execution_count": null,
   "metadata": {
    "scrolled": true
   },
   "outputs": [],
   "source": [
    "#For循环与While循环\n",
    "str1='julyedu.com'\n",
    "for item in str1:\n",
    "    print(item)\n",
    "    \n",
    "for item in range(7):\n",
    "    print (item)\n",
    "\n",
    "\n",
    "countnum=1\n",
    "while(countnum<10):\n",
    "    print(item)\n",
    "    countnum+=1    \n",
    "\n",
    "#### break与continue循环控制     \n",
    "i=0\n",
    "while True:\n",
    "    i+=1\n",
    "    if i==3:\n",
    "        continue\n",
    "    if i>5:\n",
    "        break\n",
    "    print(i)"
   ]
  },
  {
   "cell_type": "markdown",
   "metadata": {},
   "source": [
    "##### 扩展阅读：临时变量\n",
    "循环语句，没有单独的名字空间，使用的是函数 的locals()\n",
    "for i in range(10):\n",
    "    n=i\n",
    "n    "
   ]
  },
  {
   "cell_type": "markdown",
   "metadata": {},
   "source": [
    "### 8. BIFs 自带电池(`__builtins__`模块)与模块作用域B\n",
    "\n",
    "内置模块__builtins__由解释器负责导入,受到解释器特殊对待"
   ]
  },
  {
   "cell_type": "code",
   "execution_count": 33,
   "metadata": {},
   "outputs": [],
   "source": [
    "#列出模块对象\n",
    "# __builtins__.__dir__()"
   ]
  },
  {
   "cell_type": "markdown",
   "metadata": {},
   "source": [
    "#### 常用功能说明\n",
    "```\n",
    "help(obj) 在线帮助, obj可是任何类型    \n",
    "\n",
    "\n",
    "eval(str) 表示合法的python表达式，返回这个表达式 \n",
    "exec(str) 执行合法的python声明，返回字节码\n",
    "\n",
    "\n",
    "#名字空间相关\n",
    "dir(obj) 查看obj的name space中可见的name\n",
    "vars(obj) 返回一个object的name space。用dictionary表示    \n",
    "locals() 返回一个局部name space,用dictionary表示    \n",
    "globals() 返回一个全局name space,用dictionary表示\n",
    "\n",
    "#类型\n",
    "type(obj) 查看一个obj的类型    \n",
    "isinstance(obj,cls) 查看obj是不是cls的instance    \n",
    "issubclass(subcls,supcls) 查看subcls是不是supcls的子类  \n",
    "\n",
    "#类型转换\n",
    "chr(i) 把一个ASCII数值,变成字符    \n",
    "ord(i) 把一个字符或者unicode字符,变成ASCII数值    \n",
    "oct(x) 把整数x变成八进制表示的字符串    \n",
    "hex(x) 把整数x变成十六进制表示的字符串    \n",
    "str(obj) 得到obj的字符串描述    \n",
    "list(seq) 把一个sequence转换成一个list    \n",
    "tuple(seq) 把一个sequence转换成一个tuple    \n",
    "dict(),dict(list) 转换成一个dictionary    \n",
    "int(x) 转换成一个integer    \n",
    "long(x) 转换成一个long interger    \n",
    "float(x) 转换成一个浮点数    \n",
    "complex(x) 转换成复数\n",
    "```"
   ]
  },
  {
   "cell_type": "code",
   "execution_count": null,
   "metadata": {},
   "outputs": [],
   "source": [
    "#模块运行时\n",
    "__name__\n",
    "#正常情况下模块名__name__为对应的文件名，但当模块作为程序入口时，__name__被修改名__main__\n",
    "#if __name__=='__main__':实现自适应"
   ]
  },
  {
   "cell_type": "code",
   "execution_count": null,
   "metadata": {
    "scrolled": true
   },
   "outputs": [],
   "source": [
    "#web方式查看builtins以及Python相关目录\n",
    "#$ python -m pydoc -p 1223"
   ]
  },
  {
   "cell_type": "markdown",
   "metadata": {},
   "source": [
    "#### 模块作用域B，与LGB"
   ]
  },
  {
   "cell_type": "code",
   "execution_count": null,
   "metadata": {},
   "outputs": [],
   "source": [
    "#除了全局作用域Global外,还有一个作用域叫Builtin,指的就是这个模块。。\n",
    "__builtins__.name='David'#把名为name，约束对象为'David'的kv，存储在了__builtins__这个模块中。而不是globals()中\n",
    "\n",
    "name='Jack'\n",
    "name\n",
    "#此刻LGB三者均到齐，E下课节讲。"
   ]
  },
  {
   "cell_type": "markdown",
   "metadata": {},
   "source": [
    "##### 扩展阅读：模块Module与包Package\n",
    "- 模块:一个模块就是一个Python源码文件(也可能是对c语言文件编译生成的pyd文件)\n",
    "- 包:组织一堆相关功能的模块，并包含`__init__.py`文件的目录。"
   ]
  },
  {
   "cell_type": "markdown",
   "metadata": {},
   "source": [
    "##### 扩展阅读：模块引用方式与存放位置"
   ]
  },
  {
   "cell_type": "code",
   "execution_count": null,
   "metadata": {
    "scrolled": true
   },
   "outputs": [],
   "source": [
    "#除了import文件导入，compile&exec导入，还可以这样导入模块\n",
    "import types\n",
    "mm=types.ModuleType('MyModule')\n",
    "type(mm),type(__builtins__)\n",
    "mm.name='f'\n",
    "mm.__name__\n",
    "\n",
    "#删除对模块的引用\n",
    "import random,sys\n",
    "sys.modules['random']\n",
    "del random\n",
    "# random#会报错，因为名字空间中解除了约束\n",
    "sys.modules['random']#导入的模块被记录至sys.modules，这里还被记录着，以方便后续导入"
   ]
  },
  {
   "cell_type": "markdown",
   "metadata": {},
   "source": [
    "### 9. 调试"
   ]
  },
  {
   "cell_type": "code",
   "execution_count": null,
   "metadata": {},
   "outputs": [
    {
     "ename": "ZeroDivisionError",
     "evalue": "division by zero",
     "output_type": "error",
     "traceback": [
      "\u001b[0;31m---------------------------------------------------------------------------\u001b[0m",
      "\u001b[0;31mZeroDivisionError\u001b[0m                         Traceback (most recent call last)",
      "\u001b[0;32m<ipython-input-39-4b128a971954>\u001b[0m in \u001b[0;36m<module>\u001b[0;34m\u001b[0m\n\u001b[1;32m      1\u001b[0m \u001b[0;31m#异常\u001b[0m\u001b[0;34m\u001b[0m\u001b[0;34m\u001b[0m\u001b[0m\n\u001b[0;32m----> 2\u001b[0;31m \u001b[0mprint\u001b[0m\u001b[0;34m(\u001b[0m\u001b[0;36m77\u001b[0m\u001b[0;34m/\u001b[0m\u001b[0;36m0\u001b[0m\u001b[0;34m)\u001b[0m\u001b[0;34m\u001b[0m\u001b[0m\n\u001b[0m",
      "\u001b[0;31mZeroDivisionError\u001b[0m: division by zero"
     ]
    },
    {
     "name": "stdout",
     "output_type": "stream",
     "text": [
      "> \u001b[0;32m<ipython-input-39-4b128a971954>\u001b[0m(2)\u001b[0;36m<module>\u001b[0;34m()\u001b[0m\n",
      "\u001b[0;32m      1 \u001b[0;31m\u001b[0;31m#异常\u001b[0m\u001b[0;34m\u001b[0m\u001b[0;34m\u001b[0m\u001b[0m\n",
      "\u001b[0m\u001b[0;32m----> 2 \u001b[0;31m\u001b[0mprint\u001b[0m\u001b[0;34m(\u001b[0m\u001b[0;36m77\u001b[0m\u001b[0;34m/\u001b[0m\u001b[0;36m0\u001b[0m\u001b[0;34m)\u001b[0m\u001b[0;34m\u001b[0m\u001b[0m\n",
      "\u001b[0m\n",
      "--KeyboardInterrupt--\n",
      "--KeyboardInterrupt--\n"
     ]
    }
   ],
   "source": [
    "#异常\n",
    "print(77/0)"
   ]
  },
  {
   "cell_type": "code",
   "execution_count": 38,
   "metadata": {},
   "outputs": [
    {
     "name": "stdout",
     "output_type": "stream",
     "text": [
      "Automatic pdb calling has been turned ON\n"
     ]
    }
   ],
   "source": [
    "#### 开启自动调试\n",
    "%pdb on"
   ]
  },
  {
   "cell_type": "code",
   "execution_count": null,
   "metadata": {},
   "outputs": [],
   "source": [
    "print(never_named_value)"
   ]
  },
  {
   "cell_type": "code",
   "execution_count": null,
   "metadata": {},
   "outputs": [],
   "source": [
    "#### 主动设置断点\n",
    "import pdb\n",
    "\n",
    "a=1\n",
    "pdb.set_trace()\n",
    "b=2"
   ]
  },
  {
   "cell_type": "markdown",
   "metadata": {},
   "source": [
    "#### 调试相关命令\n",
    "```\n",
    "Documented commands (type help <topic>):\n",
    "========================================\n",
    "EOF    cl         disable  interact  next    psource  rv         unt   \n",
    "a      clear      display  j         p       q        s          until \n",
    "alias  commands   down     jump      pdef    quit     source     up    \n",
    "args   condition  enable   l         pdoc    r        step       w     \n",
    "b      cont       exit     list      pfile   restart  tbreak     whatis\n",
    "break  continue   h        ll        pinfo   return   u          where \n",
    "bt     d          help     longlist  pinfo2  retval   unalias  \n",
    "c      debug      ignore   n         pp      run      undisplay\n",
    "\n",
    "Miscellaneous help topics:\n",
    "==========================\n",
    "exec  pdb\n",
    "```"
   ]
  },
  {
   "cell_type": "code",
   "execution_count": null,
   "metadata": {},
   "outputs": [],
   "source": [
    "dir(__builtins__)"
   ]
  },
  {
   "cell_type": "markdown",
   "metadata": {},
   "source": [
    "### 10. 异常处理\n",
    "\n",
    "#### 异常exception\n",
    "异常是Python对象，表示一个在程序执行过程中发生了影响正常运行时而产生的一个事件(产生一个traceback.)   \n",
    "\n",
    "|常见异常|说明|\n",
    "|---:|--:--|\n",
    "|NameError|尝试访问一个没有申明的变量|\n",
    "|ZeroDivisionError|除数为0|\n",
    "|SyntaxError|语法错误|\n",
    "|IndexError|索引超出序列范围|\n",
    "|KeyError|请求一个不存在的字典关键字|\n",
    "|IOError|输入输出错误（比如你要读的文件不存在）|\n",
    "|AttributeError|尝试访问未知的对象属性|\n",
    "|ValueError|传给函数的参数类型不正确，比如给int()函数传入字符串形|\n",
    "\n",
    "#### 捕获异常\n",
    "例如NameError：在名字空间访问时出错时会导致，也是咱们上边课程一直讲到的。   "
   ]
  },
  {
   "cell_type": "code",
   "execution_count": null,
   "metadata": {},
   "outputs": [],
   "source": [
    "#try except else \n",
    "try:\n",
    "    a=never_named_value\n",
    "    print(int(a))\n",
    "except ValueError:#发生ValueError错误执行以下代码\n",
    "    print (\"Error: 函数参数传值错误\")\n",
    "except NameError:#发生NameError错误执行以下代码\n",
    "    print (\"Error: 名称空间使用出错\")\n",
    "else:\n",
    "    print('Everything is fine')\n",
    "    fh.close()\n",
    "    \n",
    "#try-finally 无法是否捕获了异常，都会执行finally后的语句"
   ]
  },
  {
   "cell_type": "markdown",
   "metadata": {},
   "source": [
    "#### 主动触发异常\n",
    "除了由程序触发异常，也可以使用`raise`手动抛出一个通用的异常类型\n"
   ]
  },
  {
   "cell_type": "code",
   "execution_count": null,
   "metadata": {},
   "outputs": [],
   "source": [
    "def addfunc(a,b):\n",
    "    if type(a)!=type(b):\n",
    "        raise ValueError('类别错误') #或者 raise ValueError,'Invalid value'\n",
    "    return a+b\n",
    "\n",
    "addfunc(5,'f')\n",
    "\n",
    "if len(list(range(12))) <= 10:\n",
    "    raise AssertionError('list has too less items')"
   ]
  },
  {
   "cell_type": "markdown",
   "metadata": {},
   "source": [
    "##### assert/断言 触发异常\n",
    "`assert`语句根据后面的表达式的真假来控制程序流。   \n",
    "若为True，则往下执行。若为False，则中断程序并调用默认的异常AssertionError，同时输出指定的提示信息。   "
   ]
  },
  {
   "cell_type": "code",
   "execution_count": null,
   "metadata": {
    "scrolled": true
   },
   "outputs": [],
   "source": [
    "l1=list('julyedu.com')\n",
    "assert len(l1)>18,'given list too long from assert'\n",
    "\n",
    "\n",
    "## raise,抛出异常并提供描述信息\n",
    "if len(list(l1)) > 10:\n",
    "    raise AssertionError('given list too long from raise')"
   ]
  },
  {
   "cell_type": "markdown",
   "metadata": {},
   "source": [
    "### 作业"
   ]
  },
  {
   "cell_type": "markdown",
   "metadata": {},
   "source": [
    "/exercise/下"
   ]
  }
 ],
 "metadata": {
  "kernelspec": {
   "display_name": "Python 3",
   "language": "python",
   "name": "python3"
  },
  "language_info": {
   "codemirror_mode": {
    "name": "ipython",
    "version": 3
   },
   "file_extension": ".py",
   "mimetype": "text/x-python",
   "name": "python",
   "nbconvert_exporter": "python",
   "pygments_lexer": "ipython3",
   "version": "3.6.4"
  },
  "latex_envs": {
   "LaTeX_envs_menu_present": true,
   "autoclose": false,
   "autocomplete": true,
   "bibliofile": "biblio.bib",
   "cite_by": "apalike",
   "current_citInitial": 1,
   "eqLabelWithNumbers": true,
   "eqNumInitial": 1,
   "hotkeys": {
    "equation": "Ctrl-E",
    "itemize": "Ctrl-I"
   },
   "labels_anchors": false,
   "latex_user_defs": false,
   "report_style_numbering": false,
   "user_envs_cfg": false
  },
  "toc": {
   "base_numbering": 1,
   "nav_menu": {},
   "number_sections": true,
   "sideBar": true,
   "skip_h1_title": false,
   "title_cell": "Table of Contents",
   "title_sidebar": "Contents",
   "toc_cell": false,
   "toc_position": {},
   "toc_section_display": true,
   "toc_window_display": true
  }
 },
 "nbformat": 4,
 "nbformat_minor": 2
}
