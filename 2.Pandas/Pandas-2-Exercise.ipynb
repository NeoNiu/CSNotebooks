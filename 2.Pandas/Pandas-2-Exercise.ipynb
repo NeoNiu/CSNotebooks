{
 "cells": [
  {
   "cell_type": "markdown",
   "metadata": {
    "collapsed": true
   },
   "source": [
    "***\n",
    "\n",
    "## Pandas第二课作业\n",
    "\n",
    "####  作业提交说明：\n",
    "- 位置：作业文件统一放置于/0.Teacher/Exercise/Pandas2/下\n",
    "- 文件名：请先复制该notebook文件，并重新命名为(课程名)+(您姓名的全拼)，并按要求完成后保存\n",
    "- 时间：课程结束后的第二天前提交。\n",
    "- 注意：请勿抄袭，移动，修改，删除其他同学和原始空白的练习文件。\n"
   ]
  },
  {
   "cell_type": "code",
   "execution_count": 1,
   "metadata": {
    "ExecuteTime": {
     "end_time": "2018-11-12T09:26:54.262897Z",
     "start_time": "2018-11-12T09:26:54.244850Z"
    }
   },
   "outputs": [
    {
     "name": "stdout",
     "output_type": "stream",
     "text": [
      "Pretty printing has been turned OFF\n"
     ]
    }
   ],
   "source": [
    "%config ZMQInteractiveShell.ast_node_interactivity='all'\n",
    "%pprint"
   ]
  },
  {
   "cell_type": "markdown",
   "metadata": {},
   "source": [
    "## 作业\n",
    "- 作业所需数据文件位于0.Teacher/data目录下\n",
    "***"
   ]
  },
  {
   "cell_type": "markdown",
   "metadata": {},
   "source": [
    "\n",
    "#### 1.读入0.Teacher/Data/下NVDA.csv中的数据\n"
   ]
  },
  {
   "cell_type": "code",
   "execution_count": 13,
   "metadata": {
    "ExecuteTime": {
     "end_time": "2018-11-12T09:41:35.223507Z",
     "start_time": "2018-11-12T09:41:35.193536Z"
    }
   },
   "outputs": [
    {
     "data": {
      "text/html": [
       "<div>\n",
       "<style scoped>\n",
       "    .dataframe tbody tr th:only-of-type {\n",
       "        vertical-align: middle;\n",
       "    }\n",
       "\n",
       "    .dataframe tbody tr th {\n",
       "        vertical-align: top;\n",
       "    }\n",
       "\n",
       "    .dataframe thead th {\n",
       "        text-align: right;\n",
       "    }\n",
       "</style>\n",
       "<table border=\"1\" class=\"dataframe\">\n",
       "  <thead>\n",
       "    <tr style=\"text-align: right;\">\n",
       "      <th></th>\n",
       "      <th>Open</th>\n",
       "      <th>High</th>\n",
       "      <th>Low</th>\n",
       "      <th>Close</th>\n",
       "      <th>Adj Close</th>\n",
       "      <th>Volume</th>\n",
       "    </tr>\n",
       "    <tr>\n",
       "      <th>Date</th>\n",
       "      <th></th>\n",
       "      <th></th>\n",
       "      <th></th>\n",
       "      <th></th>\n",
       "      <th></th>\n",
       "      <th></th>\n",
       "    </tr>\n",
       "  </thead>\n",
       "  <tbody>\n",
       "    <tr>\n",
       "      <th>1999-01-22</th>\n",
       "      <td>1.750000</td>\n",
       "      <td>1.953125</td>\n",
       "      <td>1.552083</td>\n",
       "      <td>1.640625</td>\n",
       "      <td>1.523430</td>\n",
       "      <td>67867200</td>\n",
       "    </tr>\n",
       "    <tr>\n",
       "      <th>1999-01-25</th>\n",
       "      <td>1.770833</td>\n",
       "      <td>1.833333</td>\n",
       "      <td>1.640625</td>\n",
       "      <td>1.812500</td>\n",
       "      <td>1.683028</td>\n",
       "      <td>12762000</td>\n",
       "    </tr>\n",
       "    <tr>\n",
       "      <th>1999-01-26</th>\n",
       "      <td>1.833333</td>\n",
       "      <td>1.869792</td>\n",
       "      <td>1.645833</td>\n",
       "      <td>1.671875</td>\n",
       "      <td>1.552448</td>\n",
       "      <td>8580000</td>\n",
       "    </tr>\n",
       "    <tr>\n",
       "      <th>1999-01-27</th>\n",
       "      <td>1.677083</td>\n",
       "      <td>1.718750</td>\n",
       "      <td>1.583333</td>\n",
       "      <td>1.666667</td>\n",
       "      <td>1.547611</td>\n",
       "      <td>6109200</td>\n",
       "    </tr>\n",
       "    <tr>\n",
       "      <th>1999-01-28</th>\n",
       "      <td>1.666667</td>\n",
       "      <td>1.677083</td>\n",
       "      <td>1.651042</td>\n",
       "      <td>1.661458</td>\n",
       "      <td>1.542776</td>\n",
       "      <td>5688000</td>\n",
       "    </tr>\n",
       "  </tbody>\n",
       "</table>\n",
       "</div>"
      ],
      "text/plain": [
       "                Open      High       Low     Close  Adj Close    Volume\n",
       "Date                                                                   \n",
       "1999-01-22  1.750000  1.953125  1.552083  1.640625   1.523430  67867200\n",
       "1999-01-25  1.770833  1.833333  1.640625  1.812500   1.683028  12762000\n",
       "1999-01-26  1.833333  1.869792  1.645833  1.671875   1.552448   8580000\n",
       "1999-01-27  1.677083  1.718750  1.583333  1.666667   1.547611   6109200\n",
       "1999-01-28  1.666667  1.677083  1.651042  1.661458   1.542776   5688000"
      ]
     },
     "execution_count": 13,
     "metadata": {},
     "output_type": "execute_result"
    }
   ],
   "source": [
    "import pandas as pd\n",
    "\n",
    "nvda = pd.read_csv('nvda.csv', index_col='Date', parse_dates=['Date'] )\n",
    "nvda.head()"
   ]
  },
  {
   "cell_type": "markdown",
   "metadata": {
    "collapsed": true
   },
   "source": [
    "#### 2.请计算nvda股票Adj Close每天的log return  对数收益率"
   ]
  },
  {
   "cell_type": "code",
   "execution_count": null,
   "metadata": {
    "ExecuteTime": {
     "end_time": "2018-11-12T09:33:34.054174Z",
     "start_time": "2018-11-12T09:33:34.037550Z"
    }
   },
   "outputs": [],
   "source": []
  },
  {
   "cell_type": "code",
   "execution_count": 16,
   "metadata": {
    "ExecuteTime": {
     "end_time": "2018-11-12T09:42:19.734000Z",
     "start_time": "2018-11-12T09:42:19.714836Z"
    }
   },
   "outputs": [
    {
     "data": {
      "text/html": [
       "<div>\n",
       "<style scoped>\n",
       "    .dataframe tbody tr th:only-of-type {\n",
       "        vertical-align: middle;\n",
       "    }\n",
       "\n",
       "    .dataframe tbody tr th {\n",
       "        vertical-align: top;\n",
       "    }\n",
       "\n",
       "    .dataframe thead th {\n",
       "        text-align: right;\n",
       "    }\n",
       "</style>\n",
       "<table border=\"1\" class=\"dataframe\">\n",
       "  <thead>\n",
       "    <tr style=\"text-align: right;\">\n",
       "      <th></th>\n",
       "      <th>Open</th>\n",
       "      <th>High</th>\n",
       "      <th>Low</th>\n",
       "      <th>Close</th>\n",
       "      <th>Adj Close</th>\n",
       "      <th>Volume</th>\n",
       "      <th>amount_increasing</th>\n",
       "      <th>log_return</th>\n",
       "    </tr>\n",
       "    <tr>\n",
       "      <th>Date</th>\n",
       "      <th></th>\n",
       "      <th></th>\n",
       "      <th></th>\n",
       "      <th></th>\n",
       "      <th></th>\n",
       "      <th></th>\n",
       "      <th></th>\n",
       "      <th></th>\n",
       "    </tr>\n",
       "  </thead>\n",
       "  <tbody>\n",
       "    <tr>\n",
       "      <th>1999-01-22</th>\n",
       "      <td>1.750000</td>\n",
       "      <td>1.953125</td>\n",
       "      <td>1.552083</td>\n",
       "      <td>1.640625</td>\n",
       "      <td>1.523430</td>\n",
       "      <td>67867200</td>\n",
       "      <td>NaN</td>\n",
       "      <td>NaN</td>\n",
       "    </tr>\n",
       "    <tr>\n",
       "      <th>1999-01-25</th>\n",
       "      <td>1.770833</td>\n",
       "      <td>1.833333</td>\n",
       "      <td>1.640625</td>\n",
       "      <td>1.812500</td>\n",
       "      <td>1.683028</td>\n",
       "      <td>12762000</td>\n",
       "      <td>0.094828</td>\n",
       "      <td>0.099630</td>\n",
       "    </tr>\n",
       "    <tr>\n",
       "      <th>1999-01-26</th>\n",
       "      <td>1.833333</td>\n",
       "      <td>1.869792</td>\n",
       "      <td>1.645833</td>\n",
       "      <td>1.671875</td>\n",
       "      <td>1.552448</td>\n",
       "      <td>8580000</td>\n",
       "      <td>-0.084112</td>\n",
       "      <td>-0.080762</td>\n",
       "    </tr>\n",
       "    <tr>\n",
       "      <th>1999-01-27</th>\n",
       "      <td>1.677083</td>\n",
       "      <td>1.718750</td>\n",
       "      <td>1.583333</td>\n",
       "      <td>1.666667</td>\n",
       "      <td>1.547611</td>\n",
       "      <td>6109200</td>\n",
       "      <td>-0.003125</td>\n",
       "      <td>-0.003121</td>\n",
       "    </tr>\n",
       "    <tr>\n",
       "      <th>1999-01-28</th>\n",
       "      <td>1.666667</td>\n",
       "      <td>1.677083</td>\n",
       "      <td>1.651042</td>\n",
       "      <td>1.661458</td>\n",
       "      <td>1.542776</td>\n",
       "      <td>5688000</td>\n",
       "      <td>-0.003134</td>\n",
       "      <td>-0.003129</td>\n",
       "    </tr>\n",
       "  </tbody>\n",
       "</table>\n",
       "</div>"
      ],
      "text/plain": [
       "                Open      High       Low     Close  Adj Close    Volume  \\\n",
       "Date                                                                      \n",
       "1999-01-22  1.750000  1.953125  1.552083  1.640625   1.523430  67867200   \n",
       "1999-01-25  1.770833  1.833333  1.640625  1.812500   1.683028  12762000   \n",
       "1999-01-26  1.833333  1.869792  1.645833  1.671875   1.552448   8580000   \n",
       "1999-01-27  1.677083  1.718750  1.583333  1.666667   1.547611   6109200   \n",
       "1999-01-28  1.666667  1.677083  1.651042  1.661458   1.542776   5688000   \n",
       "\n",
       "            amount_increasing  log_return  \n",
       "Date                                       \n",
       "1999-01-22                NaN         NaN  \n",
       "1999-01-25           0.094828    0.099630  \n",
       "1999-01-26          -0.084112   -0.080762  \n",
       "1999-01-27          -0.003125   -0.003121  \n",
       "1999-01-28          -0.003134   -0.003129  "
      ]
     },
     "execution_count": 16,
     "metadata": {},
     "output_type": "execute_result"
    }
   ],
   "source": [
    "import numpy as np\n",
    "nvda['log_return'] = np.log(nvda['Adj Close']/nvda['Adj Close'].shift(1))\n",
    "nvda.head()"
   ]
  },
  {
   "cell_type": "markdown",
   "metadata": {},
   "source": [
    "#### 3.请找出nvda股票涨幅最大的10天"
   ]
  },
  {
   "cell_type": "code",
   "execution_count": 17,
   "metadata": {
    "ExecuteTime": {
     "end_time": "2018-11-12T09:42:24.991239Z",
     "start_time": "2018-11-12T09:42:24.960527Z"
    }
   },
   "outputs": [
    {
     "data": {
      "text/html": [
       "<div>\n",
       "<style scoped>\n",
       "    .dataframe tbody tr th:only-of-type {\n",
       "        vertical-align: middle;\n",
       "    }\n",
       "\n",
       "    .dataframe tbody tr th {\n",
       "        vertical-align: top;\n",
       "    }\n",
       "\n",
       "    .dataframe thead th {\n",
       "        text-align: right;\n",
       "    }\n",
       "</style>\n",
       "<table border=\"1\" class=\"dataframe\">\n",
       "  <thead>\n",
       "    <tr style=\"text-align: right;\">\n",
       "      <th></th>\n",
       "      <th>Open</th>\n",
       "      <th>High</th>\n",
       "      <th>Low</th>\n",
       "      <th>Close</th>\n",
       "      <th>Adj Close</th>\n",
       "      <th>Volume</th>\n",
       "      <th>amount_increasing</th>\n",
       "      <th>log_return</th>\n",
       "    </tr>\n",
       "    <tr>\n",
       "      <th>Date</th>\n",
       "      <th></th>\n",
       "      <th></th>\n",
       "      <th></th>\n",
       "      <th></th>\n",
       "      <th></th>\n",
       "      <th></th>\n",
       "      <th></th>\n",
       "      <th></th>\n",
       "    </tr>\n",
       "  </thead>\n",
       "  <tbody>\n",
       "    <tr>\n",
       "      <th>1999-01-22</th>\n",
       "      <td>1.750000</td>\n",
       "      <td>1.953125</td>\n",
       "      <td>1.552083</td>\n",
       "      <td>1.640625</td>\n",
       "      <td>1.523430</td>\n",
       "      <td>67867200</td>\n",
       "      <td>NaN</td>\n",
       "      <td>NaN</td>\n",
       "    </tr>\n",
       "    <tr>\n",
       "      <th>1999-01-25</th>\n",
       "      <td>1.770833</td>\n",
       "      <td>1.833333</td>\n",
       "      <td>1.640625</td>\n",
       "      <td>1.812500</td>\n",
       "      <td>1.683028</td>\n",
       "      <td>12762000</td>\n",
       "      <td>0.094828</td>\n",
       "      <td>0.099630</td>\n",
       "    </tr>\n",
       "    <tr>\n",
       "      <th>1999-01-26</th>\n",
       "      <td>1.833333</td>\n",
       "      <td>1.869792</td>\n",
       "      <td>1.645833</td>\n",
       "      <td>1.671875</td>\n",
       "      <td>1.552448</td>\n",
       "      <td>8580000</td>\n",
       "      <td>-0.084112</td>\n",
       "      <td>-0.080762</td>\n",
       "    </tr>\n",
       "    <tr>\n",
       "      <th>1999-01-27</th>\n",
       "      <td>1.677083</td>\n",
       "      <td>1.718750</td>\n",
       "      <td>1.583333</td>\n",
       "      <td>1.666667</td>\n",
       "      <td>1.547611</td>\n",
       "      <td>6109200</td>\n",
       "      <td>-0.003125</td>\n",
       "      <td>-0.003121</td>\n",
       "    </tr>\n",
       "    <tr>\n",
       "      <th>1999-01-28</th>\n",
       "      <td>1.666667</td>\n",
       "      <td>1.677083</td>\n",
       "      <td>1.651042</td>\n",
       "      <td>1.661458</td>\n",
       "      <td>1.542776</td>\n",
       "      <td>5688000</td>\n",
       "      <td>-0.003134</td>\n",
       "      <td>-0.003129</td>\n",
       "    </tr>\n",
       "  </tbody>\n",
       "</table>\n",
       "</div>"
      ],
      "text/plain": [
       "                Open      High       Low     Close  Adj Close    Volume  \\\n",
       "Date                                                                      \n",
       "1999-01-22  1.750000  1.953125  1.552083  1.640625   1.523430  67867200   \n",
       "1999-01-25  1.770833  1.833333  1.640625  1.812500   1.683028  12762000   \n",
       "1999-01-26  1.833333  1.869792  1.645833  1.671875   1.552448   8580000   \n",
       "1999-01-27  1.677083  1.718750  1.583333  1.666667   1.547611   6109200   \n",
       "1999-01-28  1.666667  1.677083  1.651042  1.661458   1.542776   5688000   \n",
       "\n",
       "            amount_increasing  log_return  \n",
       "Date                                       \n",
       "1999-01-22                NaN         NaN  \n",
       "1999-01-25           0.094828    0.099630  \n",
       "1999-01-26          -0.084112   -0.080762  \n",
       "1999-01-27          -0.003125   -0.003121  \n",
       "1999-01-28          -0.003134   -0.003129  "
      ]
     },
     "execution_count": 17,
     "metadata": {},
     "output_type": "execute_result"
    },
    {
     "data": {
      "text/plain": [
       "Date\n",
       "2000-03-07    0.297824\n",
       "2003-05-09    0.248479\n",
       "2001-01-03    0.234824\n",
       "2016-11-11    0.229624\n",
       "2000-03-13    0.209380\n",
       "2000-12-22    0.204991\n",
       "2000-12-08    0.185930\n",
       "2000-04-05    0.182004\n",
       "2003-02-14    0.180233\n",
       "1999-08-19    0.175115\n",
       "Name: amount_increasing, dtype: float64"
      ]
     },
     "execution_count": 17,
     "metadata": {},
     "output_type": "execute_result"
    }
   ],
   "source": [
    "nvda['amount_increasing'] = (nvda['Adj Close']-nvda['Adj Close'].shift(1))/nvda['Adj Close']\n",
    "nvda_top = nvda['amount_increasing'].sort_values(ascending = False)\n",
    "nvda.head()\n",
    "nvda_top.head(10)"
   ]
  },
  {
   "cell_type": "markdown",
   "metadata": {},
   "source": [
    "#### 4. 将这十天的股票信息都输出来"
   ]
  },
  {
   "cell_type": "code",
   "execution_count": 18,
   "metadata": {
    "ExecuteTime": {
     "end_time": "2018-11-12T09:43:50.431075Z",
     "start_time": "2018-11-12T09:43:50.406360Z"
    }
   },
   "outputs": [
    {
     "data": {
      "text/html": [
       "<div>\n",
       "<style scoped>\n",
       "    .dataframe tbody tr th:only-of-type {\n",
       "        vertical-align: middle;\n",
       "    }\n",
       "\n",
       "    .dataframe tbody tr th {\n",
       "        vertical-align: top;\n",
       "    }\n",
       "\n",
       "    .dataframe thead th {\n",
       "        text-align: right;\n",
       "    }\n",
       "</style>\n",
       "<table border=\"1\" class=\"dataframe\">\n",
       "  <thead>\n",
       "    <tr style=\"text-align: right;\">\n",
       "      <th></th>\n",
       "      <th>Open</th>\n",
       "      <th>High</th>\n",
       "      <th>Low</th>\n",
       "      <th>Close</th>\n",
       "      <th>Adj Close</th>\n",
       "      <th>Volume</th>\n",
       "      <th>amount_increasing</th>\n",
       "      <th>log_return</th>\n",
       "    </tr>\n",
       "    <tr>\n",
       "      <th>Date</th>\n",
       "      <th></th>\n",
       "      <th></th>\n",
       "      <th></th>\n",
       "      <th></th>\n",
       "      <th></th>\n",
       "      <th></th>\n",
       "      <th></th>\n",
       "      <th></th>\n",
       "    </tr>\n",
       "  </thead>\n",
       "  <tbody>\n",
       "    <tr>\n",
       "      <th>2000-03-07</th>\n",
       "      <td>6.250000</td>\n",
       "      <td>7.270833</td>\n",
       "      <td>5.979167</td>\n",
       "      <td>6.942708</td>\n",
       "      <td>6.446771</td>\n",
       "      <td>48805200</td>\n",
       "      <td>0.297824</td>\n",
       "      <td>0.353572</td>\n",
       "    </tr>\n",
       "    <tr>\n",
       "      <th>2003-05-09</th>\n",
       "      <td>6.276667</td>\n",
       "      <td>7.176667</td>\n",
       "      <td>6.100000</td>\n",
       "      <td>7.123333</td>\n",
       "      <td>6.614493</td>\n",
       "      <td>230771400</td>\n",
       "      <td>0.248479</td>\n",
       "      <td>0.285656</td>\n",
       "    </tr>\n",
       "    <tr>\n",
       "      <th>2001-01-03</th>\n",
       "      <td>4.833333</td>\n",
       "      <td>6.572917</td>\n",
       "      <td>4.708333</td>\n",
       "      <td>6.520833</td>\n",
       "      <td>6.055031</td>\n",
       "      <td>22759200</td>\n",
       "      <td>0.234824</td>\n",
       "      <td>0.267650</td>\n",
       "    </tr>\n",
       "    <tr>\n",
       "      <th>2016-11-11</th>\n",
       "      <td>79.510002</td>\n",
       "      <td>88.769997</td>\n",
       "      <td>78.500000</td>\n",
       "      <td>87.970001</td>\n",
       "      <td>87.635475</td>\n",
       "      <td>54335100</td>\n",
       "      <td>0.229624</td>\n",
       "      <td>0.260876</td>\n",
       "    </tr>\n",
       "    <tr>\n",
       "      <th>2000-03-13</th>\n",
       "      <td>8.916667</td>\n",
       "      <td>12.500000</td>\n",
       "      <td>8.833333</td>\n",
       "      <td>12.437500</td>\n",
       "      <td>11.549053</td>\n",
       "      <td>60379200</td>\n",
       "      <td>0.209380</td>\n",
       "      <td>0.234938</td>\n",
       "    </tr>\n",
       "    <tr>\n",
       "      <th>2000-12-22</th>\n",
       "      <td>5.020833</td>\n",
       "      <td>6.375000</td>\n",
       "      <td>5.020833</td>\n",
       "      <td>5.843750</td>\n",
       "      <td>5.426314</td>\n",
       "      <td>23727000</td>\n",
       "      <td>0.204991</td>\n",
       "      <td>0.229402</td>\n",
       "    </tr>\n",
       "    <tr>\n",
       "      <th>2000-12-08</th>\n",
       "      <td>7.447917</td>\n",
       "      <td>8.333333</td>\n",
       "      <td>6.752600</td>\n",
       "      <td>8.291667</td>\n",
       "      <td>7.699371</td>\n",
       "      <td>21334800</td>\n",
       "      <td>0.185930</td>\n",
       "      <td>0.205709</td>\n",
       "    </tr>\n",
       "    <tr>\n",
       "      <th>2000-04-05</th>\n",
       "      <td>6.312500</td>\n",
       "      <td>8.125000</td>\n",
       "      <td>5.989583</td>\n",
       "      <td>7.640625</td>\n",
       "      <td>7.094833</td>\n",
       "      <td>15990000</td>\n",
       "      <td>0.182004</td>\n",
       "      <td>0.200898</td>\n",
       "    </tr>\n",
       "    <tr>\n",
       "      <th>2003-02-14</th>\n",
       "      <td>3.740000</td>\n",
       "      <td>4.016667</td>\n",
       "      <td>3.650000</td>\n",
       "      <td>4.013333</td>\n",
       "      <td>3.726649</td>\n",
       "      <td>88721100</td>\n",
       "      <td>0.180233</td>\n",
       "      <td>0.198735</td>\n",
       "    </tr>\n",
       "    <tr>\n",
       "      <th>1999-08-19</th>\n",
       "      <td>1.994792</td>\n",
       "      <td>2.364583</td>\n",
       "      <td>1.927083</td>\n",
       "      <td>2.260417</td>\n",
       "      <td>2.098948</td>\n",
       "      <td>49174800</td>\n",
       "      <td>0.175115</td>\n",
       "      <td>0.192511</td>\n",
       "    </tr>\n",
       "  </tbody>\n",
       "</table>\n",
       "</div>"
      ],
      "text/plain": [
       "                 Open       High        Low      Close  Adj Close     Volume  \\\n",
       "Date                                                                           \n",
       "2000-03-07   6.250000   7.270833   5.979167   6.942708   6.446771   48805200   \n",
       "2003-05-09   6.276667   7.176667   6.100000   7.123333   6.614493  230771400   \n",
       "2001-01-03   4.833333   6.572917   4.708333   6.520833   6.055031   22759200   \n",
       "2016-11-11  79.510002  88.769997  78.500000  87.970001  87.635475   54335100   \n",
       "2000-03-13   8.916667  12.500000   8.833333  12.437500  11.549053   60379200   \n",
       "2000-12-22   5.020833   6.375000   5.020833   5.843750   5.426314   23727000   \n",
       "2000-12-08   7.447917   8.333333   6.752600   8.291667   7.699371   21334800   \n",
       "2000-04-05   6.312500   8.125000   5.989583   7.640625   7.094833   15990000   \n",
       "2003-02-14   3.740000   4.016667   3.650000   4.013333   3.726649   88721100   \n",
       "1999-08-19   1.994792   2.364583   1.927083   2.260417   2.098948   49174800   \n",
       "\n",
       "            amount_increasing  log_return  \n",
       "Date                                       \n",
       "2000-03-07           0.297824    0.353572  \n",
       "2003-05-09           0.248479    0.285656  \n",
       "2001-01-03           0.234824    0.267650  \n",
       "2016-11-11           0.229624    0.260876  \n",
       "2000-03-13           0.209380    0.234938  \n",
       "2000-12-22           0.204991    0.229402  \n",
       "2000-12-08           0.185930    0.205709  \n",
       "2000-04-05           0.182004    0.200898  \n",
       "2003-02-14           0.180233    0.198735  \n",
       "1999-08-19           0.175115    0.192511  "
      ]
     },
     "execution_count": 18,
     "metadata": {},
     "output_type": "execute_result"
    }
   ],
   "source": [
    "nvda.sort_values(by= 'amount_increasing', ascending = False).head(10)"
   ]
  },
  {
   "cell_type": "markdown",
   "metadata": {},
   "source": [
    "#### 5把英伟达每个月最后一天的股价记录下来，做成一张新的月线图，然后把Adj Close画成一张图"
   ]
  },
  {
   "cell_type": "code",
   "execution_count": 23,
   "metadata": {
    "ExecuteTime": {
     "end_time": "2018-11-12T09:51:04.655195Z",
     "start_time": "2018-11-12T09:51:04.432727Z"
    }
   },
   "outputs": [
    {
     "data": {
      "text/plain": [
       "<matplotlib.axes._subplots.AxesSubplot object at 0x124becba8>"
      ]
     },
     "execution_count": 23,
     "metadata": {},
     "output_type": "execute_result"
    },
    {
     "data": {
      "image/png": "[encoded data removed]",
      "text/plain": [
       "<matplotlib.figure.Figure object at 0x1250e2d30>"
      ]
     },
     "metadata": {},
     "output_type": "display_data"
    }
   ],
   "source": [
    "import matplotlib.pyplot as plt\n",
    "%matplotlib inline\n",
    "\n",
    "nvda['year'] = nvda.index.year\n",
    "nvda['month'] = nvda.index.month\n",
    "year_month_group  = nvda.groupby(['year', 'month'])\n",
    "lastday_permonth = year_month_group.tail(1)\n",
    "lastday_permonth['Adj Close'].plot()"
   ]
  },
  {
   "cell_type": "markdown",
   "metadata": {},
   "source": [
    "#### 6.使用concat方法把英伟达的Adj Close与其他三只股票拼接在一起"
   ]
  },
  {
   "cell_type": "code",
   "execution_count": 27,
   "metadata": {
    "ExecuteTime": {
     "end_time": "2018-11-12T09:57:31.323531Z",
     "start_time": "2018-11-12T09:57:31.264712Z"
    }
   },
   "outputs": [
    {
     "data": {
      "text/html": [
       "<div>\n",
       "<style scoped>\n",
       "    .dataframe tbody tr th:only-of-type {\n",
       "        vertical-align: middle;\n",
       "    }\n",
       "\n",
       "    .dataframe tbody tr th {\n",
       "        vertical-align: top;\n",
       "    }\n",
       "\n",
       "    .dataframe thead th {\n",
       "        text-align: right;\n",
       "    }\n",
       "</style>\n",
       "<table border=\"1\" class=\"dataframe\">\n",
       "  <thead>\n",
       "    <tr style=\"text-align: right;\">\n",
       "      <th></th>\n",
       "      <th>nvda</th>\n",
       "      <th>apple</th>\n",
       "      <th>goog</th>\n",
       "      <th>df4</th>\n",
       "    </tr>\n",
       "    <tr>\n",
       "      <th>Date</th>\n",
       "      <th></th>\n",
       "      <th></th>\n",
       "      <th></th>\n",
       "      <th></th>\n",
       "    </tr>\n",
       "  </thead>\n",
       "  <tbody>\n",
       "    <tr>\n",
       "      <th>1980-12-12</th>\n",
       "      <td>NaN</td>\n",
       "      <td>0.423252</td>\n",
       "      <td>NaN</td>\n",
       "      <td>NaN</td>\n",
       "    </tr>\n",
       "    <tr>\n",
       "      <th>1980-12-15</th>\n",
       "      <td>NaN</td>\n",
       "      <td>0.401170</td>\n",
       "      <td>NaN</td>\n",
       "      <td>NaN</td>\n",
       "    </tr>\n",
       "    <tr>\n",
       "      <th>1980-12-16</th>\n",
       "      <td>NaN</td>\n",
       "      <td>0.371726</td>\n",
       "      <td>NaN</td>\n",
       "      <td>NaN</td>\n",
       "    </tr>\n",
       "    <tr>\n",
       "      <th>1980-12-17</th>\n",
       "      <td>NaN</td>\n",
       "      <td>0.380927</td>\n",
       "      <td>NaN</td>\n",
       "      <td>NaN</td>\n",
       "    </tr>\n",
       "    <tr>\n",
       "      <th>1980-12-18</th>\n",
       "      <td>NaN</td>\n",
       "      <td>0.391969</td>\n",
       "      <td>NaN</td>\n",
       "      <td>NaN</td>\n",
       "    </tr>\n",
       "  </tbody>\n",
       "</table>\n",
       "</div>"
      ],
      "text/plain": [
       "            nvda     apple  goog  df4\n",
       "Date                                 \n",
       "1980-12-12   NaN  0.423252   NaN  NaN\n",
       "1980-12-15   NaN  0.401170   NaN  NaN\n",
       "1980-12-16   NaN  0.371726   NaN  NaN\n",
       "1980-12-17   NaN  0.380927   NaN  NaN\n",
       "1980-12-18   NaN  0.391969   NaN  NaN"
      ]
     },
     "execution_count": 27,
     "metadata": {},
     "output_type": "execute_result"
    }
   ],
   "source": [
    "apple= pd.read_csv('APPLE.csv', index_col='Date', parse_dates=['Date'])\n",
    "goog = pd.read_csv('GOOG.csv', index_col='Date', parse_dates=['Date'])\n",
    "df4  = pd.read_csv('600028.SS.csv', index_col='Date', parse_dates=['Date'])\n",
    "\n",
    "Nvda = nvda['Adj Close']\n",
    "Apple = apple['Adj Close']\n",
    "Goog = goog['Adj Close']\n",
    "Df4 = df4['Adj Close']\n",
    "\n",
    "frame = [Nvda, Apple, Goog, Df4]\n",
    "\n",
    "total = pd.concat(frame, axis=1)\n",
    "total.columns = ['nvda','apple','goog','df4']\n",
    "total.head()"
   ]
  },
  {
   "cell_type": "markdown",
   "metadata": {},
   "source": [
    "#### 7.从Google有数据的那一天起开始画出四只股票的Adj Close折线图\n"
   ]
  },
  {
   "cell_type": "code",
   "execution_count": 33,
   "metadata": {
    "ExecuteTime": {
     "end_time": "2018-11-12T10:00:50.449204Z",
     "start_time": "2018-11-12T10:00:50.441513Z"
    }
   },
   "outputs": [
    {
     "data": {
      "text/plain": [
       "Timestamp('2004-08-19 00:00:00')"
      ]
     },
     "execution_count": 33,
     "metadata": {},
     "output_type": "execute_result"
    },
    {
     "data": {
      "text/plain": [
       "5978"
      ]
     },
     "execution_count": 33,
     "metadata": {},
     "output_type": "execute_result"
    }
   ],
   "source": [
    "goog_nan  =  total['goog'].dropna().index[0]\n",
    "goog_nan\n",
    "\n",
    "ix = total.index.get_loc(goog_nan)\n",
    "ix"
   ]
  },
  {
   "cell_type": "code",
   "execution_count": 37,
   "metadata": {
    "ExecuteTime": {
     "end_time": "2018-11-12T10:02:37.870597Z",
     "start_time": "2018-11-12T10:02:37.239698Z"
    }
   },
   "outputs": [
    {
     "data": {
      "text/plain": [
       "<matplotlib.axes._subplots.AxesSubplot object at 0x1266638d0>"
      ]
     },
     "execution_count": 37,
     "metadata": {},
     "output_type": "execute_result"
    },
    {
     "data": {
      "text/plain": [
       "<matplotlib.axes._subplots.AxesSubplot object at 0x1278fd748>"
      ]
     },
     "execution_count": 37,
     "metadata": {},
     "output_type": "execute_result"
    },
    {
     "data": {
      "text/plain": [
       "<matplotlib.axes._subplots.AxesSubplot object at 0x12837a358>"
      ]
     },
     "execution_count": 37,
     "metadata": {},
     "output_type": "execute_result"
    },
    {
     "data": {
      "image/png": "[encoded data removed]",
      "text/plain": [
       "<matplotlib.figure.Figure object at 0x12076f4e0>"
      ]
     },
     "metadata": {},
     "output_type": "display_data"
    },
    {
     "data": {
      "image/png": "[encoded data removed]",
      "text/plain": [
       "<matplotlib.figure.Figure object at 0x1271cb898>"
      ]
     },
     "metadata": {},
     "output_type": "display_data"
    },
    {
     "data": {
      "image/png": "[encoded data removed]",
      "text/plain": [
       "<matplotlib.figure.Figure object at 0x12833e048>"
      ]
     },
     "metadata": {},
     "output_type": "display_data"
    }
   ],
   "source": [
    "total[ix:].plot()\n",
    "total.iloc[ix:].plot()\n",
    "total.loc[goog_nan:].plot()"
   ]
  },
  {
   "cell_type": "code",
   "execution_count": null,
   "metadata": {},
   "outputs": [],
   "source": []
  }
 ],
 "metadata": {
  "kernelspec": {
   "display_name": "Python 3",
   "language": "python",
   "name": "python3"
  },
  "language_info": {
   "codemirror_mode": {
    "name": "ipython",
    "version": 3
   },
   "file_extension": ".py",
   "mimetype": "text/x-python",
   "name": "python",
   "nbconvert_exporter": "python",
   "pygments_lexer": "ipython3",
   "version": "3.6.4"
  }
 },
 "nbformat": 4,
 "nbformat_minor": 2
}
